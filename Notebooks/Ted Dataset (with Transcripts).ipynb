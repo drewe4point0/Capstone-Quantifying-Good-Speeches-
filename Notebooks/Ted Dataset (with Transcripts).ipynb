{
 "cells": [
  {
   "cell_type": "markdown",
   "id": "6d473637-2043-4877-8a17-aa523a2cd5da",
   "metadata": {},
   "source": [
    "# What Makes A Good Speech?\n",
    "\n",
    "From csv ted_talks_en.csv\n",
    "\n",
    "URL:  https://www.kaggle.com/datasets/miguelcorraljr/ted-ultimate-dataset/data\n",
    "\n",
    "Columns = 'talk_id', 'title', 'speaker_1', 'all_speakers', 'occupations', 'about_speakers', 'views', 'recorded_date', 'published_date', 'event', 'native_lang', 'available_lang', 'comments', 'duration', 'topics', 'related_talks', 'url', 'description', 'transcript'."
   ]
  },
  {
   "cell_type": "markdown",
   "id": "513cb8fb",
   "metadata": {},
   "source": [
    "Still Needed:\n",
    "- Intro\n",
    "- Data sets used\n",
    "- Data Dictionary\n",
    "\n",
    "\n",
    "Intro:\n",
    "# we have two csv files, one with the transcripts and one with the likes data.\n",
    "# we will import them both here and merge them into one dataframe\n",
    "transcript_df = pd.read_csv(\"TED Dataset #1 (n-4003) with Transcripts.csv\")\n",
    "likes_df = pd.read_csv(\"TED Dataset #2 (n=5701).csv\")\n"
   ]
  },
  {
   "cell_type": "markdown",
   "id": "2104f497-45c5-4b81-89ac-02ca27bdc98e",
   "metadata": {},
   "source": [
    "# Next Steps:\n",
    "(as of January 23rd, 2023)\n",
    "\n",
    "- Clean up the notebook for maximum transparency of workflow\n",
    "- Reassess next steps based on feedback and re-assessment of options given the scope of the project."
   ]
  },
  {
   "cell_type": "markdown",
   "id": "7ad451ab",
   "metadata": {},
   "source": [
    "# Data Dictionary\n",
    "\n"
   ]
  },
  {
   "cell_type": "markdown",
   "id": "661dafc6",
   "metadata": {},
   "source": [
    "# Table of Contents:\n",
    "\n",
    "1. Merging the DataFrames\n",
    "2. Data Cleaning\n",
    "3. Initial EDA\n",
    "4. Feature Engineering (Vectorizing Text)\n",
    "5. Model Building & Determining the Features of Highest Influence"
   ]
  },
  {
   "cell_type": "code",
   "execution_count": 51,
   "id": "b312ef91-a5ed-49e1-bbdc-b8f2377076d9",
   "metadata": {},
   "outputs": [],
   "source": [
    "# importing necessary libraries\n",
    "import pandas as pd\n",
    "import numpy as np \n",
    "import seaborn as sns \n",
    "import matplotlib.pyplot as plt \n",
    "import statsmodels.api as sm\n",
    "import re\n",
    "from sklearn.preprocessing import StandardScaler\n",
    "from sklearn.linear_model import LinearRegression\n",
    "from sklearn.linear_model import LogisticRegression\n",
    "from sklearn.model_selection import train_test_split\n",
    "from sklearn.metrics import r2_score\n",
    "import matplotlib.pyplot as plt\n",
    "from sklearn.preprocessing import StandardScaler\n",
    "from sklearn.preprocessing import MinMaxScaler\n",
    "from sklearn.preprocessing import RobustScaler\n",
    "from sklearn.feature_extraction.text import CountVectorizer\n",
    "from sklearn.preprocessing import MultiLabelBinarizer\n",
    "from sklearn.ensemble import RandomForestClassifier\n",
    "from sklearn.feature_extraction import text \n",
    "from nltk.tokenize import word_tokenize\n",
    "import string\n",
    "import ast"
   ]
  },
  {
   "cell_type": "markdown",
   "id": "3ac4316e",
   "metadata": {},
   "source": [
    "## 1. Merging the DataFrames"
   ]
  },
  {
   "cell_type": "code",
   "execution_count": 52,
   "id": "c3d8cf46-7001-4967-9ce6-123da80ec8e3",
   "metadata": {},
   "outputs": [],
   "source": [
    "# we have two csv files, one with the transcripts and one with the likes data.\n",
    "# we will import them both here and merge them into one dataframe\n",
    "transcript_df = pd.read_csv(\"TED Dataset #1 (n-4003) with Transcripts.csv\")\n",
    "likes_df = pd.read_csv(\"TED Dataset #2 (n=5701).csv\")"
   ]
  },
  {
   "cell_type": "code",
   "execution_count": 53,
   "id": "0dd55cd2-7e44-45ab-8958-9ca5292833af",
   "metadata": {},
   "outputs": [],
   "source": [
    "# options to display all columns and rows\n",
    "pd.options.display.max_rows = 5\n",
    "pd.options.display.max_columns = 30\n",
    "pd.options.display.max_colwidth = 30"
   ]
  },
  {
   "cell_type": "code",
   "execution_count": 54,
   "id": "88957fd8-ed49-4e4d-9b32-bf3261d1dea0",
   "metadata": {},
   "outputs": [
    {
     "data": {
      "text/html": [
       "<div>\n",
       "<style scoped>\n",
       "    .dataframe tbody tr th:only-of-type {\n",
       "        vertical-align: middle;\n",
       "    }\n",
       "\n",
       "    .dataframe tbody tr th {\n",
       "        vertical-align: top;\n",
       "    }\n",
       "\n",
       "    .dataframe thead th {\n",
       "        text-align: right;\n",
       "    }\n",
       "</style>\n",
       "<table border=\"1\" class=\"dataframe\">\n",
       "  <thead>\n",
       "    <tr style=\"text-align: right;\">\n",
       "      <th></th>\n",
       "      <th>talk_id</th>\n",
       "      <th>title</th>\n",
       "      <th>speaker_1</th>\n",
       "      <th>all_speakers</th>\n",
       "      <th>occupations</th>\n",
       "      <th>about_speakers</th>\n",
       "      <th>views</th>\n",
       "      <th>recorded_date</th>\n",
       "      <th>published_date</th>\n",
       "      <th>event</th>\n",
       "      <th>native_lang</th>\n",
       "      <th>available_lang</th>\n",
       "      <th>comments</th>\n",
       "      <th>duration</th>\n",
       "      <th>topics</th>\n",
       "      <th>related_talks</th>\n",
       "      <th>url</th>\n",
       "      <th>description</th>\n",
       "      <th>transcript</th>\n",
       "    </tr>\n",
       "  </thead>\n",
       "  <tbody>\n",
       "    <tr>\n",
       "      <th>0</th>\n",
       "      <td>1</td>\n",
       "      <td>Averting the climate crisis</td>\n",
       "      <td>Al Gore</td>\n",
       "      <td>{0: 'Al Gore'}</td>\n",
       "      <td>{0: ['climate advocate']}</td>\n",
       "      <td>{0: 'Nobel Laureate Al Gor...</td>\n",
       "      <td>3523392</td>\n",
       "      <td>2006-02-25</td>\n",
       "      <td>2006-06-27</td>\n",
       "      <td>TED2006</td>\n",
       "      <td>en</td>\n",
       "      <td>['ar', 'bg', 'cs', 'de', '...</td>\n",
       "      <td>272.0</td>\n",
       "      <td>977</td>\n",
       "      <td>['alternative energy', 'ca...</td>\n",
       "      <td>{243: 'New thinking on the...</td>\n",
       "      <td>https://www.ted.com/talks/...</td>\n",
       "      <td>With the same humor and hu...</td>\n",
       "      <td>Thank you so much, Chris. ...</td>\n",
       "    </tr>\n",
       "    <tr>\n",
       "      <th>1</th>\n",
       "      <td>92</td>\n",
       "      <td>The best stats you've ever...</td>\n",
       "      <td>Hans Rosling</td>\n",
       "      <td>{0: 'Hans Rosling'}</td>\n",
       "      <td>{0: ['global health expert...</td>\n",
       "      <td>{0: 'In Hans Rosling’s han...</td>\n",
       "      <td>14501685</td>\n",
       "      <td>2006-02-22</td>\n",
       "      <td>2006-06-27</td>\n",
       "      <td>TED2006</td>\n",
       "      <td>en</td>\n",
       "      <td>['ar', 'az', 'bg', 'bn', '...</td>\n",
       "      <td>628.0</td>\n",
       "      <td>1190</td>\n",
       "      <td>['Africa', 'Asia', 'Google...</td>\n",
       "      <td>{2056: \"Own your body's da...</td>\n",
       "      <td>https://www.ted.com/talks/...</td>\n",
       "      <td>You've never seen data pre...</td>\n",
       "      <td>About 10 years ago, I took...</td>\n",
       "    </tr>\n",
       "    <tr>\n",
       "      <th>2</th>\n",
       "      <td>7</td>\n",
       "      <td>Simplicity sells</td>\n",
       "      <td>David Pogue</td>\n",
       "      <td>{0: 'David Pogue'}</td>\n",
       "      <td>{0: ['technology columnist']}</td>\n",
       "      <td>{0: 'David Pogue is the pe...</td>\n",
       "      <td>1920832</td>\n",
       "      <td>2006-02-24</td>\n",
       "      <td>2006-06-27</td>\n",
       "      <td>TED2006</td>\n",
       "      <td>en</td>\n",
       "      <td>['ar', 'bg', 'de', 'el', '...</td>\n",
       "      <td>124.0</td>\n",
       "      <td>1286</td>\n",
       "      <td>['computers', 'entertainme...</td>\n",
       "      <td>{1725: '10 top time-saving...</td>\n",
       "      <td>https://www.ted.com/talks/...</td>\n",
       "      <td>New York Times columnist D...</td>\n",
       "      <td>(Music: \"The Sound of Sile...</td>\n",
       "    </tr>\n",
       "  </tbody>\n",
       "</table>\n",
       "</div>"
      ],
      "text/plain": [
       "   talk_id                          title     speaker_1         all_speakers  \\\n",
       "0        1    Averting the climate crisis       Al Gore       {0: 'Al Gore'}   \n",
       "1       92  The best stats you've ever...  Hans Rosling  {0: 'Hans Rosling'}   \n",
       "2        7               Simplicity sells   David Pogue   {0: 'David Pogue'}   \n",
       "\n",
       "                     occupations                 about_speakers     views  \\\n",
       "0      {0: ['climate advocate']}  {0: 'Nobel Laureate Al Gor...   3523392   \n",
       "1  {0: ['global health expert...  {0: 'In Hans Rosling’s han...  14501685   \n",
       "2  {0: ['technology columnist']}  {0: 'David Pogue is the pe...   1920832   \n",
       "\n",
       "  recorded_date published_date    event native_lang  \\\n",
       "0    2006-02-25     2006-06-27  TED2006          en   \n",
       "1    2006-02-22     2006-06-27  TED2006          en   \n",
       "2    2006-02-24     2006-06-27  TED2006          en   \n",
       "\n",
       "                  available_lang  comments  duration  \\\n",
       "0  ['ar', 'bg', 'cs', 'de', '...     272.0       977   \n",
       "1  ['ar', 'az', 'bg', 'bn', '...     628.0      1190   \n",
       "2  ['ar', 'bg', 'de', 'el', '...     124.0      1286   \n",
       "\n",
       "                          topics                  related_talks  \\\n",
       "0  ['alternative energy', 'ca...  {243: 'New thinking on the...   \n",
       "1  ['Africa', 'Asia', 'Google...  {2056: \"Own your body's da...   \n",
       "2  ['computers', 'entertainme...  {1725: '10 top time-saving...   \n",
       "\n",
       "                             url                    description  \\\n",
       "0  https://www.ted.com/talks/...  With the same humor and hu...   \n",
       "1  https://www.ted.com/talks/...  You've never seen data pre...   \n",
       "2  https://www.ted.com/talks/...  New York Times columnist D...   \n",
       "\n",
       "                      transcript  \n",
       "0  Thank you so much, Chris. ...  \n",
       "1  About 10 years ago, I took...  \n",
       "2  (Music: \"The Sound of Sile...  "
      ]
     },
     "execution_count": 54,
     "metadata": {},
     "output_type": "execute_result"
    }
   ],
   "source": [
    "# viewing the first 3 rows of the transcript dataframe\n",
    "transcript_df.head(3)"
   ]
  },
  {
   "cell_type": "code",
   "execution_count": 55,
   "id": "92f1fc0d",
   "metadata": {},
   "outputs": [
    {
     "data": {
      "text/html": [
       "<div>\n",
       "<style scoped>\n",
       "    .dataframe tbody tr th:only-of-type {\n",
       "        vertical-align: middle;\n",
       "    }\n",
       "\n",
       "    .dataframe tbody tr th {\n",
       "        vertical-align: top;\n",
       "    }\n",
       "\n",
       "    .dataframe thead th {\n",
       "        text-align: right;\n",
       "    }\n",
       "</style>\n",
       "<table border=\"1\" class=\"dataframe\">\n",
       "  <thead>\n",
       "    <tr style=\"text-align: right;\">\n",
       "      <th></th>\n",
       "      <th>talk_id</th>\n",
       "      <th>title</th>\n",
       "      <th>speaker</th>\n",
       "      <th>recorded_date</th>\n",
       "      <th>published_date</th>\n",
       "      <th>event</th>\n",
       "      <th>duration</th>\n",
       "      <th>views</th>\n",
       "      <th>likes</th>\n",
       "    </tr>\n",
       "  </thead>\n",
       "  <tbody>\n",
       "    <tr>\n",
       "      <th>0</th>\n",
       "      <td>1</td>\n",
       "      <td>Averting the climate crisis</td>\n",
       "      <td>Al Gore</td>\n",
       "      <td>2006-02-25</td>\n",
       "      <td>2006-06-27</td>\n",
       "      <td>TED2006</td>\n",
       "      <td>957</td>\n",
       "      <td>3681537</td>\n",
       "      <td>110000</td>\n",
       "    </tr>\n",
       "    <tr>\n",
       "      <th>1</th>\n",
       "      <td>7</td>\n",
       "      <td>Simplicity sells</td>\n",
       "      <td>David Pogue</td>\n",
       "      <td>2006-02-24</td>\n",
       "      <td>2006-06-27</td>\n",
       "      <td>TED2006</td>\n",
       "      <td>1266</td>\n",
       "      <td>2012797</td>\n",
       "      <td>60000</td>\n",
       "    </tr>\n",
       "    <tr>\n",
       "      <th>2</th>\n",
       "      <td>53</td>\n",
       "      <td>Greening the ghetto</td>\n",
       "      <td>Majora Carter</td>\n",
       "      <td>2006-02-26</td>\n",
       "      <td>2006-06-27</td>\n",
       "      <td>TED2006</td>\n",
       "      <td>1096</td>\n",
       "      <td>3006315</td>\n",
       "      <td>90000</td>\n",
       "    </tr>\n",
       "  </tbody>\n",
       "</table>\n",
       "</div>"
      ],
      "text/plain": [
       "   talk_id                        title        speaker recorded_date  \\\n",
       "0        1  Averting the climate crisis        Al Gore    2006-02-25   \n",
       "1        7             Simplicity sells    David Pogue    2006-02-24   \n",
       "2       53          Greening the ghetto  Majora Carter    2006-02-26   \n",
       "\n",
       "  published_date    event  duration    views   likes  \n",
       "0     2006-06-27  TED2006       957  3681537  110000  \n",
       "1     2006-06-27  TED2006      1266  2012797   60000  \n",
       "2     2006-06-27  TED2006      1096  3006315   90000  "
      ]
     },
     "execution_count": 55,
     "metadata": {},
     "output_type": "execute_result"
    }
   ],
   "source": [
    "# viewing the first 3 rows of the likes dataframe\n",
    "likes_df.head(3)"
   ]
  },
  {
   "cell_type": "code",
   "execution_count": 56,
   "id": "bcea0b18",
   "metadata": {},
   "outputs": [
    {
     "name": "stdout",
     "output_type": "stream",
     "text": [
      "(4005, 19)\n",
      "(5701, 9)\n"
     ]
    }
   ],
   "source": [
    "print(transcript_df.shape)\n",
    "print(likes_df.shape)"
   ]
  },
  {
   "cell_type": "markdown",
   "id": "3e4bbedb",
   "metadata": {},
   "source": [
    "There are 4005 rows in the transcipts dataframe.  As this dataframe has the transcript data we wish to use, we will be limited to at least that number of samples after the merge.\n",
    "\n",
    "We will merge the dataframes to obtain [from the larger 'likes' dataframe] the likes and (updated) views columns. \n",
    "\n",
    "Lets investigate how many times each dataframe contains the same primary key to merge on - this will tell us how many rows of data we will actually have to work with after the merge.  \n",
    "\n",
    "#### Investigating how our data will look after merging:\n",
    "\n",
    "Calculating the matches of talk_id (our primary key)."
   ]
  },
  {
   "cell_type": "code",
   "execution_count": 57,
   "id": "c9223718",
   "metadata": {},
   "outputs": [
    {
     "name": "stdout",
     "output_type": "stream",
     "text": [
      "The talk_id's are not unique in both dataframes\n",
      "There are a total of: 3996 matching unique talk_id's in the likes dataframe.  This is how many rows we will have in our merged dataframe.\n",
      "There are a total of:  9 Missing in likes_df: {323, 45412, 2405, 2127, 3632, 2577, 2453, 2102, 347}\n",
      "There are a total of:  1705 Missing in transcripts_df: {40965, 98324, 24, 8225, 57377, 57378, 81960, 81961, 81962, 81963, 90154, 90162, 81988, 98381, 98383, 81999, 82000, 82001, 82002, 82003, 82004, 65622, 82005, 82006, 73824, 73825, 82027, 57461, 41093, 82056, 82057, 138, 82058, 169, 90282, 49324, 82092, 82094, 82095, 82093, 90287, 90288, 73908, 186, 90330, 73953, 73954, 8424, 8425, 8426, 8427, 8428, 8429, 49391, 49392, 49394, 49395, 49399, 98559, 82179, 265, 74002, 74003, 74006, 98590, 98591, 65825, 290, 90404, 90405, 49450, 82218, 24874, 24876, 65856, 74051, 65876, 65877, 65878, 65879, 90453, 65881, 98662, 82289, 41330, 82290, 65915, 82299, 82300, 82301, 82302, 16778, 16779, 8590, 82318, 8592, 98706, 98707, 74131, 82323, 65962, 74155, 16820, 16827, 65984, 65986, 82380, 74189, 74191, 74192, 74199, 478, 66033, 66034, 90637, 25109, 66072, 98843, 541, 66085, 66088, 74281, 74282, 66092, 90672, 74296, 90685, 66113, 581, 82506, 16983, 66136, 90739, 74357, 82549, 631, 74360, 82557, 82558, 82559, 17035, 17038, 82590, 672, 74405, 82609, 66235, 66238, 66239, 90821, 720, 721, 722, 90833, 90834, 730, 732, 733, 737, 745, 746, 747, 74478, 756, 66299, 8955, 775, 90887, 784, 795, 33565, 798, 806, 66344, 82732, 82733, 816, 66356, 66357, 66358, 66366, 832, 840, 90954, 90955, 857, 50009, 50010, 66401, 870, 82791, 82792, 82797, 74616, 17280, 74634, 50061, 50062, 66455, 66457, 66458, 923, 91039, 931, 74667, 943, 41903, 41904, 41905, 41906, 74676, 41907, 41908, 41909, 41911, 41910, 953, 41912, 41913, 41914, 41915, 41916, 91066, 91078, 66505, 74697, 91082, 982, 82909, 82920, 33777, 82946, 66563, 66564, 82956, 1038, 82964, 74773, 66614, 66626, 66642, 83026, 74838, 83031, 66648, 74840, 66650, 66654, 42084, 42086, 42087, 83053, 66681, 1151, 58498, 33923, 1157, 58515, 66711, 66719, 74913, 74915, 66725, 83110, 83111, 66733, 91334, 66761, 1225, 66762, 25805, 83167, 1254, 83177, 83178, 83179, 83180, 91371, 91373, 66800, 66801, 9465, 9466, 9467, 9468, 9469, 9470, 9471, 9472, 66817, 9474, 66819, 66820, 9475, 83205, 66828, 66829, 83223, 66840, 66841, 9500, 9501, 9502, 9503, 9504, 9505, 9506, 9507, 1316, 9508, 9509, 9510, 9512, 50473, 75050, 91428, 66869, 66870, 66872, 83259, 1340, 83262, 83263, 66881, 83265, 83266, 1358, 66907, 91495, 91496, 66921, 66922, 66923, 66924, 66925, 91497, 75119, 91509, 66939, 66940, 66942, 66943, 66944, 66945, 66946, 66947, 66948, 66949, 66950, 66951, 91521, 91524, 66954, 91525, 66956, 91526, 9614, 91528, 50576, 58762, 66962, 66963, 66964, 25999, 66966, 26010, 83359, 75168, 83364, 75173, 75174, 75175, 66987, 42422, 91602, 83413, 83420, 67043, 67046, 67047, 75257, 75268, 67078, 67083, 75276, 75277, 75294, 91679, 83493, 83495, 91710, 91711, 50758, 75337, 83530, 83531, 83536, 83537, 83538, 83539, 83540, 18011, 67172, 67186, 67188, 67189, 67192, 1662, 67208, 26256, 91794, 67235, 67238, 67239, 67240, 67241, 67242, 67243, 67268, 75479, 91866, 91867, 67293, 75488, 83686, 75498, 59157, 83756, 83757, 10032, 10038, 83767, 67384, 10039, 67382, 10041, 10042, 10043, 10044, 10045, 10046, 75585, 59202, 91980, 75605, 91991, 91995, 75615, 67426, 67427, 67428, 67429, 67430, 34675, 67471, 67478, 83879, 92073, 92074, 51149, 83931, 75762, 67581, 67583, 67584, 75778, 67588, 67592, 10263, 75824, 75825, 75831, 92223, 75845, 84056, 92254, 92266, 92282, 10363, 10364, 10365, 10366, 10367, 10368, 10369, 10370, 10371, 10372, 10373, 75901, 10375, 10377, 84107, 84108, 26767, 84121, 84122, 67740, 67741, 67748, 84145, 92343, 75973, 84182, 67799, 84183, 84187, 84188, 84189, 84216, 84223, 76064, 67872, 26919, 26920, 10546, 10548, 92468, 67894, 67898, 92474, 10556, 67900, 92477, 10561, 18755, 10565, 10569, 18762, 10572, 10574, 10576, 18769, 18768, 2386, 10578, 51540, 18774, 76129, 76130, 18802, 18808, 18809, 18810, 18811, 18812, 18813, 10622, 18814, 18815, 18816, 18817, 92547, 27022, 84368, 84369, 84370, 43411, 10644, 43414, 18845, 76207, 76208, 76209, 76210, 76211, 76212, 76213, 76214, 76215, 76216, 76217, 76218, 76219, 76220, 76221, 76222, 76223, 92611, 92616, 68072, 68078, 76271, 76272, 51699, 68118, 68119, 68120, 68121, 68122, 84503, 68125, 68126, 68127, 27172, 76335, 51780, 68165, 51783, 68177, 27220, 84571, 19041, 19042, 19043, 19044, 68197, 19045, 19048, 19057, 92787, 19061, 92790, 92791, 19072, 43649, 84611, 84612, 68236, 19092, 2710, 2717, 19101, 68257, 19115, 84652, 84651, 60085, 19126, 19129, 19133, 84669, 84670, 19136, 92863, 19138, 92864, 35526, 51936, 51937, 51938, 27376, 27378, 27379, 27380, 27381, 27382, 76541, 68351, 35607, 35611, 84765, 84766, 35620, 35622, 84818, 76634, 52064, 76647, 68457, 68458, 84850, 84885, 60319, 76707, 76708, 68519, 84912, 84913, 19408, 84953, 84954, 84955, 52189, 93188, 93192, 68647, 68648, 76841, 27691, 62494, 76863, 60479, 93269, 93270, 93271, 60504, 93272, 93273, 93274, 93281, 68725, 35958, 68727, 68728, 68726, 68729, 68739, 76948, 93333, 93334, 27801, 60581, 93350, 93349, 93352, 60589, 68803, 27845, 19659, 93388, 3280, 77010, 85220, 77043, 19702, 68856, 52476, 85259, 85260, 19729, 85266, 85267, 19752, 77097, 27953, 77111, 19768, 68920, 68921, 19772, 68927, 68928, 52545, 19784, 19785, 77143, 68952, 77144, 77145, 77146, 19799, 19805, 19808, 19810, 44387, 44388, 19816, 19822, 68975, 68976, 19827, 19828, 93560, 68987, 77207, 77209, 77210, 77211, 77212, 77213, 77214, 77216, 77218, 69036, 85424, 85425, 19891, 19892, 19893, 36284, 78861, 69094, 93675, 3584, 69139, 77338, 77339, 36405, 36407, 85568, 44608, 52807, 93770, 85588, 3696, 3699, 85658, 77478, 61113, 11974, 69330, 69333, 77552, 69383, 69384, 69385, 77594, 85786, 77606, 69418, 77628, 61253, 53086, 53087, 53088, 53089, 53090, 53099, 53100, 61300, 61304, 77702, 77709, 77711, 85905, 36760, 36765, 4003, 53155, 53156, 36809, 94157, 77795, 69606, 77800, 20461, 20462, 85999, 86000, 20463, 20464, 20465, 20466, 20467, 20468, 20469, 20470, 53235, 69647, 69659, 69661, 69662, 86061, 86062, 86063, 4144, 86064, 94273, 12356, 36933, 53326, 69712, 45137, 94293, 61548, 61550, 61551, 77949, 86145, 4233, 37004, 86167, 69784, 69785, 77981, 94368, 78004, 78005, 69869, 45300, 86267, 53502, 86285, 86287, 20756, 78106, 69931, 69932, 69933, 53581, 53586, 53587, 53588, 94546, 78167, 78168, 78169, 78170, 45409, 45410, 86387, 61812, 70037, 94615, 70043, 61863, 94631, 94633, 94637, 70086, 70091, 61900, 61902, 61903, 61904, 61905, 94694, 78312, 70124, 94717, 86532, 86534, 86535, 86536, 12811, 12812, 12814, 12816, 12818, 12824, 86567, 78378, 78380, 94784, 70229, 70235, 86619, 94837, 78455, 94839, 94843, 62085, 12936, 12946, 21152, 12963, 12966, 12971, 12972, 12979, 70327, 12988, 86722, 78537, 78543, 13014, 13015, 70360, 70361, 70362, 70363, 70364, 13017, 13018, 13019, 13020, 13021, 13026, 13027, 13024, 13025, 13028, 70380, 86764, 94959, 4854, 62199, 70403, 45839, 70428, 62238, 62265, 62272, 62273, 95046, 95047, 62313, 21354, 78705, 21381, 95122, 78775, 75902, 86973, 78804, 37851, 37852, 37870, 87042, 87043, 29702, 62470, 5129, 5130, 5131, 5132, 5133, 5134, 5135, 5136, 5137, 5138, 5139, 5140, 5141, 5142, 5143, 5144, 5145, 5146, 5147, 5148, 5149, 5150, 5151, 5152, 5153, 5154, 5155, 5156, 5157, 5158, 5159, 5160, 5161, 13345, 62503, 62504, 78894, 54322, 62542, 87126, 95350, 95351, 70777, 70778, 70779, 62592, 95364, 70789, 95365, 87202, 87203, 54443, 38077, 87245, 87246, 62679, 95451, 87265, 70887, 70888, 21743, 95500, 5392, 62738, 95520, 79143, 79152, 62790, 62791, 87379, 95583, 87396, 95588, 95599, 95601, 46455, 62845, 71043, 71046, 21903, 62865, 21906, 62866, 21909, 21911, 21916, 21922, 21924, 21925, 95654, 95655, 21928, 87464, 21930, 79275, 21933, 21936, 21937, 21940, 87481, 87482, 87483, 87484, 87485, 79294, 62914, 46532, 46533, 5575, 79305, 46540, 21970, 95708, 95709, 95710, 95711, 95714, 62947, 95723, 46579, 46584, 13830, 30217, 71182, 62997, 95765, 87584, 71205, 71210, 71211, 71212, 71213, 71214, 79408, 71231, 79424, 71233, 71234, 71235, 79425, 71237, 71238, 30298, 87645, 30307, 95866, 63106, 63120, 71355, 54971, 63172, 87756, 95948, 95949, 79570, 71385, 71407, 71409, 87806, 87807, 63241, 63242, 30484, 55061, 96034, 87853, 63280, 63294, 38719, 71487, 63295, 87878, 87879, 63318, 71516, 71521, 5991, 55143, 63345, 87933, 6017, 6018, 6019, 79747, 6021, 79748, 63363, 6027, 79756, 6032, 79766, 79767, 79768, 6056, 63401, 6059, 96171, 6061, 6063, 6069, 30664, 96209, 63459, 96254, 96255, 79873, 79874, 96257, 79878, 63502, 55319, 71706, 88119, 88120, 88121, 88135, 96335, 63575, 79961, 63589, 79987, 79996, 79998, 63622, 96395, 96396, 6292, 88219, 88220, 63652, 63654, 63655, 63666, 88243, 88247, 80056, 63673, 63674, 88251, 88259, 88261, 63685, 96462, 71900, 80095, 80103, 80104, 96491, 63727, 63728, 63729, 80115, 96515, 96516, 63749, 80136, 14609, 14611, 14612, 39192, 63775, 63786, 96563, 96575, 63812, 63813, 63815, 63817, 96589, 96590, 96591, 96592, 72025, 88427, 63852, 63853, 96622, 63893, 63894, 80282, 80283, 72094, 63918, 63919, 63920, 96686, 88515, 88516, 6598, 39384, 80355, 80356, 63989, 72185, 72186, 63996, 63997, 31234, 31236, 31237, 31238, 31239, 31241, 31242, 31243, 31244, 31245, 80405, 88598, 88608, 64034, 64035, 64036, 64037, 64040, 80431, 72243, 72244, 72245, 64051, 80453, 72306, 88690, 80509, 31361, 88741, 72363, 64173, 64182, 96950, 64185, 96953, 64196, 64206, 64207, 64208, 88795, 6880, 88833, 88834, 88835, 72454, 23306, 88842, 23308, 88843, 23313, 23314, 23315, 23318, 23324, 23325, 72493, 72494, 80685, 80686, 88883, 88884, 88889, 88890, 97086, 97089, 64338, 47957, 88919, 80733, 80734, 23393, 64353, 64354, 72552, 64360, 64361, 88952, 23419, 80768, 97159, 97160, 7050, 97168, 64405, 64407, 64418, 64427, 64428, 80818, 80820, 64437, 64439, 80824, 80827, 64443, 64458, 80843, 31691, 89043, 89044, 97240, 7150, 64504, 64511, 80899, 64516, 64520, 89110, 64534, 97314, 97315, 64548, 64549, 64550, 80940, 89147, 64571, 31810, 64584, 64585, 31827, 97364, 64598, 97368, 72797, 64613, 72807, 89208, 72829, 97407, 97408, 97410, 97411, 97413, 72870, 64679, 64686, 89264, 89265, 64693, 64723, 64730, 64731, 64732, 23776, 72933, 97510, 89319, 23792, 97536, 64769, 64771, 97539, 64774, 81160, 64776, 23823, 15640, 23833, 64792, 72988, 72989, 72994, 32034, 89394, 64822, 64823, 64824, 81212, 73025, 89409, 73027, 23875, 64835, 64836, 15693, 15694, 15696, 15697, 23888, 15699, 15702, 15703, 15707, 15716, 73063, 89448, 81258, 64886, 97661, 97662, 23943, 64911, 64912, 64914, 64915, 64916, 23959, 23969, 97698, 89514, 64938, 81336, 81338, 23995, 23997, 64966, 89545, 64970, 89559, 81368, 89562, 89568, 81385, 81386, 81387, 81388, 81389, 81390, 89582, 24051, 81396, 97780, 81405, 24062, 89599, 97791, 97793, 97794, 65030, 73225, 89610, 73231, 89615, 65043, 81428, 24084, 65044, 65045, 24088, 65046, 65047, 65048, 24096, 65056, 65057, 65058, 65059, 65060, 65061, 65062, 65063, 65064, 65065, 81451, 65066, 73261, 65067, 65068, 65069, 65070, 65073, 65074, 65075, 81461, 89664, 81477, 97862, 89673, 89676, 81501, 24157, 89707, 73325, 89709, 89710, 65136, 65137, 65139, 97915, 97916, 73346, 73347, 24200, 24203, 7825, 32413, 65188, 81573, 81574, 65189, 81576, 89768, 65191, 65193, 81580, 24250, 89789, 81609, 24269, 65233, 24289, 73443, 73444, 65257, 65272, 65273, 65279, 81664, 65280, 40709, 73480, 73481, 65292, 65294, 81681, 65297, 24341, 24346, 89893, 73511, 81706, 57131, 40753, 57139, 89909, 81718, 73530, 89915, 81727, 81728, 81731, 73540, 81732, 81733, 65351, 65354, 65355, 65356, 73553, 73555, 24411, 24412, 81757, 24415, 24420, 24423, 24424, 24425, 24426, 65384, 24428, 32617, 65389, 89967, 24432, 65390, 89970, 89971, 65391, 65392, 65393, 65394, 65396, 65397, 73594, 81786, 81787, 81788, 81789, 81791, 73599, 81790, 81792, 81793, 73604, 65404, 89992, 8079, 65429, 90008, 65432, 81821, 65437, 65438, 65439, 65444, 65445, 65446, 65447, 8107, 8108, 57260, 24500, 81847, 98250, 13016, 8147, 8148, 8149, 98260, 8152, 8153, 8154, 49115, 8156, 8158, 73703, 81896, 24555, 90094, 8179, 73716, 98295, 73722}\n"
     ]
    }
   ],
   "source": [
    "# the dataframe with the transcripts has 4003 rows and 3 columns.  How many rows will we have in our merged dataframe?\n",
    "# to do this, lets check to make sure that the talk_id's are unique in the likes dataframe, \n",
    "# and check how many talk_id's in our smaller \"likes_df\" match those in our larger \"transcript_df\".  This whill show us, assuming all other information is there, how many rows we will have in our merged dataframe.\n",
    "\n",
    "# extracting the unique talk_id's from both dataframes\n",
    "unique_likes = set(likes_df['talk_id'].unique())\n",
    "unique_transcripts = set(transcript_df['talk_id'].unique())\n",
    "matching_talk_ids = unique_likes & unique_transcripts\n",
    "\n",
    "# checking to see if the talk_id's are unique in the likes dataframe\n",
    "if unique_likes == unique_transcripts:\n",
    "    print(\"The talk_id's are unique in both dataframes\")\n",
    "    print(\"There are a total of:\", len(matching_talk_ids), \"matching unique talk_id's in the likes dataframe.  This is how many rows we will have in our merged dataframe.\")\n",
    "else:\n",
    "    print(\"The talk_id's are not unique in both dataframes\")\n",
    "    print(\"There are a total of:\", len(matching_talk_ids), \"matching unique talk_id's in the likes dataframe.  This is how many rows we will have in our merged dataframe.\")\n",
    "\n",
    "    # finding out which 'talk_id's are different between the two dataframes\n",
    "    missing_in_likes = unique_transcripts - unique_likes\n",
    "    missing_in_transcripts = unique_likes - unique_transcripts\n",
    "\n",
    "    print(\"There are a total of: \", len(missing_in_likes), \"Missing in likes_df:\", missing_in_likes)\n",
    "    print(\"There are a total of: \", len(missing_in_transcripts), \"Missing in transcripts_df:\", missing_in_transcripts)"
   ]
  },
  {
   "cell_type": "markdown",
   "id": "b05b3945",
   "metadata": {},
   "source": [
    "Since there are 3996 matching talk ID's this is how many talks we have to analyze (prior to data cleaning and pre-processing)."
   ]
  },
  {
   "cell_type": "markdown",
   "id": "e1e1420a",
   "metadata": {},
   "source": [
    "#### Merging the dataframes:"
   ]
  },
  {
   "cell_type": "code",
   "execution_count": 58,
   "id": "ba10d452",
   "metadata": {},
   "outputs": [
    {
     "data": {
      "text/html": [
       "<div>\n",
       "<style scoped>\n",
       "    .dataframe tbody tr th:only-of-type {\n",
       "        vertical-align: middle;\n",
       "    }\n",
       "\n",
       "    .dataframe tbody tr th {\n",
       "        vertical-align: top;\n",
       "    }\n",
       "\n",
       "    .dataframe thead th {\n",
       "        text-align: right;\n",
       "    }\n",
       "</style>\n",
       "<table border=\"1\" class=\"dataframe\">\n",
       "  <thead>\n",
       "    <tr style=\"text-align: right;\">\n",
       "      <th></th>\n",
       "      <th>talk_id</th>\n",
       "      <th>title_from_likes_df</th>\n",
       "      <th>speaker</th>\n",
       "      <th>recorded_date_from_likes_df</th>\n",
       "      <th>published_date_from_likes_df</th>\n",
       "      <th>event_from_likes_df</th>\n",
       "      <th>duration_from_likes_df</th>\n",
       "      <th>views_from_likes_df</th>\n",
       "      <th>likes</th>\n",
       "    </tr>\n",
       "  </thead>\n",
       "  <tbody>\n",
       "    <tr>\n",
       "      <th>0</th>\n",
       "      <td>1</td>\n",
       "      <td>Averting the climate crisis</td>\n",
       "      <td>Al Gore</td>\n",
       "      <td>2006-02-25</td>\n",
       "      <td>2006-06-27</td>\n",
       "      <td>TED2006</td>\n",
       "      <td>957</td>\n",
       "      <td>3681537</td>\n",
       "      <td>110000</td>\n",
       "    </tr>\n",
       "    <tr>\n",
       "      <th>1</th>\n",
       "      <td>7</td>\n",
       "      <td>Simplicity sells</td>\n",
       "      <td>David Pogue</td>\n",
       "      <td>2006-02-24</td>\n",
       "      <td>2006-06-27</td>\n",
       "      <td>TED2006</td>\n",
       "      <td>1266</td>\n",
       "      <td>2012797</td>\n",
       "      <td>60000</td>\n",
       "    </tr>\n",
       "    <tr>\n",
       "      <th>2</th>\n",
       "      <td>53</td>\n",
       "      <td>Greening the ghetto</td>\n",
       "      <td>Majora Carter</td>\n",
       "      <td>2006-02-26</td>\n",
       "      <td>2006-06-27</td>\n",
       "      <td>TED2006</td>\n",
       "      <td>1096</td>\n",
       "      <td>3006315</td>\n",
       "      <td>90000</td>\n",
       "    </tr>\n",
       "  </tbody>\n",
       "</table>\n",
       "</div>"
      ],
      "text/plain": [
       "   talk_id          title_from_likes_df        speaker  \\\n",
       "0        1  Averting the climate crisis        Al Gore   \n",
       "1        7             Simplicity sells    David Pogue   \n",
       "2       53          Greening the ghetto  Majora Carter   \n",
       "\n",
       "  recorded_date_from_likes_df published_date_from_likes_df  \\\n",
       "0                  2006-02-25                   2006-06-27   \n",
       "1                  2006-02-24                   2006-06-27   \n",
       "2                  2006-02-26                   2006-06-27   \n",
       "\n",
       "  event_from_likes_df  duration_from_likes_df  views_from_likes_df   likes  \n",
       "0             TED2006                     957              3681537  110000  \n",
       "1             TED2006                    1266              2012797   60000  \n",
       "2             TED2006                    1096              3006315   90000  "
      ]
     },
     "execution_count": 58,
     "metadata": {},
     "output_type": "execute_result"
    }
   ],
   "source": [
    "# I will add a suffix of \"_new\" to this more updated dataset, so that I know which columns are from which dataset after merging them.\n",
    "# Select the columns you want to rename\n",
    "columns_to_modify = ['duration', 'event', 'recorded_date', 'views', 'title', 'published_date']\n",
    "\n",
    "# Create a dictionary where the keys are the old column names and the values are the new column names\n",
    "renamed_columns = {col: col + '_from_likes_df' for col in columns_to_modify}\n",
    "\n",
    "# Rename the columns in the DataFrame\n",
    "likes_df.rename(columns=renamed_columns, inplace=True)\n",
    "likes_df.head(3)"
   ]
  },
  {
   "cell_type": "markdown",
   "id": "bd0d42e6",
   "metadata": {},
   "source": [
    "### Ready to merge the dataframes"
   ]
  },
  {
   "cell_type": "code",
   "execution_count": 59,
   "id": "9c3b9584-bcbf-4fc3-8e64-ebf0523c10bd",
   "metadata": {},
   "outputs": [
    {
     "data": {
      "text/html": [
       "<div>\n",
       "<style scoped>\n",
       "    .dataframe tbody tr th:only-of-type {\n",
       "        vertical-align: middle;\n",
       "    }\n",
       "\n",
       "    .dataframe tbody tr th {\n",
       "        vertical-align: top;\n",
       "    }\n",
       "\n",
       "    .dataframe thead th {\n",
       "        text-align: right;\n",
       "    }\n",
       "</style>\n",
       "<table border=\"1\" class=\"dataframe\">\n",
       "  <thead>\n",
       "    <tr style=\"text-align: right;\">\n",
       "      <th></th>\n",
       "      <th>talk_id</th>\n",
       "      <th>title</th>\n",
       "      <th>speaker_1</th>\n",
       "      <th>all_speakers</th>\n",
       "      <th>occupations</th>\n",
       "      <th>about_speakers</th>\n",
       "      <th>views</th>\n",
       "      <th>recorded_date</th>\n",
       "      <th>published_date</th>\n",
       "      <th>event</th>\n",
       "      <th>native_lang</th>\n",
       "      <th>available_lang</th>\n",
       "      <th>comments</th>\n",
       "      <th>duration</th>\n",
       "      <th>topics</th>\n",
       "      <th>related_talks</th>\n",
       "      <th>url</th>\n",
       "      <th>description</th>\n",
       "      <th>transcript</th>\n",
       "      <th>title_from_likes_df</th>\n",
       "      <th>speaker</th>\n",
       "      <th>recorded_date_from_likes_df</th>\n",
       "      <th>published_date_from_likes_df</th>\n",
       "      <th>event_from_likes_df</th>\n",
       "      <th>duration_from_likes_df</th>\n",
       "      <th>views_from_likes_df</th>\n",
       "      <th>likes</th>\n",
       "    </tr>\n",
       "  </thead>\n",
       "  <tbody>\n",
       "    <tr>\n",
       "      <th>0</th>\n",
       "      <td>1</td>\n",
       "      <td>Averting the climate crisis</td>\n",
       "      <td>Al Gore</td>\n",
       "      <td>{0: 'Al Gore'}</td>\n",
       "      <td>{0: ['climate advocate']}</td>\n",
       "      <td>{0: 'Nobel Laureate Al Gor...</td>\n",
       "      <td>3523392</td>\n",
       "      <td>2006-02-25</td>\n",
       "      <td>2006-06-27</td>\n",
       "      <td>TED2006</td>\n",
       "      <td>en</td>\n",
       "      <td>['ar', 'bg', 'cs', 'de', '...</td>\n",
       "      <td>272.0</td>\n",
       "      <td>977</td>\n",
       "      <td>['alternative energy', 'ca...</td>\n",
       "      <td>{243: 'New thinking on the...</td>\n",
       "      <td>https://www.ted.com/talks/...</td>\n",
       "      <td>With the same humor and hu...</td>\n",
       "      <td>Thank you so much, Chris. ...</td>\n",
       "      <td>Averting the climate crisis</td>\n",
       "      <td>Al Gore</td>\n",
       "      <td>2006-02-25</td>\n",
       "      <td>2006-06-27</td>\n",
       "      <td>TED2006</td>\n",
       "      <td>957</td>\n",
       "      <td>3681537</td>\n",
       "      <td>110000</td>\n",
       "    </tr>\n",
       "    <tr>\n",
       "      <th>1</th>\n",
       "      <td>92</td>\n",
       "      <td>The best stats you've ever...</td>\n",
       "      <td>Hans Rosling</td>\n",
       "      <td>{0: 'Hans Rosling'}</td>\n",
       "      <td>{0: ['global health expert...</td>\n",
       "      <td>{0: 'In Hans Rosling’s han...</td>\n",
       "      <td>14501685</td>\n",
       "      <td>2006-02-22</td>\n",
       "      <td>2006-06-27</td>\n",
       "      <td>TED2006</td>\n",
       "      <td>en</td>\n",
       "      <td>['ar', 'az', 'bg', 'bn', '...</td>\n",
       "      <td>628.0</td>\n",
       "      <td>1190</td>\n",
       "      <td>['Africa', 'Asia', 'Google...</td>\n",
       "      <td>{2056: \"Own your body's da...</td>\n",
       "      <td>https://www.ted.com/talks/...</td>\n",
       "      <td>You've never seen data pre...</td>\n",
       "      <td>About 10 years ago, I took...</td>\n",
       "      <td>The best stats you've ever...</td>\n",
       "      <td>Hans Rosling</td>\n",
       "      <td>2006-02-22</td>\n",
       "      <td>2006-06-27</td>\n",
       "      <td>TED2006</td>\n",
       "      <td>1176</td>\n",
       "      <td>15432904</td>\n",
       "      <td>462000</td>\n",
       "    </tr>\n",
       "    <tr>\n",
       "      <th>2</th>\n",
       "      <td>7</td>\n",
       "      <td>Simplicity sells</td>\n",
       "      <td>David Pogue</td>\n",
       "      <td>{0: 'David Pogue'}</td>\n",
       "      <td>{0: ['technology columnist']}</td>\n",
       "      <td>{0: 'David Pogue is the pe...</td>\n",
       "      <td>1920832</td>\n",
       "      <td>2006-02-24</td>\n",
       "      <td>2006-06-27</td>\n",
       "      <td>TED2006</td>\n",
       "      <td>en</td>\n",
       "      <td>['ar', 'bg', 'de', 'el', '...</td>\n",
       "      <td>124.0</td>\n",
       "      <td>1286</td>\n",
       "      <td>['computers', 'entertainme...</td>\n",
       "      <td>{1725: '10 top time-saving...</td>\n",
       "      <td>https://www.ted.com/talks/...</td>\n",
       "      <td>New York Times columnist D...</td>\n",
       "      <td>(Music: \"The Sound of Sile...</td>\n",
       "      <td>Simplicity sells</td>\n",
       "      <td>David Pogue</td>\n",
       "      <td>2006-02-24</td>\n",
       "      <td>2006-06-27</td>\n",
       "      <td>TED2006</td>\n",
       "      <td>1266</td>\n",
       "      <td>2012797</td>\n",
       "      <td>60000</td>\n",
       "    </tr>\n",
       "  </tbody>\n",
       "</table>\n",
       "</div>"
      ],
      "text/plain": [
       "   talk_id                          title     speaker_1         all_speakers  \\\n",
       "0        1    Averting the climate crisis       Al Gore       {0: 'Al Gore'}   \n",
       "1       92  The best stats you've ever...  Hans Rosling  {0: 'Hans Rosling'}   \n",
       "2        7               Simplicity sells   David Pogue   {0: 'David Pogue'}   \n",
       "\n",
       "                     occupations                 about_speakers     views  \\\n",
       "0      {0: ['climate advocate']}  {0: 'Nobel Laureate Al Gor...   3523392   \n",
       "1  {0: ['global health expert...  {0: 'In Hans Rosling’s han...  14501685   \n",
       "2  {0: ['technology columnist']}  {0: 'David Pogue is the pe...   1920832   \n",
       "\n",
       "  recorded_date published_date    event native_lang  \\\n",
       "0    2006-02-25     2006-06-27  TED2006          en   \n",
       "1    2006-02-22     2006-06-27  TED2006          en   \n",
       "2    2006-02-24     2006-06-27  TED2006          en   \n",
       "\n",
       "                  available_lang  comments  duration  \\\n",
       "0  ['ar', 'bg', 'cs', 'de', '...     272.0       977   \n",
       "1  ['ar', 'az', 'bg', 'bn', '...     628.0      1190   \n",
       "2  ['ar', 'bg', 'de', 'el', '...     124.0      1286   \n",
       "\n",
       "                          topics                  related_talks  \\\n",
       "0  ['alternative energy', 'ca...  {243: 'New thinking on the...   \n",
       "1  ['Africa', 'Asia', 'Google...  {2056: \"Own your body's da...   \n",
       "2  ['computers', 'entertainme...  {1725: '10 top time-saving...   \n",
       "\n",
       "                             url                    description  \\\n",
       "0  https://www.ted.com/talks/...  With the same humor and hu...   \n",
       "1  https://www.ted.com/talks/...  You've never seen data pre...   \n",
       "2  https://www.ted.com/talks/...  New York Times columnist D...   \n",
       "\n",
       "                      transcript            title_from_likes_df       speaker  \\\n",
       "0  Thank you so much, Chris. ...    Averting the climate crisis       Al Gore   \n",
       "1  About 10 years ago, I took...  The best stats you've ever...  Hans Rosling   \n",
       "2  (Music: \"The Sound of Sile...               Simplicity sells   David Pogue   \n",
       "\n",
       "  recorded_date_from_likes_df published_date_from_likes_df  \\\n",
       "0                  2006-02-25                   2006-06-27   \n",
       "1                  2006-02-22                   2006-06-27   \n",
       "2                  2006-02-24                   2006-06-27   \n",
       "\n",
       "  event_from_likes_df  duration_from_likes_df  views_from_likes_df   likes  \n",
       "0             TED2006                     957              3681537  110000  \n",
       "1             TED2006                    1176             15432904  462000  \n",
       "2             TED2006                    1266              2012797   60000  "
      ]
     },
     "execution_count": 59,
     "metadata": {},
     "output_type": "execute_result"
    }
   ],
   "source": [
    "# I will now merge the two dataframes together, using the talk_id as the key.\n",
    "merged_df = transcript_df.merge(likes_df, on='talk_id')\n",
    "merged_df.head(3)"
   ]
  },
  {
   "cell_type": "markdown",
   "id": "92d1b1cd",
   "metadata": {},
   "source": [
    "#### Removing duplicate columns"
   ]
  },
  {
   "cell_type": "code",
   "execution_count": 60,
   "id": "f5ff6417",
   "metadata": {},
   "outputs": [
    {
     "data": {
      "text/plain": [
       "Index(['talk_id', 'title', 'speaker_1', 'all_speakers', 'occupations',\n",
       "       'about_speakers', 'views', 'recorded_date', 'published_date', 'event',\n",
       "       'native_lang', 'available_lang', 'comments', 'duration', 'topics',\n",
       "       'related_talks', 'url', 'description', 'transcript',\n",
       "       'title_from_likes_df', 'speaker', 'recorded_date_from_likes_df',\n",
       "       'published_date_from_likes_df', 'event_from_likes_df',\n",
       "       'duration_from_likes_df', 'views_from_likes_df', 'likes'],\n",
       "      dtype='object')"
      ]
     },
     "execution_count": 60,
     "metadata": {},
     "output_type": "execute_result"
    }
   ],
   "source": [
    "# Lets see which columns are redundant, and which ones we can drop.\n",
    "merged_df.columns"
   ]
  },
  {
   "cell_type": "code",
   "execution_count": 61,
   "id": "dc47a486",
   "metadata": {},
   "outputs": [
    {
     "data": {
      "text/html": [
       "<div>\n",
       "<style scoped>\n",
       "    .dataframe tbody tr th:only-of-type {\n",
       "        vertical-align: middle;\n",
       "    }\n",
       "\n",
       "    .dataframe tbody tr th {\n",
       "        vertical-align: top;\n",
       "    }\n",
       "\n",
       "    .dataframe thead th {\n",
       "        text-align: right;\n",
       "    }\n",
       "</style>\n",
       "<table border=\"1\" class=\"dataframe\">\n",
       "  <thead>\n",
       "    <tr style=\"text-align: right;\">\n",
       "      <th></th>\n",
       "      <th>talk_id</th>\n",
       "      <th>title</th>\n",
       "      <th>all_speakers</th>\n",
       "      <th>occupations</th>\n",
       "      <th>about_speakers</th>\n",
       "      <th>recorded_date</th>\n",
       "      <th>published_date</th>\n",
       "      <th>event</th>\n",
       "      <th>native_lang</th>\n",
       "      <th>available_lang</th>\n",
       "      <th>comments</th>\n",
       "      <th>duration</th>\n",
       "      <th>topics</th>\n",
       "      <th>related_talks</th>\n",
       "      <th>url</th>\n",
       "      <th>description</th>\n",
       "      <th>transcript</th>\n",
       "      <th>speaker</th>\n",
       "      <th>views_from_likes_df</th>\n",
       "      <th>likes</th>\n",
       "    </tr>\n",
       "  </thead>\n",
       "  <tbody>\n",
       "    <tr>\n",
       "      <th>0</th>\n",
       "      <td>1</td>\n",
       "      <td>Averting the climate crisis</td>\n",
       "      <td>{0: 'Al Gore'}</td>\n",
       "      <td>{0: ['climate advocate']}</td>\n",
       "      <td>{0: 'Nobel Laureate Al Gor...</td>\n",
       "      <td>2006-02-25</td>\n",
       "      <td>2006-06-27</td>\n",
       "      <td>TED2006</td>\n",
       "      <td>en</td>\n",
       "      <td>['ar', 'bg', 'cs', 'de', '...</td>\n",
       "      <td>272.0</td>\n",
       "      <td>977</td>\n",
       "      <td>['alternative energy', 'ca...</td>\n",
       "      <td>{243: 'New thinking on the...</td>\n",
       "      <td>https://www.ted.com/talks/...</td>\n",
       "      <td>With the same humor and hu...</td>\n",
       "      <td>Thank you so much, Chris. ...</td>\n",
       "      <td>Al Gore</td>\n",
       "      <td>3681537</td>\n",
       "      <td>110000</td>\n",
       "    </tr>\n",
       "    <tr>\n",
       "      <th>1</th>\n",
       "      <td>92</td>\n",
       "      <td>The best stats you've ever...</td>\n",
       "      <td>{0: 'Hans Rosling'}</td>\n",
       "      <td>{0: ['global health expert...</td>\n",
       "      <td>{0: 'In Hans Rosling’s han...</td>\n",
       "      <td>2006-02-22</td>\n",
       "      <td>2006-06-27</td>\n",
       "      <td>TED2006</td>\n",
       "      <td>en</td>\n",
       "      <td>['ar', 'az', 'bg', 'bn', '...</td>\n",
       "      <td>628.0</td>\n",
       "      <td>1190</td>\n",
       "      <td>['Africa', 'Asia', 'Google...</td>\n",
       "      <td>{2056: \"Own your body's da...</td>\n",
       "      <td>https://www.ted.com/talks/...</td>\n",
       "      <td>You've never seen data pre...</td>\n",
       "      <td>About 10 years ago, I took...</td>\n",
       "      <td>Hans Rosling</td>\n",
       "      <td>15432904</td>\n",
       "      <td>462000</td>\n",
       "    </tr>\n",
       "    <tr>\n",
       "      <th>...</th>\n",
       "      <td>...</td>\n",
       "      <td>...</td>\n",
       "      <td>...</td>\n",
       "      <td>...</td>\n",
       "      <td>...</td>\n",
       "      <td>...</td>\n",
       "      <td>...</td>\n",
       "      <td>...</td>\n",
       "      <td>...</td>\n",
       "      <td>...</td>\n",
       "      <td>...</td>\n",
       "      <td>...</td>\n",
       "      <td>...</td>\n",
       "      <td>...</td>\n",
       "      <td>...</td>\n",
       "      <td>...</td>\n",
       "      <td>...</td>\n",
       "      <td>...</td>\n",
       "      <td>...</td>\n",
       "      <td>...</td>\n",
       "    </tr>\n",
       "    <tr>\n",
       "      <th>3994</th>\n",
       "      <td>62784</td>\n",
       "      <td>The electrifying speeches ...</td>\n",
       "      <td>{0: 'Daina Ramey Berry'}</td>\n",
       "      <td>NaN</td>\n",
       "      <td>NaN</td>\n",
       "      <td>2020-04-28</td>\n",
       "      <td>2020-04-30</td>\n",
       "      <td>TED-Ed</td>\n",
       "      <td>en</td>\n",
       "      <td>['en']</td>\n",
       "      <td>NaN</td>\n",
       "      <td>257</td>\n",
       "      <td>['TED-Ed', 'education', 'a...</td>\n",
       "      <td>{20973: 'The breathtaking ...</td>\n",
       "      <td>https://www.ted.com/talks/...</td>\n",
       "      <td>Isabella Baumfree was born...</td>\n",
       "      <td>In early 1828, Sojourner T...</td>\n",
       "      <td>Daina Ramey Berry</td>\n",
       "      <td>402898</td>\n",
       "      <td>12000</td>\n",
       "    </tr>\n",
       "    <tr>\n",
       "      <th>3995</th>\n",
       "      <td>62794</td>\n",
       "      <td>The most important anus in...</td>\n",
       "      <td>{0: 'Cella Wright'}</td>\n",
       "      <td>NaN</td>\n",
       "      <td>NaN</td>\n",
       "      <td>2020-04-30</td>\n",
       "      <td>2020-04-30</td>\n",
       "      <td>TED-Ed</td>\n",
       "      <td>en</td>\n",
       "      <td>['en']</td>\n",
       "      <td>NaN</td>\n",
       "      <td>281</td>\n",
       "      <td>['animals', 'TED-Ed', 'ani...</td>\n",
       "      <td>{62347: 'The bug that poop...</td>\n",
       "      <td>https://www.ted.com/talks/...</td>\n",
       "      <td>Is it a fuzzy sock? An ove...</td>\n",
       "      <td>Can you guess what you’re ...</td>\n",
       "      <td>Cella Wright</td>\n",
       "      <td>436255</td>\n",
       "      <td>13000</td>\n",
       "    </tr>\n",
       "  </tbody>\n",
       "</table>\n",
       "<p>3996 rows × 20 columns</p>\n",
       "</div>"
      ],
      "text/plain": [
       "      talk_id                          title              all_speakers  \\\n",
       "0           1    Averting the climate crisis            {0: 'Al Gore'}   \n",
       "1          92  The best stats you've ever...       {0: 'Hans Rosling'}   \n",
       "...       ...                            ...                       ...   \n",
       "3994    62784  The electrifying speeches ...  {0: 'Daina Ramey Berry'}   \n",
       "3995    62794  The most important anus in...       {0: 'Cella Wright'}   \n",
       "\n",
       "                        occupations                 about_speakers  \\\n",
       "0         {0: ['climate advocate']}  {0: 'Nobel Laureate Al Gor...   \n",
       "1     {0: ['global health expert...  {0: 'In Hans Rosling’s han...   \n",
       "...                             ...                            ...   \n",
       "3994                            NaN                            NaN   \n",
       "3995                            NaN                            NaN   \n",
       "\n",
       "     recorded_date published_date    event native_lang  \\\n",
       "0       2006-02-25     2006-06-27  TED2006          en   \n",
       "1       2006-02-22     2006-06-27  TED2006          en   \n",
       "...            ...            ...      ...         ...   \n",
       "3994    2020-04-28     2020-04-30   TED-Ed          en   \n",
       "3995    2020-04-30     2020-04-30   TED-Ed          en   \n",
       "\n",
       "                     available_lang  comments  duration  \\\n",
       "0     ['ar', 'bg', 'cs', 'de', '...     272.0       977   \n",
       "1     ['ar', 'az', 'bg', 'bn', '...     628.0      1190   \n",
       "...                             ...       ...       ...   \n",
       "3994                         ['en']       NaN       257   \n",
       "3995                         ['en']       NaN       281   \n",
       "\n",
       "                             topics                  related_talks  \\\n",
       "0     ['alternative energy', 'ca...  {243: 'New thinking on the...   \n",
       "1     ['Africa', 'Asia', 'Google...  {2056: \"Own your body's da...   \n",
       "...                             ...                            ...   \n",
       "3994  ['TED-Ed', 'education', 'a...  {20973: 'The breathtaking ...   \n",
       "3995  ['animals', 'TED-Ed', 'ani...  {62347: 'The bug that poop...   \n",
       "\n",
       "                                url                    description  \\\n",
       "0     https://www.ted.com/talks/...  With the same humor and hu...   \n",
       "1     https://www.ted.com/talks/...  You've never seen data pre...   \n",
       "...                             ...                            ...   \n",
       "3994  https://www.ted.com/talks/...  Isabella Baumfree was born...   \n",
       "3995  https://www.ted.com/talks/...  Is it a fuzzy sock? An ove...   \n",
       "\n",
       "                         transcript            speaker  views_from_likes_df  \\\n",
       "0     Thank you so much, Chris. ...            Al Gore              3681537   \n",
       "1     About 10 years ago, I took...       Hans Rosling             15432904   \n",
       "...                             ...                ...                  ...   \n",
       "3994  In early 1828, Sojourner T...  Daina Ramey Berry               402898   \n",
       "3995  Can you guess what you’re ...       Cella Wright               436255   \n",
       "\n",
       "       likes  \n",
       "0     110000  \n",
       "1     462000  \n",
       "...      ...  \n",
       "3994   12000  \n",
       "3995   13000  \n",
       "\n",
       "[3996 rows x 20 columns]"
      ]
     },
     "execution_count": 61,
     "metadata": {},
     "output_type": "execute_result"
    }
   ],
   "source": [
    "# here we'll remove duplicate columns\n",
    "merged_cleaved_df = merged_df.drop([\"speaker_1\", \"title_from_likes_df\", \"views\", \"recorded_date_from_likes_df\", \"published_date_from_likes_df\", \"event_from_likes_df\", \"duration_from_likes_df\"], axis=1)\n",
    "merged_cleaved_df"
   ]
  },
  {
   "cell_type": "markdown",
   "id": "fa7a34ef",
   "metadata": {},
   "source": [
    "#### Clean column names"
   ]
  },
  {
   "cell_type": "code",
   "execution_count": 62,
   "id": "574317eb",
   "metadata": {},
   "outputs": [
    {
     "data": {
      "text/html": [
       "<div>\n",
       "<style scoped>\n",
       "    .dataframe tbody tr th:only-of-type {\n",
       "        vertical-align: middle;\n",
       "    }\n",
       "\n",
       "    .dataframe tbody tr th {\n",
       "        vertical-align: top;\n",
       "    }\n",
       "\n",
       "    .dataframe thead th {\n",
       "        text-align: right;\n",
       "    }\n",
       "</style>\n",
       "<table border=\"1\" class=\"dataframe\">\n",
       "  <thead>\n",
       "    <tr style=\"text-align: right;\">\n",
       "      <th></th>\n",
       "      <th>talk_id</th>\n",
       "      <th>title</th>\n",
       "      <th>all_speakers</th>\n",
       "      <th>occupations</th>\n",
       "      <th>about_speakers</th>\n",
       "      <th>recorded_date</th>\n",
       "      <th>published_date</th>\n",
       "      <th>event</th>\n",
       "      <th>native_lang</th>\n",
       "      <th>available_lang</th>\n",
       "      <th>comments</th>\n",
       "      <th>duration</th>\n",
       "      <th>topics</th>\n",
       "      <th>related_talks</th>\n",
       "      <th>url</th>\n",
       "      <th>description</th>\n",
       "      <th>transcript</th>\n",
       "      <th>speaker</th>\n",
       "      <th>view</th>\n",
       "      <th>likes</th>\n",
       "    </tr>\n",
       "  </thead>\n",
       "  <tbody>\n",
       "    <tr>\n",
       "      <th>0</th>\n",
       "      <td>1</td>\n",
       "      <td>Averting the climate crisis</td>\n",
       "      <td>{0: 'Al Gore'}</td>\n",
       "      <td>{0: ['climate advocate']}</td>\n",
       "      <td>{0: 'Nobel Laureate Al Gor...</td>\n",
       "      <td>2006-02-25</td>\n",
       "      <td>2006-06-27</td>\n",
       "      <td>TED2006</td>\n",
       "      <td>en</td>\n",
       "      <td>['ar', 'bg', 'cs', 'de', '...</td>\n",
       "      <td>272.0</td>\n",
       "      <td>977</td>\n",
       "      <td>['alternative energy', 'ca...</td>\n",
       "      <td>{243: 'New thinking on the...</td>\n",
       "      <td>https://www.ted.com/talks/...</td>\n",
       "      <td>With the same humor and hu...</td>\n",
       "      <td>Thank you so much, Chris. ...</td>\n",
       "      <td>Al Gore</td>\n",
       "      <td>3681537</td>\n",
       "      <td>110000</td>\n",
       "    </tr>\n",
       "    <tr>\n",
       "      <th>1</th>\n",
       "      <td>92</td>\n",
       "      <td>The best stats you've ever...</td>\n",
       "      <td>{0: 'Hans Rosling'}</td>\n",
       "      <td>{0: ['global health expert...</td>\n",
       "      <td>{0: 'In Hans Rosling’s han...</td>\n",
       "      <td>2006-02-22</td>\n",
       "      <td>2006-06-27</td>\n",
       "      <td>TED2006</td>\n",
       "      <td>en</td>\n",
       "      <td>['ar', 'az', 'bg', 'bn', '...</td>\n",
       "      <td>628.0</td>\n",
       "      <td>1190</td>\n",
       "      <td>['Africa', 'Asia', 'Google...</td>\n",
       "      <td>{2056: \"Own your body's da...</td>\n",
       "      <td>https://www.ted.com/talks/...</td>\n",
       "      <td>You've never seen data pre...</td>\n",
       "      <td>About 10 years ago, I took...</td>\n",
       "      <td>Hans Rosling</td>\n",
       "      <td>15432904</td>\n",
       "      <td>462000</td>\n",
       "    </tr>\n",
       "    <tr>\n",
       "      <th>...</th>\n",
       "      <td>...</td>\n",
       "      <td>...</td>\n",
       "      <td>...</td>\n",
       "      <td>...</td>\n",
       "      <td>...</td>\n",
       "      <td>...</td>\n",
       "      <td>...</td>\n",
       "      <td>...</td>\n",
       "      <td>...</td>\n",
       "      <td>...</td>\n",
       "      <td>...</td>\n",
       "      <td>...</td>\n",
       "      <td>...</td>\n",
       "      <td>...</td>\n",
       "      <td>...</td>\n",
       "      <td>...</td>\n",
       "      <td>...</td>\n",
       "      <td>...</td>\n",
       "      <td>...</td>\n",
       "      <td>...</td>\n",
       "    </tr>\n",
       "    <tr>\n",
       "      <th>3994</th>\n",
       "      <td>62784</td>\n",
       "      <td>The electrifying speeches ...</td>\n",
       "      <td>{0: 'Daina Ramey Berry'}</td>\n",
       "      <td>NaN</td>\n",
       "      <td>NaN</td>\n",
       "      <td>2020-04-28</td>\n",
       "      <td>2020-04-30</td>\n",
       "      <td>TED-Ed</td>\n",
       "      <td>en</td>\n",
       "      <td>['en']</td>\n",
       "      <td>NaN</td>\n",
       "      <td>257</td>\n",
       "      <td>['TED-Ed', 'education', 'a...</td>\n",
       "      <td>{20973: 'The breathtaking ...</td>\n",
       "      <td>https://www.ted.com/talks/...</td>\n",
       "      <td>Isabella Baumfree was born...</td>\n",
       "      <td>In early 1828, Sojourner T...</td>\n",
       "      <td>Daina Ramey Berry</td>\n",
       "      <td>402898</td>\n",
       "      <td>12000</td>\n",
       "    </tr>\n",
       "    <tr>\n",
       "      <th>3995</th>\n",
       "      <td>62794</td>\n",
       "      <td>The most important anus in...</td>\n",
       "      <td>{0: 'Cella Wright'}</td>\n",
       "      <td>NaN</td>\n",
       "      <td>NaN</td>\n",
       "      <td>2020-04-30</td>\n",
       "      <td>2020-04-30</td>\n",
       "      <td>TED-Ed</td>\n",
       "      <td>en</td>\n",
       "      <td>['en']</td>\n",
       "      <td>NaN</td>\n",
       "      <td>281</td>\n",
       "      <td>['animals', 'TED-Ed', 'ani...</td>\n",
       "      <td>{62347: 'The bug that poop...</td>\n",
       "      <td>https://www.ted.com/talks/...</td>\n",
       "      <td>Is it a fuzzy sock? An ove...</td>\n",
       "      <td>Can you guess what you’re ...</td>\n",
       "      <td>Cella Wright</td>\n",
       "      <td>436255</td>\n",
       "      <td>13000</td>\n",
       "    </tr>\n",
       "  </tbody>\n",
       "</table>\n",
       "<p>3996 rows × 20 columns</p>\n",
       "</div>"
      ],
      "text/plain": [
       "      talk_id                          title              all_speakers  \\\n",
       "0           1    Averting the climate crisis            {0: 'Al Gore'}   \n",
       "1          92  The best stats you've ever...       {0: 'Hans Rosling'}   \n",
       "...       ...                            ...                       ...   \n",
       "3994    62784  The electrifying speeches ...  {0: 'Daina Ramey Berry'}   \n",
       "3995    62794  The most important anus in...       {0: 'Cella Wright'}   \n",
       "\n",
       "                        occupations                 about_speakers  \\\n",
       "0         {0: ['climate advocate']}  {0: 'Nobel Laureate Al Gor...   \n",
       "1     {0: ['global health expert...  {0: 'In Hans Rosling’s han...   \n",
       "...                             ...                            ...   \n",
       "3994                            NaN                            NaN   \n",
       "3995                            NaN                            NaN   \n",
       "\n",
       "     recorded_date published_date    event native_lang  \\\n",
       "0       2006-02-25     2006-06-27  TED2006          en   \n",
       "1       2006-02-22     2006-06-27  TED2006          en   \n",
       "...            ...            ...      ...         ...   \n",
       "3994    2020-04-28     2020-04-30   TED-Ed          en   \n",
       "3995    2020-04-30     2020-04-30   TED-Ed          en   \n",
       "\n",
       "                     available_lang  comments  duration  \\\n",
       "0     ['ar', 'bg', 'cs', 'de', '...     272.0       977   \n",
       "1     ['ar', 'az', 'bg', 'bn', '...     628.0      1190   \n",
       "...                             ...       ...       ...   \n",
       "3994                         ['en']       NaN       257   \n",
       "3995                         ['en']       NaN       281   \n",
       "\n",
       "                             topics                  related_talks  \\\n",
       "0     ['alternative energy', 'ca...  {243: 'New thinking on the...   \n",
       "1     ['Africa', 'Asia', 'Google...  {2056: \"Own your body's da...   \n",
       "...                             ...                            ...   \n",
       "3994  ['TED-Ed', 'education', 'a...  {20973: 'The breathtaking ...   \n",
       "3995  ['animals', 'TED-Ed', 'ani...  {62347: 'The bug that poop...   \n",
       "\n",
       "                                url                    description  \\\n",
       "0     https://www.ted.com/talks/...  With the same humor and hu...   \n",
       "1     https://www.ted.com/talks/...  You've never seen data pre...   \n",
       "...                             ...                            ...   \n",
       "3994  https://www.ted.com/talks/...  Isabella Baumfree was born...   \n",
       "3995  https://www.ted.com/talks/...  Is it a fuzzy sock? An ove...   \n",
       "\n",
       "                         transcript            speaker      view   likes  \n",
       "0     Thank you so much, Chris. ...            Al Gore   3681537  110000  \n",
       "1     About 10 years ago, I took...       Hans Rosling  15432904  462000  \n",
       "...                             ...                ...       ...     ...  \n",
       "3994  In early 1828, Sojourner T...  Daina Ramey Berry    402898   12000  \n",
       "3995  Can you guess what you’re ...       Cella Wright    436255   13000  \n",
       "\n",
       "[3996 rows x 20 columns]"
      ]
     },
     "execution_count": 62,
     "metadata": {},
     "output_type": "execute_result"
    }
   ],
   "source": [
    "# Here we're removing the '_y' from any column names that have it\n",
    "# merged_cleaved_df.columns = [col.rstrip('_y') if col.endswith('_y') else col for col in merged_cleaved_df.columns]\n",
    "merged_cleaved_df.columns = [col.rstrip('_from_likes_df') if col.endswith('_from_likes_df') else col for col in merged_cleaved_df.columns]\n",
    "merged_cleaved_df"
   ]
  },
  {
   "cell_type": "code",
   "execution_count": 63,
   "id": "ade8a373",
   "metadata": {},
   "outputs": [
    {
     "name": "stdout",
     "output_type": "stream",
     "text": [
      "Index(['talk_id', 'title', 'all_speakers', 'occupations', 'about_speakers',\n",
      "       'recorded_date', 'published_date', 'event', 'native_lang',\n",
      "       'available_lang', 'comments', 'duration', 'topics', 'related_talks',\n",
      "       'url', 'description', 'transcript', 'speaker', 'view', 'likes'],\n",
      "      dtype='object')\n",
      "(3996, 20)\n"
     ]
    }
   ],
   "source": [
    "# There are no more duplicate columns\n",
    "print(merged_cleaved_df.columns)\n",
    "print(merged_cleaved_df.shape)"
   ]
  },
  {
   "cell_type": "markdown",
   "id": "db265090",
   "metadata": {},
   "source": [
    "There are no more duplicate columns.  \n",
    "\n",
    "The dataset has 3996 rows and 20 columns in the merged_df dataframe."
   ]
  },
  {
   "cell_type": "markdown",
   "id": "7e727c33",
   "metadata": {},
   "source": [
    "## 2. Data Cleaning\n",
    "\n",
    "- dealing with nulls\n",
    "- addressing datatypes\n"
   ]
  },
  {
   "cell_type": "markdown",
   "id": "a0e2fcc2",
   "metadata": {},
   "source": [
    "### WHAT TO DO WITH THESE HEADINGS?  Where we'll go from here:\n",
    "\n",
    "- Exclude the transcript from a dataframe for initial EDA"
   ]
  },
  {
   "cell_type": "markdown",
   "id": "cbbf5a98",
   "metadata": {},
   "source": [
    "### Dealing with nulls"
   ]
  },
  {
   "cell_type": "code",
   "execution_count": 64,
   "id": "dacbaef5",
   "metadata": {},
   "outputs": [
    {
     "data": {
      "text/plain": [
       "talk_id             0\n",
       "title               0\n",
       "all_speakers        4\n",
       "occupations       522\n",
       "about_speakers    503\n",
       "recorded_date       1\n",
       "published_date      0\n",
       "event               0\n",
       "native_lang         0\n",
       "available_lang      0\n",
       "comments          654\n",
       "duration            0\n",
       "topics              0\n",
       "related_talks       0\n",
       "url                 0\n",
       "description         0\n",
       "transcript          0\n",
       "speaker             0\n",
       "view                0\n",
       "likes               0\n",
       "dtype: int64"
      ]
     },
     "execution_count": 64,
     "metadata": {},
     "output_type": "execute_result"
    }
   ],
   "source": [
    "# how many nulls do we have now?\n",
    "pd.options.display.max_rows = 25\n",
    "merged_cleaved_df.isnull().sum()"
   ]
  },
  {
   "cell_type": "markdown",
   "id": "b7bdaccc",
   "metadata": {},
   "source": [
    "For the moment, while removing nulls will result in ((3996-3331) / 3996 = 0.1664) 16.4% of the data being thrown out, scraping additional data from the TED website is beyond the scope of this project, so we will continue without this data. "
   ]
  },
  {
   "cell_type": "code",
   "execution_count": 65,
   "id": "fa811675",
   "metadata": {},
   "outputs": [],
   "source": [
    "# Lets see what happens to the 3996 rows when we drop the null values\n",
    "merged_cleaved_df.dropna(inplace=True)"
   ]
  },
  {
   "cell_type": "code",
   "execution_count": 66,
   "id": "fd641cb1",
   "metadata": {},
   "outputs": [
    {
     "data": {
      "text/plain": [
       "(3330, 20)"
      ]
     },
     "execution_count": 66,
     "metadata": {},
     "output_type": "execute_result"
    }
   ],
   "source": [
    "merged_cleaved_df.shape"
   ]
  },
  {
   "cell_type": "markdown",
   "id": "9b65ac24",
   "metadata": {},
   "source": [
    "### Addressing Datatypes\n",
    "\n",
    "We're going to, one by one, determine what to do with each of the \"object\" columns. \n",
    "Options include:\n",
    "- Change into numerical values\n",
    "- Clean for CountVectorization\n",
    "- Clean for Dummy / Multi-Label-Binarizing\n",
    "- Drop\n",
    "\n",
    "#### Columns to address, and what was done to them:\n",
    "\n",
    "- all_speakers      3331 non-null   object **DROPPED / multiple_speakers variable created**\n",
    "- occupations       3331 non-null   object **ready for dummy variables - May Drop**\n",
    "- about_speakers    3331 non-null   object **DROPPING**\n",
    "- native_lang       3331 non-null   object **DROPPED**\n",
    "- available_lang    3331 non-null   object  **DROPPED**\n",
    "- comments          3331 non-null   float64 **Ready for analysis**\n",
    "- topics            3331 non-null   object **Create  (via MultiLabel Binarizer)**\n",
    "- related_talks     3331 non-null   object **Possible Future CountVectorization**\n",
    "- url               3331 non-null   object **DROPPED**\n",
    "- description       3331 non-null   object **Possible Future CountVectorization**\n",
    "- transcript        3331 non-null   object **CountVectorize**\n",
    "- title             3331 non-null   object **Possible Future CountVectorization**\n",
    "- speaker           3331 non-null   object **DROPPED**\n",
    "- recorded_date     3331 non-null   object **Changed to DateTime**\n",
    "- published_date    3331 non-null   object **Changed to DateTime**\n",
    "- event             3331 non-null   object **ted_mainstage variable created**"
   ]
  },
  {
   "cell_type": "markdown",
   "id": "ff26bf70",
   "metadata": {},
   "source": [
    " #### Addressing 'object' columns - changing them into numerical values, or dropping them altogether.\n",
    "\n",
    "We'll start with \"all_speakers\" (for this section of the notebook, the column we are addressing in the section below will be made a headline, as is \"all_speakers\" below)\n",
    "\n",
    "#### - all_speakers      3331 non-null   object **DROPPED / multiple_speakers variable created**"
   ]
  },
  {
   "cell_type": "code",
   "execution_count": 67,
   "id": "0be12e6a",
   "metadata": {},
   "outputs": [
    {
     "data": {
      "text/plain": [
       "all_speakers\n",
       "{0: 'Hans Rosling'}            9\n",
       "{0: 'Greg Gage'}               9\n",
       "{0: 'Juan Enriquez'}           9\n",
       "{0: 'Marco Tempest'}           7\n",
       "{0: ' Rives'}                  6\n",
       "                              ..\n",
       "{0: 'Ryan Merkley'}            1\n",
       "{0: 'Pankaj Ghemawat'}         1\n",
       "{0: 'David Pizarro'}           1\n",
       "{0: 'Lemn Sissay'}             1\n",
       "{0: 'Dick M. Carpenter II'}    1\n",
       "Name: count, Length: 2851, dtype: int64"
      ]
     },
     "execution_count": 67,
     "metadata": {},
     "output_type": "execute_result"
    }
   ],
   "source": [
    "merged_cleaved_df[\"all_speakers\"].value_counts()"
   ]
  },
  {
   "cell_type": "code",
   "execution_count": 68,
   "id": "c05d6a49",
   "metadata": {},
   "outputs": [
    {
     "name": "stdout",
     "output_type": "stream",
     "text": [
      "Number of dictionaries with a key '1': 103\n"
     ]
    }
   ],
   "source": [
    "# Let's find out how many talks have multiple speakers\n",
    "# Assuming all_speakers is a list of dictionaries\n",
    "all_speakers = merged_cleaved_df[\"all_speakers\"]\n",
    "\n",
    "# Initialize a counter\n",
    "count = 0\n",
    "\n",
    "# Iterate through each dictionary in the list\n",
    "for speaker_dict in all_speakers:\n",
    "    # Check if the key \"1\" exists in the dictionary\n",
    "    if \"1\" in speaker_dict:\n",
    "        count += 1\n",
    "\n",
    "# Output the result\n",
    "print(f\"Number of dictionaries with a key '1': {count}\")"
   ]
  },
  {
   "cell_type": "markdown",
   "id": "a46ac870",
   "metadata": {},
   "source": [
    "There are 103 talks with multiple speakers in them.  \n",
    "As much of the data in 'all_speakers' is redundant as it repeats the value of the main speaker, we will drop this column.\n",
    "\n",
    "We will, however, create a dummy column \"multiple_speakers\" to see if the presence of multiple speakers impacts the outcome of the speech.  "
   ]
  },
  {
   "cell_type": "code",
   "execution_count": 69,
   "id": "e3a98467",
   "metadata": {},
   "outputs": [],
   "source": [
    "# Assuming merged_cleaved_df is your existing DataFrame\n",
    "all_speakers = merged_cleaved_df[\"all_speakers\"]\n",
    "\n",
    "# Using list comprehension to create a one-hot encoded column\n",
    "merged_cleaved_df['multiple_speakers'] = [1 if \"1\" in speaker_dict else 0 for speaker_dict in all_speakers]\n",
    "\n",
    "# Now, merged_cleaved_df has a new column 'multiple_speakers' with one hot encoding\n"
   ]
  },
  {
   "cell_type": "code",
   "execution_count": 70,
   "id": "c120b199",
   "metadata": {},
   "outputs": [],
   "source": [
    "# Dropping the \"all_speakers\" column, as it is not useful for our analysis\n",
    "merged_cleaved_df.drop([\"all_speakers\"], axis=1, inplace=True)"
   ]
  },
  {
   "cell_type": "markdown",
   "id": "7be28d86",
   "metadata": {},
   "source": [
    "#### - occupations       3331 non-null   object **ready for dummy variables - May Drop**"
   ]
  },
  {
   "cell_type": "code",
   "execution_count": 71,
   "id": "3f937196",
   "metadata": {},
   "outputs": [
    {
     "data": {
      "text/plain": [
       "occupations\n",
       "{0: ['writer']}                                   52\n",
       "{0: ['journalist']}                               43\n",
       "{0: ['entrepreneur']}                             42\n",
       "{0: ['artist']}                                   40\n",
       "{0: ['designer']}                                 37\n",
       "                                                  ..\n",
       "{0: ['bow designer']}                              1\n",
       "{0: ['explorer and filmmaker']}                    1\n",
       "{0: ['human-computer interaction researcher']}     1\n",
       "{0: ['composer', 'inventor'], 1: ['musician']}     1\n",
       "{0: ['law researcher']}                            1\n",
       "Name: count, Length: 1982, dtype: int64"
      ]
     },
     "execution_count": 71,
     "metadata": {},
     "output_type": "execute_result"
    }
   ],
   "source": [
    "merged_cleaved_df[\"occupations\"].value_counts()"
   ]
  },
  {
   "cell_type": "markdown",
   "id": "3e54f21f",
   "metadata": {},
   "source": [
    "Let's clean these by removing them from their current dictionary format."
   ]
  },
  {
   "cell_type": "code",
   "execution_count": 72,
   "id": "c325cd62",
   "metadata": {},
   "outputs": [
    {
     "data": {
      "text/plain": [
       "transformed_occupations\n",
       "writer                             54\n",
       "journalist                         44\n",
       "entrepreneur                       43\n",
       "artist                             41\n",
       "designer                           37\n",
       "                                   ..\n",
       "former_prime_minister_of_greece     1\n",
       "graphic_artist director             1\n",
       "dolphin_researcher                  1\n",
       "undercover_journalist               1\n",
       "law_researcher                      1\n",
       "Name: count, Length: 1924, dtype: int64"
      ]
     },
     "execution_count": 72,
     "metadata": {},
     "output_type": "execute_result"
    }
   ],
   "source": [
    "# Here we're going to split the \"occupations\" column into a list of occupations\n",
    "\n",
    "def transform_occupation(occupation_str):\n",
    "    # Extracting the part after \"{0: \" and before the first occurrence of \"],\"\n",
    "    match = re.search(r\"\\{0: \\[([^\\]]*)\\]\", occupation_str)\n",
    "    if match:\n",
    "        occupations = match.group(1)\n",
    "        # Remove quotes and split by comma to get individual occupations\n",
    "        occupations = occupations.replace(\"'\", \"\").split(\", \")\n",
    "        # Replace spaces within occupations with underscores\n",
    "        occupations = [occupation.replace(\" \", \"_\") for occupation in occupations]\n",
    "        # Join the occupations back with a space\n",
    "        return \" \".join(occupations)\n",
    "    else:\n",
    "        # Return an empty string or some default value if the pattern is not found\n",
    "        return \"\"\n",
    "\n",
    "# Apply the function to the 'occupations' column\n",
    "merged_cleaved_df['transformed_occupations'] = merged_cleaved_df['occupations'].apply(transform_occupation)\n",
    "merged_cleaved_df['transformed_occupations'].value_counts()\n"
   ]
  },
  {
   "cell_type": "markdown",
   "id": "9e114d5f",
   "metadata": {},
   "source": [
    "### Transforming Occupations Into Dummies?\n",
    "\n",
    "The following code is hashed-out as we are trying to limit variables in our modelling (as there are only 3330 rows in the dataset, creating too many variables will risk creating more columns then there are variables).  We can consider including it at a later time."
   ]
  },
  {
   "cell_type": "code",
   "execution_count": 73,
   "id": "50676c00",
   "metadata": {},
   "outputs": [],
   "source": [
    "# # Load your actual DataFrame here\n",
    "# # merged_cleaved_df = pd.read_csv('your_file.csv')\n",
    "\n",
    "# # Convert 'transformed_occupations' into dummy variables\n",
    "# occupation_dummies = pd.get_dummies(merged_cleaved_df['transformed_occupations'], drop_first=True)\n",
    "\n",
    "# # Define X and y\n",
    "# X = occupation_dummies\n",
    "# y = merged_cleaved_df['percent_likes']\n",
    "\n",
    "# # Splitting the data into train and test sets\n",
    "# X_train, X_test, y_train, y_test = train_test_split(X, y, test_size=0.3, random_state=42)\n",
    "\n",
    "# # Adding a constant to the model for the training data\n",
    "# X_train = sm.add_constant(X_train)\n",
    "\n",
    "# # Linear Regression on Training Data\n",
    "# model = sm.OLS(y_train, X_train)\n",
    "# result = model.fit()\n",
    "\n",
    "# # Optionally: Evaluate model performance on test data\n",
    "# X_test = sm.add_constant(X_test)\n",
    "# predictions = result.predict(X_test)\n",
    "\n",
    "\n",
    "# # Getting the coefficients from the trained model\n",
    "# coefficients = result.params\n",
    "\n",
    "# # Dropping the constant for the purpose of this analysis\n",
    "# coefficients = coefficients.drop('const', errors='ignore')\n",
    "\n",
    "# # Sorting the coefficients\n",
    "# sorted_coefficients = coefficients.sort_values()\n",
    "\n",
    "# # Selecting the top 10 positive and negative coefficients\n",
    "# top_10_positive = sorted_coefficients.tail(10)\n",
    "# top_10_negative = sorted_coefficients.head(10)\n",
    "\n",
    "# # Plotting\n",
    "# fig, axes = plt.subplots(nrows=1, ncols=2, figsize=(15, 6))\n",
    "\n",
    "# # Plot for top 10 positive coefficients\n",
    "# top_10_positive.plot(kind='barh', ax=axes[0], color='green')\n",
    "# axes[0].set_title('Top 10 Positive Coefficients')\n",
    "# axes[0].set_xlabel('Coefficient Value')\n",
    "# axes[0].set_ylabel('Occupations')\n",
    "\n",
    "# # Plot for top\n"
   ]
  },
  {
   "cell_type": "code",
   "execution_count": 74,
   "id": "a291f264",
   "metadata": {},
   "outputs": [
    {
     "ename": "NameError",
     "evalue": "name 'occupation_dummies' is not defined",
     "output_type": "error",
     "traceback": [
      "\u001b[0;31m---------------------------------------------------------------------------\u001b[0m",
      "\u001b[0;31mNameError\u001b[0m                                 Traceback (most recent call last)",
      "Cell \u001b[0;32mIn[74], line 2\u001b[0m\n\u001b[1;32m      1\u001b[0m \u001b[38;5;66;03m# again, the above code is hashed out as it creates too many columns. \u001b[39;00m\n\u001b[0;32m----> 2\u001b[0m \u001b[43moccupation_dummies\u001b[49m\n",
      "\u001b[0;31mNameError\u001b[0m: name 'occupation_dummies' is not defined"
     ]
    }
   ],
   "source": [
    "# again, the above code is hashed out as it creates too many columns. \n",
    "occupation_dummies"
   ]
  },
  {
   "cell_type": "markdown",
   "id": "868e198c",
   "metadata": {},
   "source": [
    "#### - about_speakers  3331 non-null   object **DROPPING**"
   ]
  },
  {
   "cell_type": "code",
   "execution_count": 75,
   "id": "c52b0c58",
   "metadata": {},
   "outputs": [
    {
     "data": {
      "text/plain": [
       "0       {0: 'Nobel Laureate Al Gor...\n",
       "1       {0: 'In Hans Rosling’s han...\n",
       "2       {0: 'David Pogue is the pe...\n",
       "3       {0: 'Majora Carter redefin...\n",
       "4       {0: \"Creativity expert Sir...\n",
       "                    ...              \n",
       "3985    {0: 'A political strategis...\n",
       "3986    {0: 'With a style that cra...\n",
       "3990    {0: \"TED Prize winner Larr...\n",
       "3991    {0: 'Nancy Lublin, cofound...\n",
       "3993    {0: 'Dick M. Carpenter II ...\n",
       "Name: about_speakers, Length: 3330, dtype: object"
      ]
     },
     "execution_count": 75,
     "metadata": {},
     "output_type": "execute_result"
    }
   ],
   "source": [
    "merged_cleaved_df['about_speakers']"
   ]
  },
  {
   "cell_type": "markdown",
   "id": "4b268915",
   "metadata": {},
   "source": [
    "For the scope of this analyses, we will drop this column.  "
   ]
  },
  {
   "cell_type": "code",
   "execution_count": 76,
   "id": "35765c22",
   "metadata": {},
   "outputs": [],
   "source": [
    "# Dropping the \"all_speakers\" column, as it is not useful for our analysis\n",
    "merged_cleaved_df.drop([\"about_speakers\"], axis=1, inplace=True)"
   ]
  },
  {
   "cell_type": "markdown",
   "id": "1fa55e9d",
   "metadata": {},
   "source": [
    "#### - native_lang       3331 non-null   object DROPPING"
   ]
  },
  {
   "cell_type": "code",
   "execution_count": 77,
   "id": "b97da500",
   "metadata": {},
   "outputs": [
    {
     "data": {
      "text/plain": [
       "native_lang\n",
       "en       3298\n",
       "es         15\n",
       "fr          7\n",
       "hi          2\n",
       "de          1\n",
       "pt          1\n",
       "ko          1\n",
       "zh-cn       1\n",
       "ar          1\n",
       "pt-br       1\n",
       "ja          1\n",
       "it          1\n",
       "Name: count, dtype: int64"
      ]
     },
     "execution_count": 77,
     "metadata": {},
     "output_type": "execute_result"
    }
   ],
   "source": [
    "merged_cleaved_df[\"native_lang\"].value_counts()"
   ]
  },
  {
   "cell_type": "markdown",
   "id": "c344830e",
   "metadata": {},
   "source": [
    "As the vast majority of this column represents English (\"en\") as being the native language, we will drop this column."
   ]
  },
  {
   "cell_type": "code",
   "execution_count": 78,
   "id": "60843a64",
   "metadata": {},
   "outputs": [],
   "source": [
    "merged_cleaved_df = merged_cleaved_df.drop(\"native_lang\", axis=1)"
   ]
  },
  {
   "cell_type": "markdown",
   "id": "edf8a87e",
   "metadata": {},
   "source": [
    "#### - available_lang    3331 non-null   object DROPPING"
   ]
  },
  {
   "cell_type": "code",
   "execution_count": 79,
   "id": "acccbb19",
   "metadata": {},
   "outputs": [
    {
     "data": {
      "text/plain": [
       "available_lang\n",
       "['en']                                                                                                                                                                                                    14\n",
       "['ar', 'bg', 'de', 'el', 'en', 'es', 'fr', 'he', 'it', 'ja', 'ko', 'nl', 'pl', 'pt-br', 'ro', 'ru', 'tr', 'vi', 'zh-cn', 'zh-tw']                                                                          6\n",
       "['ar', 'bg', 'de', 'en', 'es', 'fr', 'he', 'it', 'ja', 'ko', 'nl', 'pl', 'pt-br', 'ro', 'ru', 'tr', 'vi', 'zh-cn', 'zh-tw']                                                                                4\n",
       "['ar', 'bg', 'de', 'en', 'es', 'fr', 'he', 'it', 'ja', 'ko', 'nl', 'pl', 'pt', 'pt-br', 'ro', 'ru', 'sr', 'tr', 'vi', 'zh-cn', 'zh-tw']                                                                    4\n",
       "['ar', 'bg', 'cs', 'de', 'el', 'en', 'es', 'fa', 'fr', 'he', 'hr', 'hu', 'id', 'it', 'ja', 'ko', 'nl', 'pl', 'pt', 'pt-br', 'ro', 'ru', 'sk', 'sr', 'sv', 'th', 'tr', 'uk', 'vi', 'zh-cn', 'zh-tw']        3\n",
       "                                                                                                                                                                                                          ..\n",
       "['ar', 'bg', 'da', 'de', 'en', 'es', 'fr', 'he', 'hu', 'it', 'ja', 'ko', 'nb', 'nl', 'pl', 'pt', 'pt-br', 'ro', 'ru', 'sr', 'th', 'tr', 'vi', 'zh-cn', 'zh-tw']                                            1\n",
       "['ar', 'bg', 'cs', 'da', 'de', 'el', 'en', 'es', 'fa', 'fr', 'fr-ca', 'he', 'hr', 'it', 'ja', 'ko', 'lt', 'nl', 'pl', 'pt', 'pt-br', 'ro', 'ru', 'sq', 'sr', 'th', 'tr', 'uk', 'vi', 'zh-cn', 'zh-tw']     1\n",
       "['ar', 'bg', 'cs', 'de', 'el', 'en', 'es', 'fa', 'fr', 'he', 'it', 'ja', 'ko', 'nl', 'pl', 'pt', 'pt-br', 'ro', 'ru', 'tr', 'uk', 'vi', 'zh-cn', 'zh-tw']                                                  1\n",
       "['ar', 'bg', 'de', 'el', 'en', 'es', 'fa', 'fr', 'fr-ca', 'he', 'hr', 'hu', 'id', 'it', 'ja', 'ko', 'ku', 'nl', 'pl', 'pt', 'pt-br', 'ro', 'ru', 'sq', 'sr', 'th', 'tr', 'uk', 'vi', 'zh-cn', 'zh-tw']     1\n",
       "['en', 'es', 'it', 'pt-br']                                                                                                                                                                                1\n",
       "Name: count, Length: 3266, dtype: int64"
      ]
     },
     "execution_count": 79,
     "metadata": {},
     "output_type": "execute_result"
    }
   ],
   "source": [
    "merged_cleaved_df[\"available_lang\"].value_counts()"
   ]
  },
  {
   "cell_type": "markdown",
   "id": "484e84c3",
   "metadata": {},
   "source": [
    "As we are attempting to limit features, I will drop this column."
   ]
  },
  {
   "cell_type": "code",
   "execution_count": 80,
   "id": "6ef02f86",
   "metadata": {},
   "outputs": [],
   "source": [
    "merged_cleaved_df = merged_cleaved_df.drop(\"available_lang\", axis=1)"
   ]
  },
  {
   "cell_type": "markdown",
   "id": "24b5f687",
   "metadata": {},
   "source": [
    "#### - comments          3331 non-null   float64   **leave as-is**"
   ]
  },
  {
   "cell_type": "markdown",
   "id": "29d49379",
   "metadata": {},
   "source": [
    "The comments are ready for processing as they are already numerically represented. "
   ]
  },
  {
   "cell_type": "markdown",
   "id": "624f5646",
   "metadata": {},
   "source": [
    "#### - topics            3331 non-null   object **Turn into dummy variables via Multi Label Binarizing**"
   ]
  },
  {
   "cell_type": "code",
   "execution_count": 81,
   "metadata": {},
   "outputs": [
    {
     "data": {
      "text/plain": [
       "topics\n",
       "['art', 'creativity']                                                                                                                                                                                                        2\n",
       "['TED Fellows', 'photography', 'war']                                                                                                                                                                                        2\n",
       "['charter for compassion', 'compassion', 'global issues', 'religion']                                                                                                                                                        2\n",
       "['design', 'entertainment', 'live music', 'music', 'technology']                                                                                                                                                             2\n",
       "['architecture', 'cities', 'design', 'infrastructure']                                                                                                                                                                       2\n",
       "                                                                                                                                                                                                                            ..\n",
       "['TED Fellows', 'TED-Ed', 'brain', 'life', 'neuroscience', 'science', 'technology', 'biology', 'physiology', 'insects', 'nature', 'sound', 'humor']                                                                          1\n",
       "['TED-Ed', 'education', 'mind', 'science', 'philosophy', 'space', 'Planets', 'consciousness', 'math', 'physics', 'extraterrestrial life', 'curiosity', 'cosmos', 'universe', 'String theory', 'dark matter', 'nanoscale']    1\n",
       "['TED-Ed', 'biology', 'deextinction', 'exploration', 'science', 'oceans', 'submarine', 'environment', 'ecology', 'marine biology']                                                                                           1\n",
       "['TED-Ed', 'creativity', 'education', 'science', 'simplicity', 'technology', 'exploration', 'Nobel Prize', 'ancient world', 'curiosity', 'innovation', 'space', 'physics', 'Planets', 'history', 'math']                     1\n",
       "['society', 'law', 'policy', 'justice system', 'TEDx']                                                                                                                                                                       1\n",
       "Name: count, Length: 3321, dtype: int64"
      ]
     },
     "execution_count": 81,
     "metadata": {},
     "output_type": "execute_result"
    }
   ],
   "source": [
    "merged_cleaved_df[\"topics\"].value_counts()"
   ]
  },
  {
   "cell_type": "markdown",
   "id": "a04eafe1",
   "metadata": {},
   "source": [
    "We will turn these into dummy variables via a MultiLabelBinarizer in the next section. "
   ]
  },
  {
   "cell_type": "markdown",
   "id": "c65003bd",
   "metadata": {},
   "source": [
    "#### - related_talks     3331 non-null   object  DROPPING"
   ]
  },
  {
   "cell_type": "code",
   "execution_count": 82,
   "id": "e0fd0787",
   "metadata": {},
   "outputs": [
    {
     "data": {
      "text/plain": [
       "related_talks\n",
       "{243: 'New thinking on the climate crisis', 547: 'The business logic of sustainability', 2093: 'The state of the climate — and what we might do about it', 54715: 'How we can turn the tide on climate', 29968: 'The most important thing you can do to fight climate change: talk about it', 2339: \"Climate change is happening. Here's how we adapt\"}                  1\n",
       "{2387: 'The untapped genius that could change science for the better', 2504: 'Good news in the fight against pancreatic cancer', 2821: 'A simple new blood test that can catch cancer early', 53671: 'How does chemotherapy work?', 2467: 'A new superweapon in the fight against cancer', 20919: 'How cancer cells communicate -- and how we can slow them down'}       1\n",
       "{40727: 'How to revive your belief in democracy', 2104: 'How to upgrade democracy for the Internet era', 2060: 'Why ordinary people need to understand power', 29521: \"What's needed to bring the US voting system into the 21st century\", 51845: 'Why do Americans vote on Tuesdays?', 2714: \"Who would the rest of the world vote for in your country's election?\"}    1\n",
       "{1040: 'Why we have too few women leaders', 2384: 'The US needs paid family leave -- for the sake of its future', 2272: 'The single biggest reason why start-ups succeed', 31235: 'This is what makes employees happy at work', 33778: '8 lessons on building a company people enjoy working for', 49359: 'What productive conflict can offer a workplace'}              1\n",
       "{2582: 'How to raise successful kids -- without over-parenting', 1965: 'Teach teachers how to create magic', 2579: \"Let's teach for mastery -- not test scores\", 2276: 'How to fix a broken school? Lead fearlessly, love hard', 2775: 'A summer school kids actually want to attend', 46386: 'The \"opportunity gap\" in US public education -- and how to close it'}     1\n",
       "                                                                                                                                                                                                                                                                                                                                                                        ..\n",
       "{1269: 'The shared experience of absurdity', 1151: 'Gotta share!', 60: 'Four American characters', 37346: 'The beautiful future of solar power', 5116: 'Lessons from a solar storm chaser', 2368: 'Forget Wi-Fi. Meet the new Li-Fi Internet'}                                                                                                                           1\n",
       "{1340: 'Hedonistic sustainability', 1065: 'We are makers', 891: 'Intricate beauty by design', 1793: 'DJ decks made of ... paper', 1347: 'The secret structure of great talks', 1706: 'What makes us feel good about our work?'}                                                                                                                                          1\n",
       "{1126: 'On being wrong', 605: 'A kinder, gentler philosophy of success', 947: 'Keep your goals to yourself', 2582: 'How to raise successful kids -- without over-parenting', 1687: 'To This Day ... for the bullied and beautiful', 70: '8 secrets of success'}                                                                                                          1\n",
       "{1267: 'A map of the brain', 1146: 'A light switch for neurons', 1000: 'Re-engineering the brain', 2244: \"How to control someone else's arm with your brain\", 2557: \"A new way to study the brain's invisible secrets\", 2495: 'This is your brain on communication'}                                                                                                     1\n",
       "{2406: 'I love being a police officer, but we need reform', 60315: 'How forgiveness can create a more just legal system', 8421: \"How to put the power of law in people's hands\", 2675: 'How jails extort the poor', 2149: 'The small and surprisingly dangerous detail the police track about you', 2453: \"A prosecutor's vision for a better justice system\"}           1\n",
       "Name: count, Length: 3330, dtype: int64"
      ]
     },
     "execution_count": 82,
     "metadata": {},
     "output_type": "execute_result"
    }
   ],
   "source": [
    "merged_cleaved_df[\"related_talks\"].value_counts()"
   ]
  },
  {
   "cell_type": "markdown",
   "id": "0493d65a",
   "metadata": {},
   "source": [
    "For the scope of this project, we will drop this column."
   ]
  },
  {
   "cell_type": "code",
   "execution_count": 83,
   "id": "4019bfd4",
   "metadata": {},
   "outputs": [],
   "source": [
    "merged_cleaved_df = merged_cleaved_df.drop(\"related_talks\", axis=1)"
   ]
  },
  {
   "cell_type": "markdown",
   "id": "1ac288d5",
   "metadata": {},
   "source": [
    "#### - url               3331 non-null   object **DROPPED**"
   ]
  },
  {
   "cell_type": "markdown",
   "id": "5a577330",
   "metadata": {},
   "source": [
    "We will drop the URL column."
   ]
  },
  {
   "cell_type": "code",
   "execution_count": 84,
   "id": "d530ae0e",
   "metadata": {},
   "outputs": [],
   "source": [
    "# dropping the URL column\n",
    "merged_cleaved_df.drop([\"url\"], axis=1, inplace=True)"
   ]
  },
  {
   "cell_type": "markdown",
   "id": "6690c83a",
   "metadata": {},
   "source": [
    "#### - description       3331 non-null   object DROPPED"
   ]
  },
  {
   "cell_type": "code",
   "execution_count": 85,
   "id": "d09af7ec",
   "metadata": {},
   "outputs": [
    {
     "data": {
      "text/plain": [
       "description\n",
       "With the same humor and humanity he exuded in \"An Inconvenient Truth,\" Al Gore spells out 15 ways that individuals can address climate change immediately, from buying a hybrid to inventing a new, hotter brand name for global warming.                                                                                                                                                                                                                                                                               1\n",
       "After decades of research and billions spent in clinical trials, we still have a problem with cancer drug delivery, says biomedical engineer Elizabeth Wayne. Chemotherapy kills cancer -- but it kills the rest of your body, too. Instead of using human design to fight cancer, why not use nature's? In this quick talk, Wayne explains how her lab is creating nanoparticle treatments that bind to immune cells, your body's first responders, to precisely target cancer cells without damaging healthy ones.    1\n",
       "Many people like to talk about how important voting is, how it's your civic duty and responsibility as an adult. Eric Liu agrees with all that, but he also thinks it's time to bring joy back to the ballot box. The former political speechwriter details how he and his team are fostering the culture around voting in the 2016 US presidential election -- and closes with a powerful analysis of why anyone eligible should show up on Election Day.                                                              1\n",
       "How much do you get paid? How does it compare to the people you work with? You should know, and so should they, says management researcher David Burkus. In this talk, Burkus questions our cultural assumptions around keeping salaries secret and makes a compelling case for why sharing them could benefit employees, organizations and society.                                                                                                                                                                    1\n",
       "Our kids are our future, and it's crucial they believe it themselves. That's why Nadia Lopez opened an academic oasis in Brownsville, Brooklyn, one of the most underserved and violent neighborhoods in New York -- because she believes in every child's brilliance and capabilities. In this short, energizing talk, the founding principal of Mott Hall Bridges Academy (and a star of Humans of New York) shares how she helps her scholars envision a brighter future for themselves and their families.          1\n",
       "                                                                                                                                                                                                                                                                                                                                                                                                                                                                                                                       ..\n",
       "Colin Robertson had 3 minutes on the TED stage to tell the world about his solar-powered crowdsourced health care solution. And then...                                                                                                                                                                                                                                                                                                                                                                                 1\n",
       "Kelli Anderson shatters our expectations about reality by injecting humor and surprise into everyday objects. She shares her disruptive and clever designs.                                                                                                                                                                                                                                                                                                                                                             1\n",
       "In this funny and blunt talk, Larry Smith pulls no punches when he calls out the absurd excuses people invent when they fail to pursue their passions.                                                                                                                                                                                                                                                                                                                                                                  1\n",
       "By dissecting a cockroach ... yes, live on stage ... TED Fellow and neuroscientist Greg Gage shows how brains receive and deliver electric impulses -- and how legs can respond. This talk comes from the TED-Ed project.                                                                                                                                                                                                                                                                                               1\n",
       "Many countries have an active, centuries-old law that allows government agencies to take your things -- your house, your car, your business -- without ever convicting you of a crime. Law researcher Dick M. Carpenter II exposes how this practice of civil forfeiture threatens your rights and creates a huge monetary incentive for law enforcement to pocket your possessions -- and he lays out a path to end \"policing for profit\" once and for all.                                                            1\n",
       "Name: count, Length: 3330, dtype: int64"
      ]
     },
     "execution_count": 85,
     "metadata": {},
     "output_type": "execute_result"
    }
   ],
   "source": [
    "merged_cleaved_df[\"description\"].value_counts()"
   ]
  },
  {
   "cell_type": "markdown",
   "id": "05ba2de7",
   "metadata": {},
   "source": [
    "As this column has little to do with the giving of the speech itself, we will drop this column."
   ]
  },
  {
   "cell_type": "code",
   "execution_count": 86,
   "id": "ba0e3e7a",
   "metadata": {},
   "outputs": [],
   "source": [
    "# dropping the description column\n",
    "merged_cleaved_df.drop([\"description\"], axis=1, inplace=True)"
   ]
  },
  {
   "cell_type": "markdown",
   "id": "0edc97b5",
   "metadata": {},
   "source": [
    "#### - transcript        3331 non-null   object "
   ]
  },
  {
   "cell_type": "code",
   "execution_count": 87,
   "id": "5c9ee415",
   "metadata": {},
   "outputs": [
    {
     "data": {
      "text/plain": [
       "transcript\n",
       "Thank you so much, Chris. And it's truly a great honor to have the opportunity to come to this stage twice; I'm extremely grateful. I have been blown away by this conference, and I want to thank all of you for the many nice comments about what I had to say the other night. And I say that sincerely, partly because (Mock sob) I need that. (Laughter) Put yourselves in my position. (Laughter) I flew on Air Force Two for eight years. (Laughter) Now I have to take off my shoes or boots to get on an airplane! (Laughter) (Applause) I'll tell you one quick story to illustrate what that's been like for me. (Laughter) It's a true story — every bit of this is true. Soon after Tipper and I left the — (Mock sob) White House — (Laughter) we were driving from our home in Nashville to a little farm we have 50 miles east of Nashville. Driving ourselves. (Laughter) I know it sounds like a little thing to you, but — (Laughter) I looked in the rear-view mirror and all of a sudden it just hit me. There was no motorcade back there. (Laughter) You've heard of phantom limb pain? (Laughter) This was a rented Ford Taurus. (Laughter) It was dinnertime, and we started looking for a place to eat. We were on I-40. We got to Exit 238, Lebanon, Tennessee. We got off the exit, we found a Shoney's restaurant. Low-cost family restaurant chain, for those of you who don't know it. We went in and sat down at the booth, and the waitress came over, made a big commotion over Tipper. (Laughter) She took our order, and then went to the couple in the booth next to us, and she lowered her voice so much, I had to really strain to hear what she was saying. And she said \"Yes, that's former Vice President Al Gore and his wife, Tipper.\" And the man said, \"He's come down a long way, hasn't he?\" (Laughter) (Applause) There's been kind of a series of epiphanies. (Laughter) The very next day, continuing the totally true story, I got on a G-V to fly to Africa to make a speech in Nigeria, in the city of Lagos, on the topic of energy. And I began the speech by telling them the story of what had just happened the day before in Nashville. And I told it pretty much the same way I've just shared it with you: Tipper and I were driving ourselves, Shoney's, low-cost family restaurant chain, what the man said — they laughed. I gave my speech, then went back out to the airport to fly back home. I fell asleep on the plane until, during the middle of the night, we landed on the Azores Islands for refueling. I woke up, they opened the door, I went out to get some fresh air, and I looked, and there was a man running across the runway. And he was waving a piece of paper, and he was yelling, \"Call Washington! Call Washington!\" And I thought to myself, in the middle of the night, in the middle of the Atlantic, what in the world could be wrong in Washington? Then I remembered it could be a bunch of things. (Laughter) But what it turned out to be, was that my staff was extremely upset because one of the wire services in Nigeria had already written a story about my speech, and it had already been printed in cities all across the United States of America. It was printed in Monterey, I checked. (Laughter) And the story began, \"Former Vice President Al Gore announced in Nigeria yesterday,\" quote: 'My wife Tipper and I have opened a low-cost family restaurant'\" — (Laughter) \"'named Shoney's, and we are running it ourselves.'\" (Laughter) Before I could get back to U.S. soil, David Letterman and Jay Leno had already started in on — one of them had me in a big white chef's hat, Tipper was saying, \"One more burger with fries!\" (Laughter) Three days later, I got a nice, long, handwritten letter from my friend and partner and colleague Bill Clinton, saying, \"Congratulations on the new restaurant, Al!\" (Laughter) We like to celebrate each other's successes in life. (Laughter) I was going to talk about information ecology. But I was thinking that, since I plan to make a lifelong habit of coming back to TED, that maybe I could talk about that another time. (Applause) Chris Anderson: It's a deal! (Applause) Al Gore: I want to focus on what many of you have said you would like me to elaborate on: What can you do about the climate crisis? I want to start with a couple of — I'm going to show some new images, and I'm going to recapitulate just four or five. Now, the slide show. I update the slide show every time I give it. I add new images, because I learn more about it every time I give it. It's like beach-combing, you know? Every time the tide comes in and out, you find some more shells. Just in the last two days, we got the new temperature records in January. This is just for the United States of America. Historical average for Januarys is 31 degrees; last month was 39.5 degrees. Now, I know that you wanted some more bad news about the environment — I'm kidding. But these are the recapitulation slides, and then I'm going to go into new material about what you can do. But I wanted to elaborate on a couple of these. First of all, this is where we're projected to go with the U.S. contribution to global warming, under business as usual. Efficiency in end-use electricity and end-use of all energy is the low-hanging fruit. Efficiency and conservation — it's not a cost; it's a profit. The sign is wrong. It's not negative; it's positive. These are investments that pay for themselves. But they are also very effective in deflecting our path. Cars and trucks — I talked about that in the slideshow, but I want you to put it in perspective. It's an easy, visible target of concern — and it should be — but there is more global warming pollution that comes from buildings than from cars and trucks. Cars and trucks are very significant, and we have the lowest standards in the world. And so we should address that. But it's part of the puzzle. Other transportation efficiency is as important as cars and trucks. Renewables at the current levels of technological efficiency can make this much difference. And with what Vinod, and John Doerr and others, many of you here — there are a lot of people directly involved in this — this wedge is going to grow much more rapidly than the current projection shows it. Carbon Capture and Sequestration — that's what CCS stands for — is likely to become the killer app that will enable us to continue to use fossil fuels in a way that is safe. Not quite there yet. OK. Now, what can you do? Reduce emissions in your home. Most of these expenditures are also profitable. Insulation, better design. Buy green electricity where you can. I mentioned automobiles — buy a hybrid. Use light rail. Figure out some of the other options that are much better. It's important. Be a green consumer. You have choices with everything you buy, between things that have a harsh effect, or a much less harsh effect on the global climate crisis. Consider this: Make a decision to live a carbon-neutral life. Those of you who are good at branding, I'd love to get your advice and help on how to say this in a way that connects with the most people. It is easier than you think. It really is. A lot of us in here have made that decision, and it is really pretty easy. It means reduce your carbon dioxide emissions with the full range of choices that you make, and then purchase or acquire offsets for the remainder that you have not completely reduced. And what it means is elaborated at climatecrisis.net. There is a carbon calculator. Participant Productions convened — with my active involvement — the leading software writers in the world, on this arcane science of carbon calculation, to construct a consumer-friendly carbon calculator. You can very precisely calculate what your CO2 emissions are, and then you will be given options to reduce. And by the time the movie comes out in May, this will be updated to 2.0, and we will have click-through purchases of offsets. Next, consider making your business carbon-neutral. Again, some of us have done that, and it's not as hard as you think. Integrate climate solutions into all of your innovations, whether you are from the technology, or entertainment, or design and architecture community. Invest sustainably. Majora mentioned this. Listen, if you have invested money with managers who you compensate on the basis of their annual performance, don't ever again complain about quarterly report CEO management. Over time, people do what you pay them to do. And if they judge how much they're going to get paid on your capital that they've invested, based on the short-term returns, you're going to get short-term decisions. A lot more to be said about that. Become a catalyst of change. Teach others, learn about it, talk about it. The movie is a movie version of the slideshow I gave two nights ago, except it's a lot more entertaining. And it comes out in May. Many of you here have the opportunity to ensure that a lot of people see it. Consider sending somebody to Nashville. Pick well. And I am personally going to train people to give this slideshow — re-purposed, with some of the personal stories obviously replaced with a generic approach, and it's not just the slides, it's what they mean. And it's how they link together. And so I'm going to be conducting a course this summer for a group of people that are nominated by different folks to come and then give it en masse, in communities all across the country, and we're going to update the slideshow for all of them every single week, to keep it right on the cutting edge. Working with Larry Lessig, it will be, somewhere in that process, posted with tools and limited-use copyrights, so that young people can remix it and do it in their own way. (Applause) Where did anybody get the idea that you ought to stay arm's length from politics? It doesn't mean that if you're a Republican, that I'm trying to convince you to be a Democrat. We need Republicans as well. This used to be a bipartisan issue, and I know that in this group it really is. Become politically active. Make our democracy work the way it's supposed to work. Support the idea of capping carbon dioxide emissions — global warming pollution — and trading it. Here's why: as long as the United States is out of the world system, it's not a closed system. Once it becomes a closed system, with U.S. participation, then everybody who's on a board of directors — how many people here serve on the board of directors of a corporation? Once it's a closed system, you will have legal liability if you do not urge your CEO to get the maximum income from reducing and trading the carbon emissions that can be avoided. The market will work to solve this problem — if we can accomplish this. Help with the mass persuasion campaign that will start this spring. We have to change the minds of the American people. Because presently, the politicians do not have permission to do what needs to be done. And in our modern country, the role of logic and reason no longer includes mediating between wealth and power the way it once did. It's now repetition of short, hot-button, 30-second, 28-second television ads. We have to buy a lot of those ads. Let's re-brand global warming, as many of you have suggested. I like \"climate crisis\" instead of \"climate collapse,\" but again, those of you who are good at branding, I need your help on this. Somebody said the test we're facing now, a scientist told me, is whether the combination of an opposable thumb and a neocortex is a viable combination. (Laughter) That's really true. I said the other night, and I'll repeat now: this is not a political issue. Again, the Republicans here — this shouldn't be partisan. You have more influence than some of us who are Democrats do. This is an opportunity. Not just this, but connected to the ideas that are here, to bring more coherence to them. We are one. Thank you very much, I appreciate it. (Applause)                                                                                                                                                                                                                                                                                                                                                                                                                                                                                                                                                                                                                                                                                                                                                                                                                                                                                                                                                                                                                                                                                                                                                                                1\n",
       "After decades of research and billions of dollars spent in clinical trials, we still have a problem with cancer drug delivery. We still give patients chemotherapy, which is so non-specific that even though it kills the cancer cells, it kind of kills the rest of your body, too. And yes, we have developed more selective drugs, but it's still a challenge to get them into the tumor, and they end up accumulating in the other organs as well or passing through your urine, which is a total waste. And fields like mine have emerged where we try to encapsulate these drugs to protect them as they travel through the body. But these modifications cause problems that we make more modifications to fix. So what I'm really trying to say is we need a better drug delivery system. And I propose, rather than using solely human design, why not use nature's? Immune cells are these versatile vehicles that travel throughout our body, patrolling for signs of disease and arriving at a wound mere minutes after injury. So I ask you guys: If immune cells are already traveling to places of injury or disease in our bodies, why not add an extra passenger? Why not use immune cells to deliver drugs to cure some of our biggest problems in disease? I am a biomedical engineer, and I want to tell you guys a story about how I use immune cells to target one of the largest problems in cancer. Did you know that over 90 percent of cancer deaths can be attributed to its spread? So if we can stop these cancer cells from going from the primary tumor to a distant site, we can stop cancer right in its tracks and give people more of their lives back. To do this special mission, we decided to deliver a nanoparticle made of lipids, which are the same materials that compose your cell membrane. And we've added two special molecules. One is called e-selectin, which acts as a glue that binds the nanoparticle to the immune cell. And the second one is called trail. Trail is a therapeutic drug that kills cancer cells but not normal cells. Now, when you put both of these together, you have a mean killing machine on wheels. To test this, we ran an experiment in a mouse. So what we did was we injected the nanoparticles, and they bound almost immediately to the immune cells in the bloodstream. And then we injected the cancer cells to mimic a process through which cancer cells spread throughout our bodies. And we found something very exciting. We found that in our treated group, over 75 percent of the cancer cells we initially injected were dead or dying, in comparison to only around 25 percent. So just imagine: these fewer amount of cells were available to actually be able to spread to a different part of the body. And this is only after two hours of treatment. Our results were amazing, and we had some pretty interesting press. My favorite title was actually, \"Sticky balls may stop the spread of cancer.\" (Laughter) I can't tell you just how smug my male colleagues were, knowing that their sticky balls might one day cure cancer. (Laughter) But I can tell you they made some pretty, pretty, exciting, pretty ballsy t-shirts. This was also my first experience talking to patients where they asked how soon our therapy would be available. And I keep these stories with me to remind me of the importance of the science, the scientists and the patients. Now, our fast-acting results were pretty interesting, but we still had one lingering question: Can our sticky balls, our particles actually attached to the immune cells, actually stop the spread of cancer? So we went to our animal model, and we found three important parts. Our primary tumors were smaller in our treated animals, there were fewer cells in circulation, and there was little to no tumor burden in the distant organs. Now, this wasn't just a victory for us and our sticky balls. This was also a victory to me in drug delivery, and it represents a paradigm shift, a revolution — to go from just using drugs, just injecting them and hoping they go to the right places in the body, to using immune cells as special delivery drivers in your body. For this example, we used two molecules, e-selectin and trail, but really, the possibility of drugs you can use are endless. And I talked about cancer, but where disease goes, so do immune cells. So this could be used for any disease. Imagine using immune cells to deliver crucial wound-healing agents after a spinal cord injury, or using immune cells to deliver drugs past the blood-brain barrier to treat Parkinson's or Alzheimer's disease. These are the ideas that excite me about science the most. And from where I stand, I see so much promise and opportunity. Thank you. (Applause)                                                                                                                                                                                                                                                                                                                                                                                                                                                                                                                                                                                                                                                                                                                                                                                                                                                                                                                                                                                                                                                                                                                                                                                                                                                                                                                                                                                                                                                                                                                                                                                                                                                                                                                                                                                                                                                                                                                                                                                                                                                                                                                                                                                                                                                                                                                                                                                                                                                                                                                                                                                                                                                                                                                                                                                                                                                                                                                                                                                                                                                                                                                                                                                                                                                                                                                                                                                                                                                                                                                                                                                                                                                                                                                                                                                                                                                                                                                                                                                                                                                                                                                                                                                                                                                                                                                                                                                                                                                                                                                                                                                                                                                                                                                                                                                                                                                                                                                                                                                                                                                                                                                                                                                                                                                                                                                                                                                                                                                                                                                                                                                                                                                                                                                                                                                                                                                                                                                                                                                                                                                                                                                                                                                                                                                                                                                                                                                                                                                                                                                                                                                                                                                                                                                                                                                                                                                                                                                                                                                                                                                                                                                                                                                                                                                                                                                                                                                                                                                                                                                                                                                                                                                                                                                                                                                                                                                                                                                                                                                                                                                                                                                                                                                                                                                                                                                                                                                                                                                                                                                                                                                                                                                                           1\n",
       "Why bother? The game is rigged. My vote won't count. The choices are terrible. Voting is for suckers. Perhaps you've thought some of these things. Perhaps you've even said them. And if so, you wouldn't be alone, and you wouldn't be entirely wrong. The game of public policy today is rigged in many ways. How else would more than half of federal tax breaks flow up to the wealthiest five percent of Americans? And our choices indeed are often terrible. For many people across the political spectrum, Exhibit A is the 2016 presidential election. But in any year, you can look up and down the ballot and find plenty to be uninspired about. But in spite of all this, I still believe voting matters. And crazy as it may sound, I believe we can revive the joy of voting. Today, I want to talk about how we can do that, and why. There used to be a time in American history when voting was fun, when it was much more than just a grim duty to show up at the polls. That time is called \"most of American history.\" (Laughter) From the Revolution to the Civil Rights Era, the United States had a vibrant, robustly participatory and raucous culture of voting. It was street theater, open-air debates, fasting and feasting and toasting, parades and bonfires. During the 19th century, immigrants and urban political machines helped fuel this culture of voting. That culture grew with each successive wave of new voters. During Reconstruction, when new African-American voters, new African-American citizens, began to exercise their power, they celebrated in jubilee parades that connected emancipation with their newfound right to vote. A few decades later, the suffragettes brought a spirit of theatricality to their fight, marching together in white dresses as they claimed the franchise. And the Civil Rights Movement, which sought to redeem the promise of equal citizenship that had been betrayed by Jim Crow, put voting right at the center. From Freedom Summer to the march in Selma, that generation of activists knew that voting matters, and they knew that spectacle and the performance of power is key to actually claiming power. But it's been over a half century since Selma and the Voting Rights Act, and in the decades since, this face-to-face culture of voting has just about disappeared. It's been killed by television and then the internet. The couch has replaced the commons. Screens have made citizens into spectators. And while it's nice to share political memes on social media, that's a rather quiet kind of citizenship. It's what the sociologist Sherry Turkle calls \"being alone together.\" What we need today is an electoral culture that is about being together together, in person, in loud and passionate ways, so that instead of being \"eat your vegetables\" or \"do you duty,\" voting can feel more like \"join the club\" or, better yet, \"join the party.\" Imagine if we had, across the country right now, in local places but nationwide, a concerted effort to revive a face-to-face set of ways to engage and electioneer: outdoor shows in which candidates and their causes are mocked and praised in broad satirical style; soapbox speeches by citizens; public debates held inside pubs; streets filled with political art and handmade posters and murals; battle of the band concerts in which competing performers rep their candidates. Now, all of this may sound a little bit 18th century to you, but in fact, it doesn't have to be any more 18th century than, say, Broadway's \"Hamilton,\" which is to say vibrantly contemporary. And the fact is that all around the world, today, millions of people are voting like this. In India, elections are colorful, communal affairs. In Brazil, election day is a festive, carnival-type atmosphere. In Taiwan and Hong Kong, there is a spectacle, eye-popping, eye-grabbing spectacle to the street theater of elections. You might ask, well, here in America, who has time for this? And I would tell you that the average American watches five hours of television a day. You might ask, who has the motivation? And I'll tell you, any citizen who wants to be seen and heard not as a prop, not as a talking point, but as a participant, as a creator. Well, how do we make this happen? Simply by making it happen. That's why a group of colleagues and I launched a new project called \"The Joy of Voting.\" In four cities across the United States — Philadelphia, Miami, Akron, Ohio, and Wichita, Kansas — we've gathered together artists and activists, educators, political folks, neighbors, everyday citizens to come together and create projects that can foster this culture of voting in a local way. In Miami, that means all-night parties with hot DJs where the only way to get in is to show that you're registered to vote. In Akron, it means political plays being performed in the bed of a flatbed truck that moves from neighborhood to neighborhood. In Philadelphia, it's a voting-themed scavenger hunt all throughout colonial old town. And in Wichita, it's making mixtapes and live graffiti art in the North End to get out the vote. There are 20 of these projects, and they are remarkable in their beauty and their diversity, and they are changing people. Let me tell you about a couple of them. In Miami, we've commissioned and artist, a young artist named Atomico, to create some vivid and vibrant images for a new series of \"I voted\" stickers. But the thing is, Atomico had never voted. He wasn't even registered. So as he got to work on creating this artwork for these stickers, he also began to get over his sense of intimidation about politics. He got himself registered, and then he got educated about the upcoming primary election, and on election day he was out there not just passing out stickers, but chatting up voters and encouraging people to vote, and talking about the election with passersby. In Akron, a theater company called the Wandering Aesthetics has been putting on these pickup truck plays. And to do so, they put out an open call to the public asking for speeches, monologues, dialogues, poems, snippets of anything that could be read aloud and woven into a performance. They got dozens of submissions. One of them was a poem written by nine students in an ESL class, all of them Hispanic migrant workers from nearby Hartville, Ohio. I want to read to you from this poem. It's called \"The Joy of Voting.\" \"I would like to vote for the first time because things are changing for Hispanics. I used to be afraid of ghosts. Now I am afraid of people. There's more violence and racism. Voting can change this. The border wall is nothing. It's just a wall. The wall of shame is something. It's very important to vote so we can break down this wall of shame. I have passion in my heart. Voting gives me a voice and power. I can stand up and do something.\" \"The Joy of Voting\" project isn't just about joy. It's about this passion. It's about feeling and belief, and it isn't just our organization's work. All across this country right now, immigrants, young people, veterans, people of all different backgrounds are coming together to create this kind of passionate, joyful activity around elections, in red and blue states, in urban and rural communities, people of every political background. What they have in common is simply this: their work is rooted in place. Because remember, all citizenship is local. When politics becomes just a presidential election, we yell and we scream at our screens, and then we collapse, exhausted. But when politics is about us and our neighbors and other people in our community coming together to create experiences of collective voice and imagination, then we begin to remember that this stuff matters. We begin to remember that this is the stuff of self-government. Which brings me back to where I began. Why bother? There's one way to answer this question. Voting matters because it is a self-fulfilling act of belief. It feeds the spirit of mutual interest that makes any society thrive. When we vote, even if it is in anger, we are part of a collective, creative leap of faith. Voting helps us generate the very power that we wish we had. It's no accident that democracy and theater emerged around the same time in ancient Athens. Both of them yank the individual out of the enclosure of her private self. Both of them create great public experiences of shared ritual. Both of them bring the imagination to life in ways that remind us that all of our bonds in the end are imagined, and can be reimagined. This moment right now, when we think about the meaning of imagination, is so fundamentally important, and our ability to take that spirit and to take that sense that there is something greater out there, is not just a matter of technical expertise. It's not just a matter of making the time or having the know-how. It is a matter of spirit. But let me give you an answer to this question, \"Why bother?\" that is maybe a little less spiritual and a bit more pointed. Why bother voting? Because there is no such thing as not voting. Not voting is voting, for everything that you may detest and oppose. Not voting can be dressed up as an act of principled, passive resistance, but in fact not voting is actively handing power over to those whose interests are counter to your own, and those who would be very glad to take advantage of your absence. Not voting is for suckers. Imagine where this country would be if all the folks who in 2010 created the Tea Party had decided that, you know, politics is too messy, voting is too complicated. There is no possibility of our votes adding up to anything. They didn't preemptively silence themselves. They showed up, and in the course of showing up, they changed American politics. Imagine if all of the followers of Donald Trump and Bernie Sanders had decided not to upend the political status quo and blow apart the frame of the previously possible in American politics. They did that by voting. We live in a time right now, divided, often very dark, where across the left and the right, there's a lot of talk of revolution and the need for revolution to disrupt everyday democracy. Well, here's the thing: everyday democracy already gives us a playbook for revolution. In the 2012 presidential election, young voters, Latino voters, Asian-American voters, low-income voters, all showed up at less than 50 percent. In the 2014 midterm elections, turnout was 36 percent, which was a 70-year low. And in your average local election, turnout hovers somewhere around 20 percent. I invite you to imagine 100 percent. Picture 100 percent. Mobilize 100 percent, and overnight, we get revolution. Overnight, the policy priorities of this country change dramatically, and every level of government becomes radically more responsive to all the people. What would it take to mobilize 100 percent? Well, we do have to push back against efforts afoot all across the country right now to make voting harder. But at the same time, we have to actively create a positive culture of voting that people want to belong to, be part of, and experience together. We have to make purpose. We have to make joy. So yes, let's have that revolution, a revolution of spirit, of ideas, of policy and participation, a revolution against cynicism, a revolution against the self-fulfilling sense of powerlessness. Let's vote this revolution into existence, and while we're at it, let's have some fun. Thank you very much. (Applause)                                                                                                                                                                                                                                                                                                                                                                                                                                                                                                                                                                                                                                                                                                                                                                                                                                                                                                                                                                                                                                                                                                                                                                                                                                                                                                                                                                                                                                                                                                                                                                                                                                                1\n",
       "How much do you get paid? Don't answer that out loud. But put a number in your head. Now: How much do you think the person sitting next to you gets paid? Again, don't answer out loud. (Laughter) At work, how much do you think the person sitting in the cubicle or the desk next to you gets paid? Do you know? Should you know? Notice, it's a little uncomfortable for me to even ask you those questions. But admit it — you kind of want to know. Most of us are uncomfortable with the idea of broadcasting our salary. We're not supposed to tell our neighbors, and we're definitely not supposed to tell our office neighbors. The assumed reason is that if everybody knew what everybody got paid, then all hell would break loose. There'd be arguments, there'd be fights, there might even be a few people who quit. But what if secrecy is actually the reason for all that strife? And what would happen if we removed that secrecy? What if openness actually increased the sense of fairness and collaboration inside a company? What would happen if we had total pay transparency? For the past several years, I've been studying the corporate and entrepreneurial leaders who question the conventional wisdom about how to run a company. And the question of pay keeps coming up. And the answers keep surprising. It turns out that pay transparency — sharing salaries openly across a company — makes for a better workplace for both the employee and for the organization. When people don't know how their pay compares to their peers', they're more likely to feel underpaid and maybe even discriminated against. Do you want to work at a place that tolerates the idea that you feel underpaid or discriminated against? But keeping salaries secret does exactly that, and it's a practice as old as it is common, despite the fact that in the United States, the law protects an employee's right to discuss their pay. In one famous example from decades ago, the management of Vanity Fair magazine actually circulated a memo entitled: \"Forbidding Discussion Among Employees of Salary Received.\" \"Forbidding\" discussion among employees of salary received. Now that memo didn't sit well with everybody. New York literary figures Dorothy Parker, Robert Benchley and Robert Sherwood, all writers in the Algonquin Round Table, decided to stand up for transparency and showed up for work the next day with their salary written on signs hanging from their neck. (Laughter) Imagine showing up for work with your salary just written across your chest for all to see. But why would a company even want to discourage salary discussions? Why do some people go along with it, while others revolt against it? It turns out that in addition to the assumed reasons, pay secrecy is actually a way to save a lot of money. You see, keeping salaries secret leads to what economists call \"information asymmetry.\" This is a situation where, in a negotiation, one party has loads more information than the other. And in hiring or promotion or annual raise discussions, an employer can use that secrecy to save a lot of money. Imagine how much better you could negotiate for a raise if you knew everybody's salary. Economists warn that information asymmetry can cause markets to go awry. Someone leaves a pay stub on the copier, and suddenly everybody is shouting at each other. In fact, they even warn that information asymmetry can lead to a total market failure. And I think we're almost there. Here's why: first, most employees have no idea how their pay compares to their peers'. In a 2015 survey of 70,000 employees, two-thirds of everyone who is paid at the market rate said that they felt they were underpaid. And of everybody who felt that they were underpaid, 60 percent said that they intended to quit, regardless of where they were — underpaid, overpaid or right at the market rate. If you were part of this survey, what would you say? Are you underpaid? Well, wait — how do you even know, because you're not allowed to talk about it? Next, information asymmetry, pay secrecy, makes it easier to ignore the discrimination that's already present in the market today. In a 2011 report from the Institute for Women's Policy Research, the gender wage gap between men and women was 23 percent. This is where that 77 cents on the dollar comes from. But in the Federal Government, where salaries are pinned to certain levels and everybody knows what those levels are, the gender wage gap shrinks to 11 percent — and this is before controlling for any of the factors that economists argue over whether or not to control for. If we really want to close the gender wage gap, maybe we should start by opening up the payroll. If this is what total market failure looks like, then openness remains the only way to ensure fairness. Now, I realize that letting people know what you make might feel uncomfortable, but isn't it less uncomfortable than always wondering if you're being discriminated against, or if your wife or your daughter or your sister is being paid unfairly? Openness remains the best way to ensure fairness, and pay transparency does that. That's why entrepreneurial leaders and corporate leaders have been experimenting with sharing salaries for years. Like Dane Atkinson. Dane is a serial entrepreneur who started many companies in a pay secrecy condition and even used that condition to pay two equally qualified people dramatically different salaries, depending on how well they could negotiate. And Dane saw the strife that happened as a result of this. So when he started his newest company, SumAll, he committed to salary transparency from the beginning. And the results have been amazing. And in study after study, when people know how they're being paid and how that pay compares to their peers', they're more likely to work hard to improve their performance, more likely to be engaged, and they're less likely to quit. That's why Dane's not alone. From technology start-ups like Buffer, to the tens of thousands of employees at Whole Foods, where not only is your salary available for everyone to see, but the performance data for the store and for your department is available on the company intranet for all to see. Now, pay transparency takes a lot of forms. It's not one size fits all. Some post their salaries for all to see. Some only keep it inside the company. Some post the formula for calculating pay, and others post the pay levels and affix everybody to that level. So you don't have to make signs for all of your employees to wear around the office. And you don't have to be the only one wearing a sign that you made at home. But we can all take greater steps towards pay transparency. For those of you that have the authority to move forward towards transparency: it's time to move forward. And for those of you that don't have that authority: it's time to stand up for your right to. So how much do you get paid? And how does that compare to the people you work with? You should know. And so should they. Thank you. (Applause)                                                                                                                                                                                                                                                                                                                                                                                                                                                                                                                                                                                                                                                                                                                                                                                                                                                                                                                                                                                                                                                                                                                                                                                                                                                                                                                                                                                                                                                                                                                                                                                                                                                                                                                                                                                                                                                                                                                                                                                                                                                                                                                                                                                                                                                                                                                                                                                                                                                                                                                                                                                                                                                                                                                                                                                                                                                                                                                                                                                                                                                                                                                                                                                                                                                                                                                                                                                                                                                                                                                                                                                                                                                                                                                                                                                                                                                                                                                                                                                                                                                                                                                                                                                                                                                                                                                                                                                                                                                                                                                                                                                                                                                                                                                                                                                                                                                                                                                                                                                                                                                                                                                                                                                                                                                                                                                                                                                                                                                                                                                                                                                                                                                                                                                                                                                                                                                                                                                                                                                                                                                                                                                                                                                                                                                 1\n",
       "When I opened Mott Hall Bridges Academy in 2010, my goal was simple: open a school to close a prison. Now to some, this was an audacious goal, because our school is located in the Brownsville section of Brooklyn — one of the most underserved and violent neighborhoods in all of New York City. Like many urban schools with high poverty rates, we face numerous challenges, like finding teachers who can empathize with the complexities of a disadvantaged community, lack of funding for technology, low parental involvement and neighborhood gangs that recruit children as early as fourth grade. So here I was, the founding principal of a middle school that was a district public school, and I only had 45 kids to start. Thirty percent of them had special needs. Eighty-six percent of them were below grade level in English and in math. And 100 percent were living below the poverty level. If our children are not in our classrooms, how will they learn? And if they're not learning, where would they end up? It was evident when I would ask my 13-year-old, \"Young man, where do you see yourself in five years?\" And his response: \"I don't know if I'm gonna live that long.\" Or to have a young woman say to me that she had a lifelong goal of working in a fast-food restaurant. To me, this was unacceptable. It was also evident that they had no idea that there was a landscape of opportunity that existed beyond their neighborhood. We call our students \"scholars,\" because they're lifelong learners. And the skills that they learn today will prepare them for college and career readiness. I chose the royal colors of purple and black, because I want them to be reminded that they are descendants of greatness, and that through education, they are future engineers, scientists, entrepreneurs and even leaders who can and will take over this world. To date, we have had three graduating classes, at a 98 — (Applause) At a 98-percent graduation rate. This is nearly 200 children, who are now going to some of the most competitive high schools in New York City. (Applause) It was a cold day in January when my scholar, Vidal Chastanet, met Brandon Stanton, the founder of the popular blog \"Humans of New York.\" Brandon shared the story of a young man from Brownsville who had witnessed violence firsthand, by witnessing a man being thrown off of a roof. Yet he can still be influenced by a principal who had opened up a school that believes in all children. Vidal embodies the story of so many of our underprivileged children who are struggling to survive, which is why we must make education a priority. Brandon's post created a global sensation that touched the lives of millions. This resulted in 1.4 million dollars being raised for our scholars to attend field trips to colleges and universities, Summer STEAM programs, as well as college scholarships. You need to understand that when 200 young people from Brownsville visited Harvard, they now understood that a college of their choice was a real possibility. And the impossibilities that had been imposed upon them by a disadvantaged community were replaced by hope and purpose. The revolution in education is happening in our schools, with adults who provide love, structure, support and knowledge. These are the things that inspire children. But it is not an easy task. And there are high demands within an education system that is not perfect. But I have a dynamic group of educators who collaborate as a team to determine what is the best curriculum. They take time beyond their school day, and come in on weekends and even use their own money to often provide resources when we do not have it. And as the principal, I have to inspect what I expect. So I show up in classes and I conduct observations to give feedback, because I want my teachers to be just as successful as the name Mott Hall Bridges Academy. And I give them access to me every single day, which is why they all have my personal cell number, including my scholars and those who graduated — which is probably why I get phone calls and text messages at three o'clock in the morning. (Laughter) But we are all connected to succeed, and good leaders do this. Tomorrow's future is sitting in our classrooms. And they are our responsibility. That means everyone in here, and those who are watching the screen. We must believe in their brilliance, and remind them by teaching them that there indeed is power in education. Thank you. (Applause)                                                                                                                                                                                                                                                                                                                                                                                                                                                                                                                                                                                                                                                                                                                                                                                                                                                                                                                                                                                                                                                                                                                                                                                                                                                                                                                                                                                                                                                                                                                                                                                                                                                                                                                                                                                                                                                                                                                                                                                                                                                                                                                                                                                                                                                                                                                                                                                                                                                                                                                                                                                                                                                                                                                                                                                                                                                                                                                                                                                                                                                                                                                                                                                                                                                                                                                                                                                                                                                                                                                                                                                                                                                                                                                                                                                                                                                                                                                                                                                                                                                                                                                                                                                                                                                                                                                                                                                                                                                                                                                                                                                                                                                                                                                                                                                                                                                                                                                                                                                                                                                                                                                                                                                                                                                                                                                                                                                                                                                                                                                                                                                                                                                                                                                                                                                                                                                                                                                                                                                                                                                                                                                                                                                                                                                                                                                                                                                                                                                                                                                                                                                                                                                                                                                                                                                                                                                                                                                                                                                                                                                                                                                                                                                                                                                                                                                                                                                                                                                                                                                                                                                                                                                                                                                                                                                                                                                                                                                                                                                                                                                                                                                                                                                                                                                                                                                                                                                                                                                                                                                                                                                                                                                                                                                                                                                                                                                                                                                  1\n",
       "                                                                                                                                                                                                                                                                                                                                                                                                                                                                                                                                                                                                                                                                                                                                                                                                                                                                                                                                                                                                                                                                                                                                                                                                                                                                                                                                                                                                                                                                                                                                                                                                                                                                                                                                                                                                                                                                                                                                                                                                                                                                                                                                                                                                                                                                                                                                                                                                                                                                                                                                                                                                                                                                                                                                                                                                                                                                                                                                                                                                                                                                                                                                                                                                                                                                                                                                                                                                                                                                                                                                                                                                                                                                                                                                                                                                                                                                                                                                                                                                                                                                                                                                                                                                                                                                                                                                                                                                                                                                                                                                                                                                                                                                                                                                                                                                                                                                                                                                                                                                                                                                                                                                                                                                                                                                                                                                                                                                                                                                                                                                                                                                                                                                                                                                                                                                                                                                                                                                                                                                                                                                                                                                                                                                                                                                                                                                                                                                                                                                                                                                                                                                                                                                                                                                                                                                                                                                                                                                                                                                                                                                                                                                                                                                                                                                                                                                                                                                                                                                                                                                                                                                                                                                                                                                                                                                                                                                                                                                                                                                                                                                                                                                                                                                                                                                                                                                                                                                                                                                                                                                                                                                                                                                                                                                                                                                                                                                                                                                                                                                                                                                                                                                                                                                                                                                                                                                                                                                                                                                                                                                                                                                                                                                                                                                                                                                                                                                                                                                                                                                                                                                                                                                                                                                                                                                                                                                                                                                                                                                                                                                                                                                                                                                                                                                                                                                                                                                                                                                                                                                                                                                                                                                                                                                                                                                                                                                                                                                                                                                                                                                                                                                                                                                                                                                                                                                                                                                                                                                                                                                                                                                                                                                                                                                                                                                                                                                                                                                                                                                                                                                                                                                                                                                                                                                                                                                                                                                                                                                                                                                                                                                                                                                                                                                                                                                                                                                                                                                                                                                                                                                                     ..\n",
       "Today I'm going to talk about unexpected discoveries. Now I work in the solar technology industry. And my small startup is looking to force ourselves into the environment by paying attention to ... ... paying attention to crowd-sourcing. It's just a quick video of what we do. Huh. Hang on a moment. It might take a moment to load. (Laughter) We'll just — we can just skip — I'll just skip through the video instead ... (Laughter) No. (Laughter) (Laughter) (Music) This is not ... (Laughter) Okay. (Laughter) Solar technology is ... Oh, that's all my time? Okay. Thank you very much. (Applause)                                                                                                                                                                                                                                                                                                                                                                                                                                                                                                                                                                                                                                                                                                                                                                                                                                                                                                                                                                                                                                                                                                                                                                                                                                                                                                                                                                                                                                                                                                                                                                                                                                                                                                                                                                                                                                                                                                                                                                                                                                                                                                                                                                                                                                                                                                                                                                                                                                                                                                                                                                                                                                                                                                                                                                                                                                                                                                                                                                                                                                                                                                                                                                                                                                                                                                                                                                                                                                                                                                                                                                                                                                                                                                                                                                                                                                                                                                                                                                                                                                                                                                                                                                                                                                                                                                                                                                                                                                                                                                                                                                                                                                                                                                                                                                                                                                                                                                                                                                                                                                                                                                                                                                                                                                                                                                                                                                                                                                                                                                                                                                                                                                                                                                                                                                                                                                                                                                                                                                                                                                                                                                                                                                                                                                                                                                                                                                                                                                                                                                                                                                                                                                                                                                                                                                                                                                                                                                                                                                                                                                                                                                                                                                                                                                                                                                                                                                                                                                                                                                                                                                                                                                                                                                                                                                                                                                                                                                                                                                                                                                                                                                                                                                                                                                                                                                                                                                                                                                                                                                                                                                                                                                                                                                                                                                                                                                                                                                                                                                                                                                                                                                                                                                                                                                                                                                                                                                                                                                                                                                                                                                                                                                                                                                                                                                                                                                                                                                                                                                                                                                                                                                                                                                                                                                                                                                                                                                                                                                                                                                                                                                                                                                                                                                                                                                                                                                                                                                                                                                                                                                                                                                                                                                                                                                                                                                                                                                                                                                                                                                                                                                                                                                                                                                                                                                                                                                                                                                                                                                                                                                                                                                                                                                                                                                                                                                                                                                                                                                                                                                                                                                                                                                                                                                                                                                                                                                                                                                                                    1\n",
       "I'm Kelli Anderson. I work as an artist and designer. And I like to try to find the hidden talents of everyday things. So before I get started, I want to show you a fast smattering of some examples of what I do. But this talk today is really less about what I make and is more about why I make these things. So, I get to tinker with everyday experiences. As we go through our everyday lives, visual and experiential things exert this invisible authority over our brains at all times. And they yield this power in subtle and sneaky ways. So visuals, for example, speak volumes through these teeny, tiny details, codified in things like type, shape, color and texture. So these small, picky things form the vocabulary that come together and make the sentences, enabling us to make tangible things like ... a solar-powered Popsicle truck. (Laughter) It educates the public about renewable energy. It's basically a physical infographic on wheels. And this unexpected pairing of sugar, bright colors and the threat of humanity's self-inflicted demise actually makes for a pretty convincing argument for solar. People arrive at experiences like these with expectations. And when we make things, we're actively choosing what to do with those expectations. In my work, I want to create disruptive wonder. I want to confound these expectations, because I think that every day, fundamental things and experiences frame reality in a way that we often take for granted. The small things we make can work to reinforce our assumptions about the world. Or small things can come out of left field and draw us into reassessing our complacent expectations about reality. This doesn't happen often, but when it does, it's awesome. Because then, these small things act as sort of a humble back door into understanding a reality that's infinitely surprising. So, as a little demonstration, back to the most basic and fundamental part of myself again: my name, kellianderson.com, spelled out in block letters. This is how people find me in the world. It means me. But in a more objective sense, it's really just this random jumble of letters that I've confined to the single possibility of making my name. So naturally, I wondered: What else can these letters spell? Turns out, all kinds of interesting phrases, like ... \"Ken doll is near dot com.\" (Laughter) A little bit creepy. And \"A colder melon skin.\" Period. (Laughter) Far better use of those kellianderson.com letters, I'm sure you'll agree. This is a dumb game, but it underscores a belief I have, that the world is full of order that doesn't necessarily deserve our respect. Sometimes, there's meaning, justice and logic present in the way things are. But sometimes there just isn't. I think that the moment we realize this is the moment we become creative people, because it prompts us to mess things up and do something better with the basic pieces of experience. What I'm after in my work, really, is this: the hidden talents of everyday things — all of those overlooked powers bestowed on the things that surround us by the wonders of physics, the complexities of cultural associations and a gazillion other only partially chartable things. So today, I want to show you three projects that reconsider the vast properties of commonplace experience and try to do something better by doing something more absurd. This first project is a holiday card I made for my friends. My goal in this was to get people to notice this going-through-the-motions holiday thing that I'm sure we've all felt before. And I did that through a holiday card, of course. From the outside, it looks pretty normal. But paper has this memory; paper never forgets how it was bent. I was able to use that material memory to guide the recipient through the experience of the card. So when you first pick it up, while floppy, it's clear it wants to bend in all of these certain ways. As people tinker with it, they discover that bending the card brings them through this simple story. And as you can see, it's a story about itself. (Laughter) This card is literally a four-frame documentary about receiving the card. (Laughter) So it's a recursive experience. (Applause) Oh, well, thank you. This excites me, because it's a recursive experience of a holiday card that gets the viewer to feel this repetitive ritual of all holiday cards. And it begins life as a humble piece of paper that came out of my inkjet printer. I think that's pretty cool. In a sense, that project was all about ritual becoming empty gesture. And it speaks to the fact that the more an experience repeats itself, the less it means — (Laughter) because we begin to take it for granted. And that's why cliches aren't interesting, and why people get in car wrecks near their homes. When we experience things over and over again, they just lose their gravity. So while paper does have all of these astonishing, overlooked capabilities, it takes a hell of a lot of intervention into getting us to see it as new again. This next project I want to show you is a wedding invitation, which is a format practically begging for reinvention. (Laughter) This is a card I made for my friends Mike and Karen, who happen to be really awesome people. Far more awesome, in fact, than the format of wedding invitations. So it was a really good excuse to push the boundaries of this format. And as far as how to push it, the facts of our shared history made it clear that this card should be about music. We're all total music nerds, and Karen and Mike have even recorded songs together. But you know, you also find inspiration in the darnedest of places. And we found some with this guy, Mr. Wizard — (Laughter) who had a much-beloved TV show, teaching kids about the science behind everyday things. And I remembered this episode that demonstrated sound is physical, with this simple experiment. He rolled up a cone of paper, he taped it shut, he taped a needle to the end of it, and — voilà! — it was a record player. I remember seeing this as a kid, and it totally blew my mind. If you can make a record player out of a piece of paper and a sewing needle, what isn't possible out of the world? So I explained this idea to Mike and Karen, and we all decided that it would be way better to make their guests paper record players, rather than traditional, boring invitations. We started getting really, really excited. And I started getting really nervous, because I'm the one who had to actually make it work. So I began spending an inordinate amount of time thinking about needles: Like, would we find needles with the right fidelity? I started calling paper suppliers, looking for the paper with the best audio properties. (Laughter) And they thought I was crazy. Meanwhile, Mike and Karen were recording a song, which they had mastered to a clear flexi disc. I had this black-and-white character printed on it, so that way, when the disc is turned, it completes the couple in all of these different guises. (Laughter) So we did it, we really did it! We made a paper record player — 200 recipient-operated paper record players. This is an actual recording of how it sounds. And then it segues into the real song for comparison. (Music and singing) (Music ends) We were so excited when we finally got that to work. (Laughter) And I was excited that we uncovered this hidden talent of paper in the process. I also love that project because it brings attention to the fact that we approach media with all these expectations that we do not necessarily need. We have assumptions about material experience, like that paper should be silent or that websites should be flat. But we also have these assumptions — (Laughter) that should be a lot scarier in a democracy, because they're like these little thought loopholes. We sleepwalk through our assumptions about the authority in media and assumptions put forth about political realities by media, like newspapers. But I, for one, have faith in these small, hacked experiences to inspire a sense of skepticism at this limited reality we've been handed. And this next project demonstrates just that. Imagine your normal, everyday commuter-newspaper-reading ritual. But what if you are handed a paper filled with stories from an alternate reality? (Laughter) Specifically: What if some crazy person had meticulously recreated a typical paper depicting an alternate reality? This is something we actually did do in the fall of 2008, in a project that was conceptualized by artist Steve Lambert, organized by The Yes Men and executed by many, many people, some of whom are me. We made a perfectly counterfeited \"New York Times.\" We didn't ask anyone for permission, we just did it. (Laughter) We had it mass-produced, and we put it in the hands of hundreds of thousands of commuters on a Thursday morning in New York City. (Laughter) (Applause and cheers) Thanks! (Applause) \"Why?,\" you might ask. \"Why make a fake newspaper?\" Well, quite frankly, because the real newspaper is depressing. We ostensibly live in a democracy where we should have some say in what happens in the world. But the truth is, we never see the stories we want to see in the newspaper. So we made a paper with only good news. (Laughter) We put in all the policy ideas we thought would actually help the world. Years before the withdrawal was even discussed, we ended the war in Iraq. Years before Occupy Wall Street, we put in a maximum wage law — (Laughter) to end the ginormous wage inequities between the lowest and highest income earners. We returned civics class to high school curriculum. (Laughter) See? These are good ideas! So then students would know how their government works again. There's a very important difference between these two papers. (Laughter) While the real \"New York Times\" has this slogan of, \"All the News that's Fit to Print,\" we offered a more forward-thinking message of, \"All the News We Hope to Print.\" (Laughter) And that's because our paper is postdated six months into the future, so when people are handed these on the street, they were literally getting an artifact from the utopian future, sort of a blueprint for an attainably utopian future brought about by this very important idea of popular pressure. And our hoax worked perfectly. We suspended people in this strange mental space, because while the stories in the paper couldn't be real, it just felt so perfectly, impeccably real. Here's a video showing — (Laughter) yes, we did that! — showing the first few seconds of conflicted belief, where people could feel for a moment what — (Laughter) Yes! (Laughter) This guy's good. (Laughter) But in order to get this type of reaction, our paper had to be radically believable. And Daniel Dunnam, my other half, and I formed the believability team. He made sure that the typography, the layout, the smell of the ink — everything — was just like a real \"New York Times.\" And I supplied fake advertisements from the utopian future. (Laughter) We decided that the utopian future would be a perfect venue to help these companies who had done wrong in the past try making amends for that wrongdoing. (Laughter) And we do this through the vocabulary of their own advertising. So for Ikea, what if instead of cheap furniture, you could buy your own wind farm? It comes flat-packed, clearly easy to assemble — (Laughter) with that little zigzag tool and the wooden pegs. That would be awesome, right? More nefarious are companies like De Beers, who are making amends for their sale of blood diamonds by donating prosthetics to war-torn African countries. And this is our take on a used car dealership ad. They're now offering a \"cash for polluters\" program. So now you can trade in your car for a non-polluting type of transportation: a bicycle! (Laughter) And here's my favorite, Dr. Zizmor, who is giving you a beautiful, clear conscience. If you haven't taken a ride on the New York City subway, you may not know Dr. Z. But if you have, then you do, because his cheesy rainbow ads are everywhere. But now he is foregoing these superficial services. He's no longer cleaning up your face, now he's cleaning up our mess in Iraq. (Laughter) So the news of our fake paper made it onto the real news all around the world. These unexpected messages of hope were able to get out there through our sheer brazenness in ripping off the \"New York Times,\" but also because we leveraged this pathway that no one had expected. We pushed our paper beyond its expected role in reporting the news, and we made a blueprint for a better world. With those three projects, I demonstrate that by rejecting normal order, by messing things up and by rearranging the pieces, we can expand our notion of what we demand from reality. So today, I want to put forth this idea that an avenue to better is through a million teeny, tiny disruptions to whatever is sitting in front of you. So go mess with the complacently rational. And you can see more of my work at: I'll snore naked dot com. (Laughter) Thank you. (Applause)    1\n",
       "I want to discuss with you this afternoon why you're going to fail to have a great career. (Laughter) I'm an economist. I do dismal. End of the day, it's ready for dismal remarks. I only want to talk to those of you who want a great career. I know some of you have already decided you want a good career. You're going to fail, too. (Laughter) Because — goodness, you're all cheery about failing. (Laughter) Canadian group, undoubtedly. (Laughter) Those trying to have good careers are going to fail, because, really, good jobs are now disappearing. There are great jobs and great careers, and then there are the high-workload, high-stress, bloodsucking, soul-destroying kinds of jobs, and practically nothing in-between. So people looking for good jobs are going to fail. I want to talk about those looking for great jobs, great careers, and why you're going to fail. First reason is that no matter how many times people tell you, \"If you want a great career, you have to pursue your passion, you have to pursue your dreams, you have to pursue the greatest fascination in your life,\" you hear it again and again, and then you decide not to do it. It doesn't matter how many times you download Steven J.'s Stanford commencement address, you still look at it and decide not to do it. I'm not quite sure why you decide not to do it. You're too lazy to do it. It's too hard. You're afraid if you look for your passion and don't find it, you'll feel like you're an idiot, so then you make excuses about why you're not going to look for your passion. They are excuses, ladies and gentlemen. We're going to go through a whole long list — your creativity in thinking of excuses not to do what you really need to do if you want to have a great career. So, for example, one of your great excuses is: (Sigh) \"Well, great careers are really and truly, for most people, just a matter of luck. So I'm going to stand around, I'm going to try to be lucky, and if I'm lucky, I'll have a great career. If not, I'll have a good career.\" But a good career is an impossibility, so that's not going to work. Then, your other excuse is, \"Yes, there are special people who pursue their passions, but they are geniuses. They are Steven J. I'm not a genius. When I was five, I thought I was a genius, but my professors have beaten that idea out of my head long since.\" (Laughter) \"And now I know I am completely competent.\" Now, you see, if this was 1950, being completely competent — that would have given you a great career. But guess what? This is almost 2012, and saying to the world, \"I am totally, completely competent,\" is damning yourself with the faintest of praise. And then, of course, another excuse: \"Well, I would do this, I would do this, but, but — well, after all, I'm not weird. Everybody knows that people who pursue their passions are somewhat obsessive. A little strange. Hmm? Hmm? Okay? You know, a fine line between madness and genius. \"I'm not weird. I've read Steven J.'s biography. Oh my goodness — I'm not that person. I am nice. I am normal. I'm a nice, normal person, and nice, normal people — don't have passion.\" (Laughter) \"Ah, but I still want a great career. I'm not prepared to pursue my passion, so I know what I'm going to do, because I have a solution. I have a strategy. It's the one Mommy and Daddy told me about. Mommy and Daddy told me that if I worked hard, I'd have a good career. So, if you work hard and have a good career, if you work really, really, really hard, you'll have a great career. Doesn't that, like, mathematically make sense?\" Hmm. Not. But you've managed to talk yourself into that. You know what? Here's a little secret: You want to work? You want to work really, really, really hard? You know what? You'll succeed. The world will give you the opportunity to work really, really, really, really hard. But, are you so sure that that's going to give you a great career, when all the evidence is to the contrary? So let's deal with those of you who are trying to find your passion. You actually understand that you really had better do it, never mind the excuses. You're trying to find your passion — (Sigh) and you're so happy. You found something you're interested in. \"I have an interest! I have an interest!\" You tell me. You say, \"I have an interest!\" I say, \"That's wonderful! And what are you trying to tell me?\" \"Well, I have an interest.\" I say, \"Do you have passion?\" \"I have an interest,\" you say. \"Your interest is compared to what?\" \"Well, I'm interested in this.\" \"And what about the rest of humanity's activities?\" \"I'm not interested in them.\" \"You've looked at them all, have you?\" \"No. Not exactly.\" Passion is your greatest love. Passion is the thing that will help you create the highest expression of your talent. Passion, interest — it's not the same thing. Are you really going to go to your sweetie and say, \"Marry me! You're interesting.\" (Laughter) Won't happen. Won't happen, and you will die alone. (Laughter) What you want, what you want, what you want, is passion. It is beyond interest. You need 20 interests, and then one of them, one of them might grab you, one of them might engage you more than anything else, and then you may have found your greatest love, in comparison to all the other things that interest you, and that's what passion is. I have a friend, proposed to his sweetie. He was an economically rational person. He said to his sweetie, \"Let us marry. Let us merge our interests.\" (Laughter) Yes, he did. \"I love you truly,\" he said. \"I love you deeply. I love you more than any other woman I've ever encountered. I love you more than Mary, Jane, Susie, Penelope, Ingrid, Gertrude, Gretel — I was on a German exchange program then. I love you more than —\" All right. She left the room halfway through his enumeration of his love for her. After he got over his surprise at being, you know, turned down, he concluded he'd had a narrow escape from marrying an irrational person. Although, he did make a note to himself that the next time he proposed, it was perhaps not necessary to enumerate all of the women he had auditioned for the part. (Laughter) But the point stands. You must look for alternatives so that you find your destiny, or are you afraid of the word \"destiny\"? Does the word \"destiny\" scare you? That's what we're talking about. And if you don't find the highest expression of your talent, if you settle for \"interesting,\" what the hell ever that means, do you know what will happen at the end of your long life? Your friends and family will be gathered in the cemetery, and there beside your gravesite will be a tombstone, and inscribed on that tombstone it will say, \"Here lies a distinguished engineer, who invented Velcro.\" But what that tombstone should have said, in an alternative lifetime, what it should have said if it was your highest expression of talent, was, \"Here lies the last Nobel Laureate in Physics, who formulated the Grand Unified Field Theory and demonstrated the practicality of warp drive.\" (Laughter) Velcro, indeed! (Laughter) One was a great career. One was a missed opportunity. But then, there are some of you who, in spite of all these excuses, you will find, you will find your passion. And you'll still fail. You're going to fail, because — because you're not going to do it, because you will have invented a new excuse, any excuse to fail to take action, and this excuse, I've heard so many times: \"Yes, I would pursue a great career, but, I value human relationships — (Laughter) more than accomplishment. I want to be a great friend. I want to be a great spouse. I want to be a great parent, and I will not sacrifice them on the altar of great accomplishment.\" (Laughter) What do you want me to say? Now, do you really want me to say now, tell you, \"Really, I swear I don't kick children.\" (Laughter) Look at the worldview you've given yourself. You're a hero no matter what. And I, by suggesting ever so delicately that you might want a great career, must hate children. I don't hate children. I don't kick them. Yes, there was a little kid wandering through this building when I came here, and no, I didn't kick him. (Laughter) Course, I had to tell him the building was for adults only, and to get out. He mumbled something about his mother, and I told him she'd probably find him outside anyway. Last time I saw him, he was on the stairs crying. (Laughter) What a wimp. (Laughter) But what do you mean? That's what you expect me to say. Do you really think it's appropriate that you should actually take children and use them as a shield? You know what will happen someday, you ideal parent, you? The kid will come to you someday and say, \"I know what I want to be. I know what I'm going to do with my life.\" You are so happy. It's the conversation a parent wants to hear, because your kid's good in math, and you know you're going to like what comes next. Says your kid, \"I have decided I want to be a magician. I want to perform magic tricks on the stage.\" (Laughter) And what do you say? You say, you say, \"That's risky, kid. Might fail, kid. Don't make a lot of money at that, kid. I don't know, kid, you should think about that again, kid. You're so good at math, why don't you —\" The kid interrupts you and says, \"But it is my dream. It is my dream to do this.\" And what are you going to say? You know what you're going to say? \"Look kid. I had a dream once, too, but — But —\" So how are you going to finish the sentence with your \"but\"? \"But. I had a dream too, once, kid, but I was afraid to pursue it.\" Or are you going to tell him this: \"I had a dream once, kid. But then, you were born.\" (Laughter) (Applause) Do you really want to use your family, do you really ever want to look at your spouse and your kid, and see your jailers? There was something you could have said to your kid, when he or she said, \"I have a dream.\" You could have said — looked the kid in the face and said, \"Go for it, kid! Just like I did.\" But you won't be able to say that, because you didn't. So you can't. (Laughter) And so the sins of the parents are visited on the poor children. Why will you seek refuge in human relationships as your excuse not to find and pursue your passion? You know why. In your heart of hearts, you know why, and I'm being deadly serious. You know why you would get all warm and fuzzy and wrap yourself up in human relationships. It is because you are — you know what you are. You're afraid to pursue your passion. You're afraid to look ridiculous. You're afraid to try. You're afraid you may fail. Great friend, great spouse, great parent, great career. Is that not a package? Is that not who you are? How can you be one without the other? But you're afraid. And that's why you're not going to have a great career. Unless — \"unless,\" that most evocative of all English words — \"unless.\" But the \"unless\" word is also attached to that other, most terrifying phrase, \"If only I had ...\" \"If only I had ...\" If you ever have that thought ricocheting in your brain, it will hurt a lot. So, those are the many reasons why you are going to fail to have a great career. Unless — Unless. Thank you. (Applause)                                                                                                                                                                                                                                                                                                                                                                                                                                                                                                                                                                                                                                                                                                                                                                                                                                                                                                                                                                                                                                                                                                                                                                                                                                                                                                                                                                                                                                                                                                                                                                                                                                                                                                                                                                                                                                                                                                                                    1\n",
       "When you think about the brain, it's difficult to understand, because if I were to ask you right now, how does the heart work, you would instantly tell me it's a pump. It pumps blood. If I were to ask about your lungs, you would say it exchanges oxygen for carbon dioxide. That's easy. If I were to ask you how the brain works, it's hard to understand because you can't just look at a brain and understand what it is. It's not a mechanical object, not a pump, not an airbag. It's just like, if you held it in your hand when it was dead, it's just a piece of fat. To understand how the brain works, you have to go inside a living brain. Because the brain's not mechanical, the brain is electrical and it's chemical. Your brain is made out of 100 billion cells, called neurons. And these neurons communicate with each other with electricity. And we're going to eavesdrop in on a conversation between two cells, and we're going to listen to something called a spike. But we're not going to record my brain or your brain or your teachers' brains, we're going to use our good friend the cockroach. Not just because I think they're cool, but because they have brains very similar to ours. So if you learn a little bit about how their brains work, we're going to learn a lot about how our brains work. I'm going to put them in some ice water here And then — Audience: Ew! Greg Gabe: Yeah ... Right now they're becoming anesthetized. Because they're cold blooded, they become the temperature of the water and they can't control it so they just basically \"chillax,\" right? They're not going to feel anything, which may tell you a little about what we're going to do, a scientific experiment to understand the brain. So ... This is the leg of a cockroach. And a cockroach has all these beautiful hairs and pricklies all over it. Underneath each one of those is a cell, and this cell's a neuron that is going to send information about wind or vibration. If you ever try to catch a cockroach, it's hard because they can feel you coming before you're even there, they start running. These cells are zipping up this information up to the brain using those little axons with electronic messages in there. We're going to record by sticking a pin right in there. We need to take off the leg of a cockroach — don't worry, they'll grow back — then we're going to put two pins in there. These are metal pins. One will pick up this electronic message, this electric message is going by. So, we're now going to do the surgery, let's see if you guys can see this. Yeah, it's gross ... All right. So there we go. You guys can see his leg right there. Now I'm going to take this leg, I'm going to put it in this invention that we came up with called the Spikerbox — and this replaces lots of expensive equipment in a research lab, so you guys can do this in your own high schools, or in your own basements if it's me. (Audience: Laughter) So, there. Can you guys see that? Alright, so I'm going to go ahead and turn this on. I'm going to plug it in. (Tuning sound) To me, this is the most beautiful sound in the world. This is what your brain is doing right now. You have 100 billion cells making these raindrop-type noises. Let's take a look at what it looks like, let's pull it up on the iPad screen. I plugged my iPad into here as well. So remember we said the axon looks like a spike. So we're going to take a look at what one of them looks like in just a brief second. We're going to tap here, so we can sort of average this guy. So there we see it. That's an action potential. You've got 100 billion cells in your brain doing this right now, sending all this information back about what you're seeing, hearing. We also said this is a cell that's going to be taking up information about vibrations in the wind. So what if we do an experiment? We can actually blow on this and hear if we see a change. Are you guys going to be ready? If I blow on it you tell me if you hear anything. (Blowing) (Sound changes) Let me just touch this with a little pen here. (Noise) That was the neural firing rate. That actually took a while in neuroscience to understand this. This is called rate coding: the harder you press on something, the more spikes there are, and all that information is coming up to your brain. That's how you perceive things. So that's one way of doing an experiment with electricity. The other way is that your brain is not only taking in electrical impulses, you're also sending out. That's how you move your muscles around. Let's see what happens if I've plugged in something that's electric into the cockroach leg here. I'm going to take two pins, I'm going to plug them onto the cockroach. I'm going to take the other end, I'm going to plug in into my iPod. It's my iPhone actually. Do you guys know how your earbuds work in your ears? You have a battery in your phone, or iPod, right? It's sending electrical current into these magnets in your earbuds which shake back and forth and allow you to hear things. But that current's the same currency that our brain uses, so we can send that to our cockroach leg and hopefully if this works, we can actually see what happens when we play music into the cockroach. Let's take a look. (Music beat) Can we turn it up? There we go. (Audience reacts and gasps) GG: So what's happening? Audience: Wow! (Laughter) So you see what's moving. It's moving on the bass. All those audiophiles out there, if you have awesome, kicking car stereos, you know, the bass speakers are the biggest speakers. The biggest speakers have the longest waves, which have the most current, and the current is what's causing these things to move. So it's not just speakers that are causing electricity. Microphones also cause electricity. (Beat) So I'm going to go ahead and invite another person out on the stage here to help me out with this. So there we go. (Beatboxing) This is the first time this has ever happened in the history of mankind. Human beatbox to a cockroach leg. When you guys go back to your high school, think about neuroscience and how you guys can begin the neuro-revolution. Thank you very much. Bye bye. (Applause)                                                                                                                                                                                                                                                                                                                                                                                                                                                                                                                                                                                                                                                                                                                                                                                                                                                                                                                                                                                                                                                                                                                                                                                                                                                                                                                                                                                                                                                                                                                                                                                                                                                                                                                                                                                                                                                                                                                                                                                                                                                                                                                                                                                                                                                                                                                                                                                                                                                                                                                                                                                                                                                                                                                                                                                                                                                                                                                                                                                                                                                                                                                                                                                                                                                                                                                                                                                                                                                                                                                                                                                                                                                                                                                                                                                                                                                                                                                                                                                                                                                                                                                                                                                                                                                                                                                                                                                                                                                                                                                                                                                                                                                                                                                                                                                                                                                                                                                                                                                                                                                                                                                                                                                                                                                                                                                                                                                                                                                                                                                                                                                                                                                                                                                                                                                                                                                                                                                                                                                                                                                                                                                                                                                                                                                                                                                                                                                                                                                                                                                                                                                                                                                                                                                                                                                                                                                                                                                                                                                                                                                                                                                                                  1\n",
       "Picture yourself driving down the road tomorrow, heading somewhere to buy an item you found on Craigslist, perhaps a nice mountain bike for 3,000 dollars. At that price, it's probably one of those bikes with a little electric motor on it — (Laughter) maybe some streamers from the handlebars. (Laughter) The seller has declared this a cash-only deal, so you have, in the console of your car, 3,000 dollars. Suddenly, you are pulled over. During the stop, the officer asks, \"Do you have any drugs, weapons or large amounts of cash in your car?\" You truthfully answer, \"Yes,\" not to the drugs or to the weapons, but to the cash. In the blink of an eye, you are ordered out of your car. The officer searches it and finds your cash. On the spot, he seizes it, and he says he suspects it's part of a drug crime. A few days later, the local district attorney files paperwork to keep your money — permanently. And all of this happens without you ever being charged or convicted of any crime. Now, you might be saying, \"Ah, this would never happen in the United States.\" (Laughter) Incidents like this occur every day in our country. It's one of the most significant threats to your property rights most people have never even heard of. It's called \"civil forfeiture.\" Most of you are generally aware of criminal forfeiture, although the term itself might be a little unfamiliar, so let's begin with forfeiture. When we forfeit something, we give up that thing, or we're forced to give it up. In criminal forfeiture, someone is charged and convicted of a crime, and therefore, they have to give up property related to that crime. For example, suppose you use your car to transport and deal drugs. You're caught and convicted; now you have to give up or forfeit your car as part of the sentencing. That's criminal forfeiture. But in civil forfeiture, no person is charged with a crime — the property is charged and convicted of a crime. (Laughter) You heard that correctly: the government actually convicts an inanimate object with a crime. It's as if that thing itself committed the crime. That's why civil forfeiture cases have these really peculiar names, like, \"The United States of America v. One 1990 Ford Thunderbird.\" (Laughter) Or \"The State of Oklahoma v. 53,234 Dollars in Cash.\" (Laughter) Or my personal favorite: \"The United States of America v. One Solid Gold Object in the Form of a Rooster.\" (Laughter) Now, you're thinking: How does something like this happen? That's exactly what I said when I first learned about civil forfeiture while on a road trip with my wife. No, we did not get pulled over. (Laughter) I was reading about the history of civil forfeiture as part of my work as a research director at the law firm, and I came across one of the cases I just mentioned, \"The United States of America v. One 1990 Ford Thunderbird.\" In that case, Carol Thomas loaned her car to her son. While in the car, her son committed a minor drug crime. Carol didn't commit any crime, so law enforcement couldn't convict her and take the car, but they could — and did — use civil forfeiture to \"convict the car\" and take it. Carol was completely innocent, but she lost her car nonetheless. In other words, she was punished for a crime she did not commit. When I read this, I was gobsmacked. How could this occur? How is this even legal? It turns out, it began in our country with maritime law. Early in our republic, the government sought to fight piracy — yes, actual pirates. The problem was the government often couldn't catch the pirates, so instead it used civil forfeiture to convict the pirates' property and take it, and therefore deny the pirates their illegal profits. Of course, the government could've simply taken and kept the booty without necessarily using civil forfeiture, but doing so would have violated our most basic due process and property rights. Now, the government rarely used civil forfeiture until the 1980s and the war on drugs. We expanded civil forfeiture law to cover drug crimes and then later, other types of crime. Canada and the European Union adopted similar provisions so that now all kinds of people are ensnared in the forfeiture web, people like Russ Caswell. Russ Caswell owned a small budget motel in Tewksbury, Massachusetts. His father built the motel in 1955, and Russ took it over in the 1980s. During the years that Russ owned the motel, from time to time, people would rent rooms, and they would commit drug crimes. Russ didn't condone the activities — in fact, whenever he found out about it, he would immediately call police. Russ was entirely innocent of any crime, but that did not stop the US Department of Justice from seizing his motel simply because other people committed crimes there. But Russ's case was not alone. Between 1997 and 2016, the US Department of Justice took more than 635,000 properties. This means each year, tens of thousands of people lose their properties in cases in which they're never charged or convicted of any crime. And we're not necessarily talking about major drug kingpins or headline-grabbing financial fraudsters whose cases involve hundreds of thousands if not millions of dollars. Many of these seizures and forfeitures involve just everyday people like Russ Caswell or you or me. But it gets worse. Are you wondering: Where does all this cash and property end up? In most places, law enforcement keeps it. And they use it to buy equipment or pay for building repairs or even pay salaries and overtime. This is a clear conflict of interest. It creates a perverse profit incentive that can distort law enforcement. And this is a problem that's not lost on those in law enforcement, either. Former chief of police in Rochester, Minnesota, Roger Peterson, described the choice that police officers often face. As he described it: suppose I'm a police officer, and I see a drug deal. Now I face a choice: Do I go after the buyer and remove from the street illegal drugs, or do I go after the seller and get cash for my agency to use? So it's easy to see why a police officer might go for the cash. It was just such a circumstance that compelled police officers in Philadelphia to seize an entire house. In 2014, Chris and Markela Sourovelis' son sold 40 dollars worth of drugs down the street from their house. Forty dollars. The police watched the deal go down. They could've arrested the buyer and confiscated the drugs, but they didn't. They could've arrested the Sourovelises' son right there on the street and grabbed 40 dollars. But they didn't. They waited to arrest him at home, because then they could seize their entire house. The house was worth 350,000 dollars. That is what I mean by a perverse profit incentive. But the Sourovelises' case was no outlier. Philadelphia, the \"City of Brotherly Love,\" the \"Athens of America,\" the \"Cradle of Liberty,\" birthplace to the Constitution, home to the Liberty Bell and Independence Hall, the \"City that Loves you Back\" — (Laughter) that Philadelphia was running a forfeiture machine. Between 2002 and 2016, Philadelphia took more than 77 million dollars through forfeiture, including 1,200 homes. Cars, jewelry, electronics — all of it they sold, the proceeds they kept. And they would have kept right on doing it, had it not been for a class-action lawsuit — our team's class-action lawsuit — (Applause and cheers) Thank you. We forced them to change their forfeiture practices and to compensate victims. (Applause and cheers) When our team first began researching forfeiture in 2007, we had no idea how much forfeiture revenue there was. In fact, no one knew. It wasn't until our groundbreaking study, \"Policing for Profit,\" that we found federal law enforcement agencies have taken in almost 40 billion dollars — billion with a B — since 2001, more than 80 percent of that through civil forfeiture. Unfortunately, we have no idea how much state and local agencies have taken in, because in many states, they don't have to report it. So until we reform forfeiture, we'll never know how much forfeiture activity actually occurs in the United States. And we desperately need reform. Legislatures should abolish civil forfeiture and replace it with criminal forfeiture. And all forfeiture proceeds should go to a neutral fund such as a general fund. When forfeiture proceeds stop hitting law enforcement budgets directly, that is when we will end policing for profit. (Applause) Now, as you can imagine, law enforcement officials don't love these recommendations. (Laughter) They stand to lose a lot of money, and they believe civil forfeiture is an effective crime-fighting tool. The trouble is, it's not. In June 2019, we released a study that found forfeiture does not improve crime-fighting. And the report also found that law enforcement agencies pursue more forfeiture money during economic downturns. So when city and county budgets are tight, law enforcement will use forfeiture to find the money. So it's no wonder, then, that law enforcement officials predict a criminal apocalypse — (Laughter) if these reforms are adopted. But some states have already implemented them, and we're pushing for reform all across the country, because until we reform forfeiture, this is something that could happen to any of us. It can happen in the United States, it can happen in the United Kingdom, it can happen in countries throughout the European Union and beyond. People like you and me and the Sourovelises and Russ Caswell, just doing the everyday stuff of life, can be caught in a scheme we never thought possible. It is time we end policing for profit once and for all. Thank you. (Applause and cheers)                                                                                                                                                                                                                                                                                                                                                                                                                                                                                                                                                                                                                                                                                                                                                                                                                                                                                                                                                                                                                                                                                                                                                                                                                                                                                                                                                                                                                                                                                                                                                                                                                                                                                                                                                                                                                                                                                                                                                                                                                                                                                                                                                                                                                                                                                                                                                                                                                                                                                                                                                                                                                                                                                                                                                                                                                                                                                                                                                                                                                                                                                                                                                                                                                                                                                                                                                                                                                                                                                                       1\n",
       "Name: count, Length: 3330, dtype: int64"
      ]
     },
     "execution_count": 87,
     "metadata": {},
     "output_type": "execute_result"
    }
   ],
   "source": [
    "merged_cleaved_df[\"transcript\"].value_counts()"
   ]
  },
  {
   "cell_type": "markdown",
   "id": "1159b9c8",
   "metadata": {},
   "source": [
    "This column is ready to be CountVectorized.  We will address CountVectorization in the next section. "
   ]
  },
  {
   "cell_type": "markdown",
   "id": "9e448efc",
   "metadata": {},
   "source": [
    "#### - title             3331 non-null   object (Possible Count Vectorization)"
   ]
  },
  {
   "cell_type": "code",
   "execution_count": 88,
   "id": "30024612",
   "metadata": {},
   "outputs": [
    {
     "data": {
      "text/plain": [
       "title\n",
       "Averting the climate crisis                             1\n",
       "We can hack our immune cells to fight cancer            1\n",
       "There's no such thing as not voting                     1\n",
       "Why you should know how much your coworkers get paid    1\n",
       "Why open a school? To close a prison                    1\n",
       "                                                       ..\n",
       "A TED speaker's worst nightmare                         1\n",
       "Design to challenge reality                             1\n",
       "Why you will fail to have a great career                1\n",
       "The cockroach beatbox                                   1\n",
       "How \"policing for profit\" undermines your rights        1\n",
       "Name: count, Length: 3330, dtype: int64"
      ]
     },
     "execution_count": 88,
     "metadata": {},
     "output_type": "execute_result"
    }
   ],
   "source": [
    "merged_cleaved_df[\"title\"].value_counts()"
   ]
  },
  {
   "cell_type": "markdown",
   "id": "3d337aaa",
   "metadata": {},
   "source": [
    "I am considering CountVectorizing this column.  For now we will leave as-is.  CountVectorizing MAY be done in the next section.  "
   ]
  },
  {
   "cell_type": "markdown",
   "id": "5ce6b63e",
   "metadata": {},
   "source": [
    "#### - speaker           3331 non-null   object"
   ]
  },
  {
   "cell_type": "code",
   "execution_count": 89,
   "id": "58e1993a",
   "metadata": {},
   "outputs": [
    {
     "data": {
      "text/plain": [
       "speaker\n",
       "Greg Gage                  9\n",
       "Juan Enriquez              9\n",
       "Hans Rosling               9\n",
       "Marco Tempest              7\n",
       "Bill Gates                 6\n",
       "                          ..\n",
       "Sue Austin                 1\n",
       "Boghuma Kabisen Titanji    1\n",
       "Andy Puddicombe            1\n",
       "Angela Patton              1\n",
       "Dick M. Carpenter II       1\n",
       "Name: count, Length: 2843, dtype: int64"
      ]
     },
     "execution_count": 89,
     "metadata": {},
     "output_type": "execute_result"
    }
   ],
   "source": [
    "merged_cleaved_df[\"speaker\"].value_counts()"
   ]
  },
  {
   "cell_type": "markdown",
   "id": "7e5a3f5d",
   "metadata": {},
   "source": [
    "As this column has little to do with the speech itself, and because we are trying to limit the number of features to the number of rows, I will drop this column.  \n",
    "\n",
    "It is noteworthy that WHO a speaker is would likely impact their rating on the speech itself, as each person represents their own personal brand, and when someone \"likes\" a speech they are in part \"liking\" that person's personal brand.  But given that the number of features we have is limited to the number of rows that we have, dummying the speaker names would create too many features to justify it's influence on our question \"what makes a great speech\"?"
   ]
  },
  {
   "cell_type": "code",
   "execution_count": 90,
   "id": "04665aa8",
   "metadata": {},
   "outputs": [],
   "source": [
    "# dropping the speaker column\n",
    "merged_cleaved_df.drop([\"speaker\"], axis=1, inplace=True)"
   ]
  },
  {
   "cell_type": "markdown",
   "id": "9e107e68",
   "metadata": {},
   "source": [
    "#### - recorded_date     3331 non-null   object \n",
    "#### - published_date    3331 non-null   object "
   ]
  },
  {
   "cell_type": "markdown",
   "id": "bdd9a954",
   "metadata": {},
   "source": [
    "I will change these dates into DateTime datatypes."
   ]
  },
  {
   "cell_type": "code",
   "execution_count": 91,
   "id": "9cc31f33",
   "metadata": {},
   "outputs": [],
   "source": [
    "merged_cleaved_df[\"published_date\"] = pd.to_datetime(merged_cleaved_df[\"published_date\"])\n",
    "merged_cleaved_df[\"recorded_date\"] = pd.to_datetime(merged_cleaved_df[\"recorded_date\"])"
   ]
  },
  {
   "cell_type": "markdown",
   "id": "190d8dc9",
   "metadata": {},
   "source": [
    "#### event             3331 non-null   object "
   ]
  },
  {
   "cell_type": "code",
   "execution_count": 92,
   "id": "c32aa477",
   "metadata": {},
   "outputs": [
    {
     "data": {
      "text/plain": [
       "event\n",
       "TED2017                    96\n",
       "TED2018                    95\n",
       "TED2019                    91\n",
       "TED2014                    83\n",
       "TED2009                    81\n",
       "                           ..\n",
       "TEDSalon NY2015             1\n",
       "TEDxIndianapolis            1\n",
       "TEDxChapmanU                1\n",
       "TEDxGoldenGatePark 2012     1\n",
       "TEDxCreativeCoast           1\n",
       "Name: count, Length: 428, dtype: int64"
      ]
     },
     "execution_count": 92,
     "metadata": {},
     "output_type": "execute_result"
    }
   ],
   "source": [
    "merged_cleaved_df[\"event\"].value_counts()"
   ]
  },
  {
   "cell_type": "markdown",
   "id": "0f765d49",
   "metadata": {},
   "source": [
    "I will create a binary \"ted_mainstage\" column in the next section, to differentiate between TED and TEDx (and other) events."
   ]
  },
  {
   "cell_type": "markdown",
   "id": "455f0327",
   "metadata": {},
   "source": [
    "## Feature Engineering\n",
    "\n",
    "#### We will create the following features:\n",
    "- percent_likes (likes / views)\n",
    "- ted_mainstage (mainstage ted events)\n",
    "- word_count (from the \"transcript\" column)\n",
    "- words_per_minute (total_words_count / duration)\n",
    "- total_question_count (summing the instances of \"?\" in the transcript)\n",
    "- questions_per_minute (total_question_count / duration)\n",
    "- total_laugh_count (\"Laughter\" is included in the transcripts, and we will sum these occurrences)\n",
    "- laugh_per_minute (total_laugh_count / duration)\n",
    "- multiple_speakers (dummy variable - wether there were multiple speakers or not - created in the previous section)\n",
    "- published month\n",
    "- published year\n",
    "- recorded month\n",
    "- recorded year\n",
    "\n",
    "\n",
    "#### We will Dummying (via MultiLabelBinarizing) the following columns:\n",
    "- Occupation\n",
    "- Topic\n",
    "\n",
    "#### We will CountVectorize the following columns:\n",
    "- Transcript\n",
    "- Title\n",
    "- Description\n",
    "\n"
   ]
  },
  {
   "cell_type": "markdown",
   "id": "a8aed8bb",
   "metadata": {},
   "source": [
    "#### Percent likes feature\n",
    "- Create a \"percent_likes\" feature"
   ]
  },
  {
   "cell_type": "code",
   "execution_count": 93,
   "id": "0125b4f9",
   "metadata": {},
   "outputs": [],
   "source": [
    "# here we'll create a \"percent_likes\" column, which is the percentage of likes out of the total views\n",
    "merged_cleaved_df['percent_likes'] = merged_cleaved_df['likes'] / merged_cleaved_df['view']"
   ]
  },
  {
   "cell_type": "markdown",
   "id": "940f790b",
   "metadata": {},
   "source": [
    "#### Ted Mainstage Feature\n",
    "\n",
    "- Create a binanry \"main_stage\" feature (from \"event\", which ones are mainstage TED talks vs which ones are 'Tedx'-like talks)"
   ]
  },
  {
   "cell_type": "code",
   "execution_count": 94,
   "id": "841d195b",
   "metadata": {},
   "outputs": [
    {
     "data": {
      "text/plain": [
       "ted_mainstage\n",
       "0    2154\n",
       "1    1176\n",
       "Name: count, dtype: int64"
      ]
     },
     "execution_count": 94,
     "metadata": {},
     "output_type": "execute_result"
    }
   ],
   "source": [
    "# Here we'll create a 'ted_mainstage' column, which is a boolean column that is True if the talk was performed at a mainstream \"TED\" event, and False if it was not.\n",
    "# This is a regex pattern that matches the TED events that are not TEDx or TED Global\n",
    "mainstage = '^\\s*TED\\d{4}\\s*$'\n",
    "\n",
    "# Create a binary column based on the condition\n",
    "merged_cleaved_df['ted_mainstage'] = merged_cleaved_df['event'].str.match(mainstage).astype(int)\n",
    "merged_cleaved_df['ted_mainstage'].value_counts()\n"
   ]
  },
  {
   "cell_type": "markdown",
   "id": "adf5c6c8",
   "metadata": {},
   "source": [
    "#### Word count columns"
   ]
  },
  {
   "cell_type": "code",
   "execution_count": 95,
   "id": "f9dd357e",
   "metadata": {},
   "outputs": [],
   "source": [
    "# Lets create another column that counts the number of words in the transcript.\n",
    "# A function that counts words in a string\n",
    "def count_words(text):\n",
    "    # Splitting the text into words and count them\n",
    "    return len(text.split())\n",
    "\n",
    "# Apply this function to each row in the 'transcript' column and create a new column\n",
    "merged_cleaved_df['word_count'] = merged_cleaved_df['transcript'].apply(count_words)\n"
   ]
  },
  {
   "cell_type": "markdown",
   "id": "67ec465d",
   "metadata": {},
   "source": [
    "#### Words per minute"
   ]
  },
  {
   "cell_type": "code",
   "execution_count": 96,
   "id": "8302c84d",
   "metadata": {},
   "outputs": [],
   "source": [
    "# words count per minute\n",
    "merged_cleaved_df['words_per_minute'] = merged_cleaved_df['word_count'] / merged_cleaved_df['duration']"
   ]
  },
  {
   "cell_type": "markdown",
   "id": "31176637",
   "metadata": {},
   "source": [
    "#### Total Question Count and Questions per Minute"
   ]
  },
  {
   "cell_type": "code",
   "execution_count": 97,
   "id": "38f3bd88",
   "metadata": {},
   "outputs": [
    {
     "data": {
      "text/html": [
       "<div>\n",
       "<style scoped>\n",
       "    .dataframe tbody tr th:only-of-type {\n",
       "        vertical-align: middle;\n",
       "    }\n",
       "\n",
       "    .dataframe tbody tr th {\n",
       "        vertical-align: top;\n",
       "    }\n",
       "\n",
       "    .dataframe thead th {\n",
       "        text-align: right;\n",
       "    }\n",
       "</style>\n",
       "<table border=\"1\" class=\"dataframe\">\n",
       "  <thead>\n",
       "    <tr style=\"text-align: right;\">\n",
       "      <th></th>\n",
       "      <th>talk_id</th>\n",
       "      <th>title</th>\n",
       "      <th>occupations</th>\n",
       "      <th>recorded_date</th>\n",
       "      <th>published_date</th>\n",
       "      <th>event</th>\n",
       "      <th>comments</th>\n",
       "      <th>duration</th>\n",
       "      <th>topics</th>\n",
       "      <th>transcript</th>\n",
       "      <th>view</th>\n",
       "      <th>likes</th>\n",
       "      <th>multiple_speakers</th>\n",
       "      <th>transformed_occupations</th>\n",
       "      <th>percent_likes</th>\n",
       "      <th>ted_mainstage</th>\n",
       "      <th>word_count</th>\n",
       "      <th>words_per_minute</th>\n",
       "      <th>num_question_marks</th>\n",
       "      <th>questions_per_minute</th>\n",
       "    </tr>\n",
       "  </thead>\n",
       "  <tbody>\n",
       "    <tr>\n",
       "      <th>0</th>\n",
       "      <td>1</td>\n",
       "      <td>Averting the climate crisis</td>\n",
       "      <td>{0: ['climate advocate']}</td>\n",
       "      <td>2006-02-25</td>\n",
       "      <td>2006-06-27</td>\n",
       "      <td>TED2006</td>\n",
       "      <td>272.0</td>\n",
       "      <td>977</td>\n",
       "      <td>['alternative energy', 'ca...</td>\n",
       "      <td>Thank you so much, Chris. ...</td>\n",
       "      <td>3681537</td>\n",
       "      <td>110000</td>\n",
       "      <td>0</td>\n",
       "      <td>climate_advocate</td>\n",
       "      <td>0.029879</td>\n",
       "      <td>1</td>\n",
       "      <td>2153</td>\n",
       "      <td>2.203685</td>\n",
       "      <td>8</td>\n",
       "      <td>0.008188</td>\n",
       "    </tr>\n",
       "    <tr>\n",
       "      <th>1</th>\n",
       "      <td>92</td>\n",
       "      <td>The best stats you've ever...</td>\n",
       "      <td>{0: ['global health expert...</td>\n",
       "      <td>2006-02-22</td>\n",
       "      <td>2006-06-27</td>\n",
       "      <td>TED2006</td>\n",
       "      <td>628.0</td>\n",
       "      <td>1190</td>\n",
       "      <td>['Africa', 'Asia', 'Google...</td>\n",
       "      <td>About 10 years ago, I took...</td>\n",
       "      <td>15432904</td>\n",
       "      <td>462000</td>\n",
       "      <td>0</td>\n",
       "      <td>global_health_expert;_data...</td>\n",
       "      <td>0.029936</td>\n",
       "      <td>1</td>\n",
       "      <td>3174</td>\n",
       "      <td>2.667227</td>\n",
       "      <td>22</td>\n",
       "      <td>0.018487</td>\n",
       "    </tr>\n",
       "    <tr>\n",
       "      <th>2</th>\n",
       "      <td>7</td>\n",
       "      <td>Simplicity sells</td>\n",
       "      <td>{0: ['technology columnist']}</td>\n",
       "      <td>2006-02-24</td>\n",
       "      <td>2006-06-27</td>\n",
       "      <td>TED2006</td>\n",
       "      <td>124.0</td>\n",
       "      <td>1286</td>\n",
       "      <td>['computers', 'entertainme...</td>\n",
       "      <td>(Music: \"The Sound of Sile...</td>\n",
       "      <td>2012797</td>\n",
       "      <td>60000</td>\n",
       "      <td>0</td>\n",
       "      <td>technology_columnist</td>\n",
       "      <td>0.029809</td>\n",
       "      <td>1</td>\n",
       "      <td>3371</td>\n",
       "      <td>2.621306</td>\n",
       "      <td>35</td>\n",
       "      <td>0.027216</td>\n",
       "    </tr>\n",
       "  </tbody>\n",
       "</table>\n",
       "</div>"
      ],
      "text/plain": [
       "   talk_id                          title                    occupations  \\\n",
       "0        1    Averting the climate crisis      {0: ['climate advocate']}   \n",
       "1       92  The best stats you've ever...  {0: ['global health expert...   \n",
       "2        7               Simplicity sells  {0: ['technology columnist']}   \n",
       "\n",
       "  recorded_date published_date    event  comments  duration  \\\n",
       "0    2006-02-25     2006-06-27  TED2006     272.0       977   \n",
       "1    2006-02-22     2006-06-27  TED2006     628.0      1190   \n",
       "2    2006-02-24     2006-06-27  TED2006     124.0      1286   \n",
       "\n",
       "                          topics                     transcript      view  \\\n",
       "0  ['alternative energy', 'ca...  Thank you so much, Chris. ...   3681537   \n",
       "1  ['Africa', 'Asia', 'Google...  About 10 years ago, I took...  15432904   \n",
       "2  ['computers', 'entertainme...  (Music: \"The Sound of Sile...   2012797   \n",
       "\n",
       "    likes  multiple_speakers        transformed_occupations  percent_likes  \\\n",
       "0  110000                  0               climate_advocate       0.029879   \n",
       "1  462000                  0  global_health_expert;_data...       0.029936   \n",
       "2   60000                  0           technology_columnist       0.029809   \n",
       "\n",
       "   ted_mainstage  word_count  words_per_minute  num_question_marks  \\\n",
       "0              1        2153          2.203685                   8   \n",
       "1              1        3174          2.667227                  22   \n",
       "2              1        3371          2.621306                  35   \n",
       "\n",
       "   questions_per_minute  \n",
       "0              0.008188  \n",
       "1              0.018487  \n",
       "2              0.027216  "
      ]
     },
     "execution_count": 97,
     "metadata": {},
     "output_type": "execute_result"
    }
   ],
   "source": [
    "# Define a function that counts question marks in a given string\n",
    "def count_question_marks(text):\n",
    "    return text.count('?')\n",
    "\n",
    "# Apply this function to each row of the 'transcript' column and store the result in a new column\n",
    "merged_cleaved_df['num_question_marks'] = merged_cleaved_df['transcript'].apply(count_question_marks)\n",
    "merged_cleaved_df['questions_per_minute'] = merged_cleaved_df['num_question_marks'] / merged_cleaved_df['duration']\n",
    "merged_cleaved_df.head(3)"
   ]
  },
  {
   "cell_type": "markdown",
   "id": "47165f89",
   "metadata": {},
   "source": [
    "#### Total Laugh Count and Laughs per Minute"
   ]
  },
  {
   "cell_type": "code",
   "execution_count": 98,
   "id": "d3a886d0",
   "metadata": {},
   "outputs": [
    {
     "data": {
      "text/html": [
       "<div>\n",
       "<style scoped>\n",
       "    .dataframe tbody tr th:only-of-type {\n",
       "        vertical-align: middle;\n",
       "    }\n",
       "\n",
       "    .dataframe tbody tr th {\n",
       "        vertical-align: top;\n",
       "    }\n",
       "\n",
       "    .dataframe thead th {\n",
       "        text-align: right;\n",
       "    }\n",
       "</style>\n",
       "<table border=\"1\" class=\"dataframe\">\n",
       "  <thead>\n",
       "    <tr style=\"text-align: right;\">\n",
       "      <th></th>\n",
       "      <th>talk_id</th>\n",
       "      <th>title</th>\n",
       "      <th>occupations</th>\n",
       "      <th>recorded_date</th>\n",
       "      <th>published_date</th>\n",
       "      <th>event</th>\n",
       "      <th>comments</th>\n",
       "      <th>duration</th>\n",
       "      <th>topics</th>\n",
       "      <th>transcript</th>\n",
       "      <th>view</th>\n",
       "      <th>likes</th>\n",
       "      <th>multiple_speakers</th>\n",
       "      <th>transformed_occupations</th>\n",
       "      <th>percent_likes</th>\n",
       "      <th>ted_mainstage</th>\n",
       "      <th>word_count</th>\n",
       "      <th>words_per_minute</th>\n",
       "      <th>num_question_marks</th>\n",
       "      <th>questions_per_minute</th>\n",
       "      <th>num_laughs</th>\n",
       "      <th>laughs_per_minute</th>\n",
       "    </tr>\n",
       "  </thead>\n",
       "  <tbody>\n",
       "    <tr>\n",
       "      <th>0</th>\n",
       "      <td>1</td>\n",
       "      <td>Averting the climate crisis</td>\n",
       "      <td>{0: ['climate advocate']}</td>\n",
       "      <td>2006-02-25</td>\n",
       "      <td>2006-06-27</td>\n",
       "      <td>TED2006</td>\n",
       "      <td>272.0</td>\n",
       "      <td>977</td>\n",
       "      <td>['alternative energy', 'ca...</td>\n",
       "      <td>Thank you so much, Chris. ...</td>\n",
       "      <td>3681537</td>\n",
       "      <td>110000</td>\n",
       "      <td>0</td>\n",
       "      <td>climate_advocate</td>\n",
       "      <td>0.029879</td>\n",
       "      <td>1</td>\n",
       "      <td>2153</td>\n",
       "      <td>2.203685</td>\n",
       "      <td>8</td>\n",
       "      <td>0.008188</td>\n",
       "      <td>22</td>\n",
       "      <td>0.022518</td>\n",
       "    </tr>\n",
       "    <tr>\n",
       "      <th>1</th>\n",
       "      <td>92</td>\n",
       "      <td>The best stats you've ever...</td>\n",
       "      <td>{0: ['global health expert...</td>\n",
       "      <td>2006-02-22</td>\n",
       "      <td>2006-06-27</td>\n",
       "      <td>TED2006</td>\n",
       "      <td>628.0</td>\n",
       "      <td>1190</td>\n",
       "      <td>['Africa', 'Asia', 'Google...</td>\n",
       "      <td>About 10 years ago, I took...</td>\n",
       "      <td>15432904</td>\n",
       "      <td>462000</td>\n",
       "      <td>0</td>\n",
       "      <td>global_health_expert;_data...</td>\n",
       "      <td>0.029936</td>\n",
       "      <td>1</td>\n",
       "      <td>3174</td>\n",
       "      <td>2.667227</td>\n",
       "      <td>22</td>\n",
       "      <td>0.018487</td>\n",
       "      <td>9</td>\n",
       "      <td>0.007563</td>\n",
       "    </tr>\n",
       "    <tr>\n",
       "      <th>2</th>\n",
       "      <td>7</td>\n",
       "      <td>Simplicity sells</td>\n",
       "      <td>{0: ['technology columnist']}</td>\n",
       "      <td>2006-02-24</td>\n",
       "      <td>2006-06-27</td>\n",
       "      <td>TED2006</td>\n",
       "      <td>124.0</td>\n",
       "      <td>1286</td>\n",
       "      <td>['computers', 'entertainme...</td>\n",
       "      <td>(Music: \"The Sound of Sile...</td>\n",
       "      <td>2012797</td>\n",
       "      <td>60000</td>\n",
       "      <td>0</td>\n",
       "      <td>technology_columnist</td>\n",
       "      <td>0.029809</td>\n",
       "      <td>1</td>\n",
       "      <td>3371</td>\n",
       "      <td>2.621306</td>\n",
       "      <td>35</td>\n",
       "      <td>0.027216</td>\n",
       "      <td>38</td>\n",
       "      <td>0.029549</td>\n",
       "    </tr>\n",
       "  </tbody>\n",
       "</table>\n",
       "</div>"
      ],
      "text/plain": [
       "   talk_id                          title                    occupations  \\\n",
       "0        1    Averting the climate crisis      {0: ['climate advocate']}   \n",
       "1       92  The best stats you've ever...  {0: ['global health expert...   \n",
       "2        7               Simplicity sells  {0: ['technology columnist']}   \n",
       "\n",
       "  recorded_date published_date    event  comments  duration  \\\n",
       "0    2006-02-25     2006-06-27  TED2006     272.0       977   \n",
       "1    2006-02-22     2006-06-27  TED2006     628.0      1190   \n",
       "2    2006-02-24     2006-06-27  TED2006     124.0      1286   \n",
       "\n",
       "                          topics                     transcript      view  \\\n",
       "0  ['alternative energy', 'ca...  Thank you so much, Chris. ...   3681537   \n",
       "1  ['Africa', 'Asia', 'Google...  About 10 years ago, I took...  15432904   \n",
       "2  ['computers', 'entertainme...  (Music: \"The Sound of Sile...   2012797   \n",
       "\n",
       "    likes  multiple_speakers        transformed_occupations  percent_likes  \\\n",
       "0  110000                  0               climate_advocate       0.029879   \n",
       "1  462000                  0  global_health_expert;_data...       0.029936   \n",
       "2   60000                  0           technology_columnist       0.029809   \n",
       "\n",
       "   ted_mainstage  word_count  words_per_minute  num_question_marks  \\\n",
       "0              1        2153          2.203685                   8   \n",
       "1              1        3174          2.667227                  22   \n",
       "2              1        3371          2.621306                  35   \n",
       "\n",
       "   questions_per_minute  num_laughs  laughs_per_minute  \n",
       "0              0.008188          22           0.022518  \n",
       "1              0.018487           9           0.007563  \n",
       "2              0.027216          38           0.029549  "
      ]
     },
     "execution_count": 98,
     "metadata": {},
     "output_type": "execute_result"
    }
   ],
   "source": [
    "# Create a function that counts the number of \"(Laughter)\" in a string.\n",
    "def count_laughter(text):\n",
    "    # Splitting the text into words and count them\n",
    "    return text.count(\"(Laughter)\")\n",
    "\n",
    "# Apply this function to each row of the 'transcript' column and store the result in a new column\n",
    "merged_cleaved_df['num_laughs'] = merged_cleaved_df['transcript'].apply(count_laughter)\n",
    "merged_cleaved_df['laughs_per_minute'] = merged_cleaved_df['num_laughs'] / merged_cleaved_df['duration']\n",
    "merged_cleaved_df.head(3)"
   ]
  },
  {
   "cell_type": "markdown",
   "id": "17946195",
   "metadata": {},
   "source": [
    "#### Published and Recorded Month and Year columns:\n",
    "\n",
    "- published_year\n",
    "- published_month\n",
    "- recorded_year\n",
    "- recorded_month"
   ]
  },
  {
   "cell_type": "code",
   "execution_count": 99,
   "id": "bf5e6e9f",
   "metadata": {},
   "outputs": [],
   "source": [
    "# I am creating additional columns for the year and month of the published and recorded dates\n",
    "merged_cleaved_df[\"published_year\"] = merged_cleaved_df[\"published_date\"].dt.year\n",
    "merged_cleaved_df[\"published_month\"] = merged_cleaved_df[\"published_date\"].dt.month\n",
    "merged_cleaved_df[\"recorded_year\"] = merged_cleaved_df[\"recorded_date\"].dt.year\n",
    "merged_cleaved_df[\"recorded_month\"] = merged_cleaved_df[\"recorded_date\"].dt.month"
   ]
  },
  {
   "cell_type": "markdown",
   "id": "a5d280e3",
   "metadata": {},
   "source": [
    "#### We will Dummying (via MultiLabelBinarizing) the following columns:\n",
    "- Occupation\n",
    "- Topic\n",
    "\n",
    "#### We will CountVectorize the following columns:\n",
    "- Transcript\n",
    "- Title\n",
    "- Description\n"
   ]
  },
  {
   "cell_type": "code",
   "execution_count": 107,
   "id": "2cc2d021",
   "metadata": {},
   "outputs": [
    {
     "data": {
      "text/plain": [
       "(3330, 449)"
      ]
     },
     "execution_count": 107,
     "metadata": {},
     "output_type": "execute_result"
    }
   ],
   "source": [
    "# MultiLabelBinarizing the 'topics' column\n",
    "# Convert the string representation of lists in 'topics' column to actual lists\n",
    "merged_cleaved_df['topics_list'] = merged_cleaved_df['topics'].apply(ast.literal_eval)\n",
    "\n",
    "# Initialize the MultiLabelBinarizer\n",
    "mlb = MultiLabelBinarizer()\n",
    "\n",
    "# Transform 'topics_list' column (now actual lists) into a binary matrix\n",
    "topics_encoded = mlb.fit_transform(merged_cleaved_df['topics_list'])\n",
    "\n",
    "# Creating a DataFrame from the transformed topics\n",
    "topics_df = pd.DataFrame(topics_encoded, columns=mlb.classes_)\n",
    "\n",
    "# topics_df now contains the binarized form of the 'topics' column, with each column representing a unique topic\n",
    "topics_df.shape"
   ]
  },
  {
   "cell_type": "markdown",
   "id": "6a3a3825",
   "metadata": {},
   "source": [
    "Topics dummy variables account for 449 features."
   ]
  },
  {
   "cell_type": "code",
   "execution_count": 108,
   "id": "299b3570",
   "metadata": {},
   "outputs": [
    {
     "data": {
      "text/plain": [
       "(3330, 1701)"
      ]
     },
     "execution_count": 108,
     "metadata": {},
     "output_type": "execute_result"
    }
   ],
   "source": [
    "# MultiLabelBinarizing the 'transformed_occupation' column\n",
    "# Convert the string representation of lists in 'topics' column to actual lists\n",
    "merged_cleaved_df['transformed_occupations_list'] = merged_cleaved_df['transformed_occupations'].apply(lambda x: x.split(' '))\n",
    "\n",
    "# Initialize the MultiLabelBinarizer\n",
    "mlb = MultiLabelBinarizer()\n",
    "\n",
    "# Transform 'transformed_occupations_list' column (now actual lists) into a binary matrix\n",
    "occupations_encoded = mlb.fit_transform(merged_cleaved_df['transformed_occupations_list'])\n",
    "\n",
    "# Creating a DataFrame from the transformed occupations\n",
    "occupations_df = pd.DataFrame(occupations_encoded, columns=mlb.classes_)\n",
    "\n",
    "# occupations_df now contains the binarized form of the 'transformed_occupations' column, with each column representing a unique topic\n",
    "occupations_df.shape"
   ]
  },
  {
   "cell_type": "markdown",
   "id": "cd798693",
   "metadata": {},
   "source": [
    "Occupation dummy variables account for 1701 features."
   ]
  },
  {
   "cell_type": "markdown",
   "id": "938dbbe8",
   "metadata": {},
   "source": [
    "## Merging into a single dataframe\n",
    "\n",
    "We will merge the dataframes before our countvectorization process.\n",
    "\n",
    "Let's first drop all non-numerical columns (other than the columns we will be doing our CountVectorizing on)."
   ]
  },
  {
   "cell_type": "code",
   "execution_count": 109,
   "id": "53bc6581",
   "metadata": {},
   "outputs": [],
   "source": [
    "pd.options.display.max_rows = 40"
   ]
  },
  {
   "cell_type": "code",
   "execution_count": 139,
   "id": "2cc6722f",
   "metadata": {},
   "outputs": [
    {
     "name": "stdout",
     "output_type": "stream",
     "text": [
      "<class 'pandas.core.frame.DataFrame'>\n",
      "Index: 3330 entries, 0 to 3993\n",
      "Data columns (total 13 columns):\n",
      " #   Column                Non-Null Count  Dtype  \n",
      "---  ------                --------------  -----  \n",
      " 0   comments              3330 non-null   float64\n",
      " 1   duration              3330 non-null   int64  \n",
      " 2   view                  3330 non-null   int64  \n",
      " 3   multiple_speakers     3330 non-null   int64  \n",
      " 4   percent_likes         3330 non-null   float64\n",
      " 5   ted_mainstage         3330 non-null   int64  \n",
      " 6   word_count            3330 non-null   int64  \n",
      " 7   words_per_minute      3330 non-null   float64\n",
      " 8   num_question_marks    3330 non-null   int64  \n",
      " 9   questions_per_minute  3330 non-null   float64\n",
      " 10  num_laughs            3330 non-null   int64  \n",
      " 11  laughs_per_minute     3330 non-null   float64\n",
      " 12  transcript            3330 non-null   object \n",
      "dtypes: float64(5), int64(7), object(1)\n",
      "memory usage: 364.2+ KB\n",
      "(3330, 13)\n"
     ]
    }
   ],
   "source": [
    "# Dropping the non numerical columns\n",
    "ready_to_merge_numerical_df = merged_cleaved_df.select_dtypes(include=['int64', 'float64'])\n",
    "ready_to_merge_numerical_df.drop([\"talk_id\"], axis=1, inplace=True) # Dropping the talk_id column\n",
    "ready_to_merge_numerical_df.drop([\"likes\"], axis=1, inplace=True) # Dropping the likes column\n",
    "ready_to_merge_numerical_df['transcript'] = merged_cleaved_df['transcript'] # Adding the transcript column back in\n",
    "ready_to_merge_numerical_df.info()\n",
    "print(ready_to_merge_numerical_df.shape)"
   ]
  },
  {
   "cell_type": "markdown",
   "id": "e69a26ca",
   "metadata": {},
   "source": [
    "We now have a dataframe to which we can merge the topics and occupations dummy variables."
   ]
  },
  {
   "cell_type": "code",
   "execution_count": 140,
   "id": "a5d0d6f4",
   "metadata": {},
   "outputs": [
    {
     "name": "stdout",
     "output_type": "stream",
     "text": [
      "(3330, 449)\n",
      "(3330, 1701)\n",
      "(3330, 13)\n"
     ]
    }
   ],
   "source": [
    "# Lets check the shape of the topics_df and occupations_df and ready_to_merge_numerical_df\n",
    "print(topics_df.shape)\n",
    "print(occupations_df.shape)\n",
    "print(ready_to_merge_numerical_df.shape)"
   ]
  },
  {
   "cell_type": "code",
   "execution_count": 141,
   "id": "ea26a7c4",
   "metadata": {},
   "outputs": [],
   "source": [
    "# As all three dataframes have the same shape, we'll reset their indexes and merge them together\n",
    "# Reset the index of each DataFrame to ensure alignment\n",
    "occupations_df_reset = occupations_df.reset_index(drop=True)\n",
    "topics_df_reset = topics_df.reset_index(drop=True)\n",
    "ready_to_merge_numerical_df_reset = ready_to_merge_numerical_df.reset_index(drop=True)"
   ]
  },
  {
   "cell_type": "code",
   "execution_count": 142,
   "id": "c8700525",
   "metadata": {},
   "outputs": [
    {
     "data": {
      "text/plain": [
       "(3330, 2163)"
      ]
     },
     "execution_count": 142,
     "metadata": {},
     "output_type": "execute_result"
    }
   ],
   "source": [
    "dummy_merged_df = pd.concat([occupations_df_reset, topics_df_reset, ready_to_merge_numerical_df_reset], axis=1)\n",
    "dummy_merged_df.shape"
   ]
  },
  {
   "cell_type": "markdown",
   "id": "97877b01",
   "metadata": {},
   "source": [
    "For countvectorizing, we have space for (3330 - 2162 = 1168) 1168 columns.  We will set the MaxFeatures at 1100. "
   ]
  },
  {
   "cell_type": "markdown",
   "id": "4fb3ea6b",
   "metadata": {},
   "source": [
    "## Defining what a \"good\" speach is - creating a binary dependent variable"
   ]
  },
  {
   "cell_type": "markdown",
   "id": "db91b43f",
   "metadata": {},
   "source": [
    "Let's first look at the \"percent_likes\" column to decide where to draw the line."
   ]
  },
  {
   "cell_type": "code",
   "execution_count": 143,
   "id": "9450b510",
   "metadata": {},
   "outputs": [
    {
     "name": "stderr",
     "output_type": "stream",
     "text": [
      "/var/folders/l2/d5ln4l29453322fq40g1dz2h0000gn/T/ipykernel_47092/1665270562.py:3: UserWarning: Ignoring `palette` because no `hue` variable has been assigned.\n",
      "  sns.histplot(dummy_merged_df['percent_likes'], kde=False, palette='coolwarm', bins=30)\n"
     ]
    },
    {
     "data": {
      "image/png": "[encoded data removed]",
      "text/plain": [
       "<Figure size 1000x600 with 1 Axes>"
      ]
     },
     "metadata": {},
     "output_type": "display_data"
    }
   ],
   "source": [
    "# Plotting the distribution\n",
    "plt.figure(figsize=(10, 6))  # Set the figure size for better readability\n",
    "sns.histplot(dummy_merged_df['percent_likes'], kde=False, palette='coolwarm', bins=30)\n",
    "# 'kde=False' turns off the Kernel Density Estimate plot overlay\n",
    "# 'bins=30' specifies how many bins you want to divide your data into\n",
    "# 'color' specifies the color of the histogram\n",
    "\n",
    "# Calculating and plotting the mean\n",
    "mean_value = dummy_merged_df['percent_likes'].mean()\n",
    "plt.axvline(mean_value, color='red', linestyle='--', label=f'Mean: {mean_value:.4f}')\n",
    "# This draws a vertical line at the mean value, '--' makes the line dashed, and ':.2f' formats the mean to 2 decimal places\n",
    "\n",
    "plt.xlabel('Percent Likes')  # Label for the x-axis\n",
    "plt.ylabel('Number of Talks')  # Label for the y-axis\n",
    "plt.title('Distribution of Percent Likes')  # Title of the plot\n",
    "plt.legend()  # Show the legend\n",
    "plt.show()\n"
   ]
  },
  {
   "cell_type": "markdown",
   "id": "e0b624b9",
   "metadata": {},
   "source": [
    "We're first going to create a binary \"good_speech\" column.  We are indicating that speeches that recieved an above the mean \"percent_likes\" are counted as \"good_speech\", and those that were below the \"percent_likes\" mean are not."
   ]
  },
  {
   "cell_type": "code",
   "execution_count": null,
   "id": "71f798c2",
   "metadata": {},
   "outputs": [],
   "source": [
    "# creating a new column called 'good_speech' that is 1 if the speech is in the top 50% of percent_likes, and 0 if it is in the bottom 50% of percent_likes\n",
    "\n",
    "# Calculate the 50th percentile (median) of the 'percent_likes' column\n",
    "median_percent_likes = dummy_merged_df['percent_likes'].mean()\n",
    "\n",
    "# Create the 'good_speech' column based on the condition\n",
    "dummy_merged_df['good_speech'] = (dummy_merged_df['percent_likes'] >= median_percent_likes).astype(int)\n",
    "\n",
    "# Now, merged_cleaved_df has a new column 'good_speech' with 1s and 0s based on the condition"
   ]
  },
  {
   "cell_type": "code",
   "execution_count": null,
   "id": "45691a00",
   "metadata": {},
   "outputs": [],
   "source": [
    "# Scaling the data\n",
    "\n",
    "# Initialize the Min-Max Scaler\n",
    "scaler = MinMaxScaler()\n",
    "\n",
    "# List of columns to scale\n",
    "columns_to_scale = ['comments', 'duration', 'view', 'multiple_speakers',\n",
    "       'percent_likes', 'num_question_marks',\n",
    "       'questions_per_minute', 'num_laughs', 'laughs_per_minute']\n",
    "\n",
    "# Scale the selected columns and replace in the dataframe\n",
    "dummy_merged_df[columns_to_scale] = scaler.fit_transform(dummy_merged_df[columns_to_scale])"
   ]
  },
  {
   "cell_type": "markdown",
   "id": "c5d34319",
   "metadata": {},
   "source": [
    "## Baseline Model:\n",
    "\n",
    "Result:\n",
    "\n",
    "Logistic Regression:\n",
    "| Metric      | Score           |\n",
    "|-------------|-----------------|\n",
    "| Train score | 0.6415165165165165 |\n",
    "| Test score  | 0.6036036036036037 |\n",
    "\n",
    "Random Forest:\n",
    "| Metric      | Score           |\n",
    "|-------------|-----------------|\n",
    "| Train score | 0.9966216216216216 |\n",
    "| Test score  | 0.6066066066066066 |\n",
    "\n",
    "\n",
    "Logistic Regression (top 10 positive coefficients):\n",
    "| Feature          | Coefficient |\n",
    "|------------------|-------------|\n",
    "| want know        | 0.039544    |\n",
    "| people say       | 0.029546    |\n",
    "| people think     | 0.026989    |\n",
    "| feels like       | 0.025923    |\n",
    "| dont think       | 0.025119    |\n",
    "| black hole       | 0.024329    |\n",
    "| know people      | 0.022076    |\n",
    "| years later      | 0.021207    |\n",
    "| high school      | 0.020977    |\n",
    "| answer question  | 0.020397    |\n",
    "\n",
    "Logistic Regression (bottom 10 positive coefficients):\n",
    "| Feature           | Coefficient |\n",
    "|-------------------|-------------|\n",
    "| 20 years          | -0.016250   |\n",
    "| 90 percent        | -0.017265   |\n",
    "| 30 years          | -0.017755   |\n",
    "| middle east       | -0.018234   |\n",
    "| im going          | -0.022491   |\n",
    "| just want         | -0.023509   |\n",
    "| looks like        | -0.025027   |\n",
    "| ladies gentlemen  | -0.026333   |\n",
    "| people living     | -0.029691   |\n",
    "| weve got          | -0.031859   |\n",
    "\n",
    "\n",
    "Random Forest:\n",
    "| Feature        | Importance |\n",
    "|----------------|------------|\n",
    "| years ago      | 0.012877   |\n",
    "| im going       | 0.010958   |\n",
    "| united states  | 0.010084   |\n",
    "| dont know      | 0.009862   |\n",
    "| little bit     | 0.009772   |\n",
    "| looks like     | 0.009366   |\n",
    "| new york       | 0.008108   |\n",
    "| just like      | 0.007697   |\n",
    "| years old      | 0.007577   |\n",
    "| id like        | 0.007223   |"
   ]
  },
  {
   "cell_type": "code",
   "execution_count": null,
   "id": "99518516",
   "metadata": {},
   "outputs": [],
   "source": [
    "X=dummy_merged_df.drop(\"good_speech\", axis=1)\n",
    "y=dummy_merged_df[\"good_speech\"]\n",
    "\n",
    "# train/test split should be conducted before Vectorization\n",
    "X_train, X_test, y_train, y_test=train_test_split(X, y, test_size=0.2, random_state=42)\n"
   ]
  },
  {
   "cell_type": "code",
   "execution_count": null,
   "id": "80b9a20e",
   "metadata": {},
   "outputs": [],
   "source": [
    "## CountVectorizing the 'transcript' column\n",
    "# Custom stop words\n",
    "custom_stop_words = [\"laughter\", \"applause\", \"laughter applause\", \"--\", \"-\", \"♫ ♫\", \"♫\"]\n",
    "\n",
    "# Combine custom stop words with default English stop words\n",
    "stop_words = list(text.ENGLISH_STOP_WORDS.union(custom_stop_words))\n",
    "\n",
    "# As tokenizers must be functions, we will define a function for the tokenizer we will use\n",
    "def nltk_tokenizer(text):\n",
    "    # Remove punctuation using a list comprehension\n",
    "    text_no_punctuation = ''.join([char for char in text if char not in string.punctuation])\n",
    "    \n",
    "    # Tokenize the text without punctuation\n",
    "    return word_tokenize(text_no_punctuation)\n",
    "\n",
    "# instantiate CountVectorizer\n",
    "bagofwords_transcript = CountVectorizer(stop_words=stop_words, # remove stop words\n",
    "                                        tokenizer=nltk_tokenizer, # use the NLTK tokenizer\n",
    "                                        min_df=10, # minimum document frequency of 10\n",
    "                                        max_df=0.8, # maximum document frequency of 75% (i.e., ignore words that appear in more than 75% of the documents)\n",
    "                                        ngram_range=(2, 6), # allowing for bigrams, and trigrams\n",
    "                                        max_features=300) # maximum number of features to keep\n",
    "\n",
    "# Fit the CountVectorizer object on the positive (and, separately, negative) reviews\n",
    "bagofwords_transcript.fit(X_train[\"transcript\"])\n",
    "print(bagofwords_transcript.fit(X_train[\"transcript\"]))"
   ]
  },
  {
   "cell_type": "code",
   "execution_count": null,
   "id": "a5fdc76d",
   "metadata": {},
   "outputs": [],
   "source": [
    "sparse_matrix_train = bagofwords_transcript.transform(X_train[\"transcript\"])\n",
    "sparse_matrix_test = bagofwords_transcript.transform(X_test[\"transcript\"])"
   ]
  },
  {
   "cell_type": "markdown",
   "id": "c3d9a4ed",
   "metadata": {},
   "source": [
    "## Logistic Regression on CountVectorized Transcripts"
   ]
  },
  {
   "cell_type": "markdown",
   "id": "4cb9f607",
   "metadata": {},
   "source": [
    "We will use this as our baseline model."
   ]
  },
  {
   "cell_type": "code",
   "execution_count": null,
   "id": "00fa0905",
   "metadata": {},
   "outputs": [],
   "source": [
    "# Instantiate the Logistic Regression model\n",
    "logreg = LogisticRegression(C = 0.001, max_iter=1000, n_jobs=-1) \n",
    "\n",
    "#Fit the model\n",
    "logreg.fit(sparse_matrix_train, y_train)\n",
    "\n",
    "# Training and test score\n",
    "print(f\"Train score: {logreg.score(sparse_matrix_train, y_train)}\")\n",
    "print(f\"Test score: {logreg.score(sparse_matrix_test, y_test)}\")"
   ]
  },
  {
   "cell_type": "markdown",
   "id": "881d17c5",
   "metadata": {},
   "source": [
    "What are the features with the highest coefficients (which features were most impactful in the model?)"
   ]
  },
  {
   "cell_type": "code",
   "execution_count": null,
   "id": "53b32759",
   "metadata": {},
   "outputs": [],
   "source": [
    "# Extracting coefficients\n",
    "coefficients = logreg.coef_[0]  # For logistic regression, `coef_` returns an array in shape (n_classes, n_features)\n",
    "\n",
    "# Getting feature names from the CountVectorizer\n",
    "feature_names = bagofwords_transcript.get_feature_names_out()\n",
    "\n",
    "# Create a pandas DataFrame for easier manipulation\n",
    "coefficients_df = pd.DataFrame({\n",
    "    'Feature': feature_names,\n",
    "    'Coefficient': coefficients\n",
    "})\n",
    "\n",
    "# Sort the DataFrame to show features with the highest absolute coefficient values at the top\n",
    "coefficients_df = coefficients_df.sort_values(by='Coefficient', ascending=False)\n",
    "\n",
    "# Display the top N most impactful features\n",
    "print(coefficients_df.head(10))\n",
    "print(coefficients_df.tail(10))\n"
   ]
  },
  {
   "cell_type": "markdown",
   "id": "8d4d93a4",
   "metadata": {},
   "source": [
    "## Random Forest Classifier Model"
   ]
  },
  {
   "cell_type": "code",
   "execution_count": null,
   "id": "beb27579",
   "metadata": {},
   "outputs": [],
   "source": [
    "# Instantiate the Random Forest model\n",
    "# n_estimators is the number of trees in the forest, max_depth is the maximum depth of the trees\n",
    "random_forest = RandomForestClassifier(n_estimators=100, max_depth=None, n_jobs=-1, random_state=42)\n",
    "\n",
    "# Fit the model on the training data\n",
    "# Note: Random Forest handles the feature importance internally, so scaling is not as critical as in logistic regression\n",
    "random_forest.fit(sparse_matrix_train, y_train)\n",
    "\n",
    "# Training and test score\n",
    "train_score_rf = random_forest.score(sparse_matrix_train, y_train)\n",
    "test_score_rf = random_forest.score(sparse_matrix_test, y_test)\n",
    "\n",
    "print(f\"Train score: {train_score_rf}\")\n",
    "print(f\"Test score: {test_score_rf}\")"
   ]
  },
  {
   "cell_type": "code",
   "execution_count": null,
   "id": "69840214",
   "metadata": {},
   "outputs": [],
   "source": [
    "# Extracting feature importance\n",
    "feature_importances = random_forest.feature_importances_\n",
    "\n",
    "# Getting feature names from the CountVectorizer\n",
    "feature_names = bagofwords_transcript.get_feature_names_out()\n",
    "\n",
    "# Create a pandas DataFrame for easier manipulation and visualization\n",
    "import pandas as pd\n",
    "\n",
    "features_df = pd.DataFrame({\n",
    "    'Feature': feature_names,\n",
    "    'Importance': feature_importances\n",
    "})\n",
    "\n",
    "# Sort the DataFrame to show the most important features at the top\n",
    "features_df = features_df.sort_values(by='Importance', ascending=False)\n",
    "\n",
    "# Display the top N most important features\n",
    "print(features_df.head(10))\n"
   ]
  },
  {
   "cell_type": "markdown",
   "id": "f20e1975",
   "metadata": {},
   "source": [
    "## Model Iteration\n",
    "\n",
    "We now have solid baseline models in both a Random Forest Model, and a Logistic Regression Model\n",
    "\n",
    "We will iterate over our selected features to see:\n",
    "1. which coefficients/feature_importances we can see as having the most influence, and\n",
    "2. if we can produce a better performing model\n",
    "\n",
    "Model Iterations:\n",
    "\n",
    "1. limit our features to only the numeric columns of the original dataset (no countvectorizing and no dummying)\n",
    "2. only include countvectorization of the \"transcript\" column.  Adjust n_grams and Max Features and see what insights we can glean.\n",
    "3. include countvectorization and topics dummies (do not include occupation dummies)"
   ]
  },
  {
   "cell_type": "markdown",
   "id": "46b01661",
   "metadata": {},
   "source": [
    "### Model Iteration: 1. limit our features to only the numeric columns of the original dataset (no countvectorizing and no dummying)\n",
    "\n",
    "Result:\n",
    "\n",
    "Logistic Regression:\n",
    "| Metric      | Score        |\n",
    "|-------------|--------------|\n",
    "| Train score | 0.6415165165 |\n",
    "| Test score  | 0.6036036036 |\n",
    "\n",
    "Random Forest:\n",
    "| Metric      | Score        |\n",
    "|-------------|--------------|\n",
    "| Train score | 1.0          |\n",
    "| Test score  | 0.5750750751 |\n",
    "\n",
    "\n",
    "\n",
    "Logistic Regression:\n",
    "| Feature               | Coefficient |\n",
    "|-----------------------|-------------|\n",
    "| ted_mainstage         | 0.035492    |\n",
    "| num_question_marks    | 0.009934    |\n",
    "| laughs_per_minute     | 0.008348    |\n",
    "| comments              | 0.007841    |\n",
    "| questions_per_minute  | 0.007794    |\n",
    "| num_laughs            | 0.007096    |\n",
    "| duration              | 0.003855    |\n",
    "| multiple_speakers     | -0.005425   |\n",
    "\n",
    "\n",
    "Random Forest:\n",
    "| Feature               | Importance |\n",
    "|-----------------------|------------|\n",
    "| comments              | 0.238122   |\n",
    "| duration              | 0.208304   |\n",
    "| questions_per_minute  | 0.190413   |\n",
    "| laughs_per_minute     | 0.148356   |\n",
    "| num_question_marks    | 0.114803   |\n",
    "| num_laughs            | 0.069227   |\n",
    "| ted_mainstage         | 0.020783   |\n",
    "| multiple_speakers     | 0.009992   |\n"
   ]
  },
  {
   "cell_type": "code",
   "execution_count": null,
   "id": "62b9667b",
   "metadata": {},
   "outputs": [],
   "source": [
    "# Dropping the non numerical columns\n",
    "ready_to_merge_numerical_df = merged_cleaved_df.select_dtypes(include=['int64', 'float64'])\n",
    "ready_to_merge_numerical_df.drop([\"talk_id\"], axis=1, inplace=True) # Dropping the talk_id column\n",
    "ready_to_merge_numerical_df.drop([\"likes\"], axis=1, inplace=True) # Dropping the likes column\n",
    "ready_to_merge_numerical_df.drop([\"view\"], axis=1, inplace=True) # Dropping the view column\n",
    "ready_to_merge_numerical_df.info()\n",
    "print(ready_to_merge_numerical_df.shape)"
   ]
  },
  {
   "cell_type": "code",
   "execution_count": null,
   "id": "2647e3d6",
   "metadata": {},
   "outputs": [],
   "source": [
    "# creating a new column called 'good_speech' that is 1 if the speech is in the top 50% of percent_likes, and 0 if it is in the bottom 50% of percent_likes\n",
    "\n",
    "# Calculate the 50th percentile (median) of the 'percent_likes' column\n",
    "median_percent_likes = dummy_merged_df['percent_likes'].mean()\n",
    "\n",
    "# Create the 'good_speech' column based on the condition\n",
    "dummy_merged_df['good_speech'] = (dummy_merged_df['percent_likes'] >= median_percent_likes).astype(int)\n",
    "\n",
    "# Now, merged_cleaved_df has a new column 'good_speech' with 1s and 0s based on the condition\n",
    "\n",
    "# since this data is already represented in the \"good_speech\" column, we'll drop the \"percent_likes\" column\n",
    "ready_to_merge_numerical_df.drop([\"percent_likes\"], axis=1, inplace=True) # Dropping the percent_likes column"
   ]
  },
  {
   "cell_type": "code",
   "execution_count": null,
   "id": "f586ffcf",
   "metadata": {},
   "outputs": [],
   "source": [
    "# Scaling the data\n",
    "\n",
    "# Initialize the Min-Max Scaler\n",
    "scaler = MinMaxScaler()\n",
    "\n",
    "# List of columns to scale\n",
    "columns_to_scale = ['comments', 'duration',\n",
    "       'num_question_marks', 'questions_per_minute', 'num_laughs', 'laughs_per_minute']\n",
    "\n",
    "# Scale the selected columns and replace in the dataframe\n",
    "ready_to_merge_numerical_df[columns_to_scale] = scaler.fit_transform(ready_to_merge_numerical_df[columns_to_scale])"
   ]
  },
  {
   "cell_type": "code",
   "execution_count": null,
   "id": "4fec8ca8",
   "metadata": {},
   "outputs": [],
   "source": [
    "X=ready_to_merge_numerical_df.drop(\"good_speech\", axis=1)\n",
    "y=ready_to_merge_numerical_df[\"good_speech\"]\n",
    "\n",
    "# train/test split should be conducted before Vectorization\n",
    "X_train, X_test, y_train, y_test=train_test_split(X, y, test_size=0.2, random_state=42)\n"
   ]
  },
  {
   "cell_type": "markdown",
   "id": "2ebc0c02",
   "metadata": {},
   "source": [
    "## Logistic Regression on Original Numerical Columns"
   ]
  },
  {
   "cell_type": "code",
   "execution_count": null,
   "id": "793319a8",
   "metadata": {},
   "outputs": [],
   "source": [
    "# Instantiate the Logistic Regression model\n",
    "logreg = LogisticRegression(C = 0.001, max_iter=1000, n_jobs=-1) \n",
    "\n",
    "#Fit the model\n",
    "logreg.fit(X_train, y_train)\n",
    "\n",
    "# Training and test score\n",
    "print(f\"Train score: {logreg.score(X_train, y_train)}\")\n",
    "print(f\"Test score: {logreg.score(X_test, y_test)}\")"
   ]
  },
  {
   "cell_type": "markdown",
   "id": "5ea43ebd",
   "metadata": {},
   "source": [
    "What are the features with the highest coefficients (which features were most impactful in the model?)"
   ]
  },
  {
   "cell_type": "code",
   "execution_count": null,
   "id": "50925143",
   "metadata": {},
   "outputs": [],
   "source": [
    "# Assuming X_train is a pandas DataFrame\n",
    "feature_names = X_train.columns\n",
    "\n",
    "# Extracting the coefficients\n",
    "coefficients = logreg.coef_[0]\n",
    "\n",
    "# Creating a DataFrame for better readability\n",
    "coefficients_df = pd.DataFrame({'Feature': feature_names, 'Coefficient': coefficients})\n",
    "\n",
    "# Sorting the DataFrame by the absolute values of the coefficients in descending order\n",
    "coefficients_df = coefficients_df.sort_values(by='Coefficient', ascending=False)\n",
    "\n",
    "# Printing the DataFrame\n",
    "print(coefficients_df)\n"
   ]
  },
  {
   "cell_type": "markdown",
   "id": "4a14ee47",
   "metadata": {},
   "source": [
    "## Random Forest Classifier on Original Numerical Columns"
   ]
  },
  {
   "cell_type": "code",
   "execution_count": null,
   "id": "96e011d8",
   "metadata": {},
   "outputs": [],
   "source": [
    "# Instantiate the Random Forest model\n",
    "# n_estimators is the number of trees in the forest, max_depth is the maximum depth of the trees\n",
    "random_forest = RandomForestClassifier(n_estimators=100, max_depth=None, n_jobs=-1, random_state=42)\n",
    "\n",
    "# Fit the model on the training data\n",
    "# Note: Random Forest handles the feature importance internally, so scaling is not as critical as in logistic regression\n",
    "random_forest.fit(X_train, y_train)\n",
    "\n",
    "# Training and test score\n",
    "train_score_rf = random_forest.score(X_train, y_train)\n",
    "test_score_rf = random_forest.score(X_test, y_test)\n",
    "\n",
    "print(f\"Train score: {train_score_rf}\")\n",
    "print(f\"Test score: {test_score_rf}\")"
   ]
  },
  {
   "cell_type": "code",
   "execution_count": null,
   "id": "5491b6ed",
   "metadata": {},
   "outputs": [],
   "source": [
    "# Extracting feature importance\n",
    "feature_importances = random_forest.feature_importances_\n",
    "\n",
    "features_df = pd.DataFrame({\n",
    "    'Feature': feature_names,\n",
    "    'Importance': feature_importances\n",
    "})\n",
    "\n",
    "# Sort the DataFrame to show the most important features at the top\n",
    "features_df = features_df.sort_values(by='Importance', ascending=False)\n",
    "\n",
    "# Display the top N most important features\n",
    "print(features_df.head(10))\n"
   ]
  },
  {
   "cell_type": "markdown",
   "id": "db70c49f",
   "metadata": {},
   "source": [
    "### Model Iteration: 2. only include countvectorization of the \"transcript\" column.  Adjust n_grams and Max Features and see what insights we can glean.\n",
    "\n",
    "Result:\n",
    "\n",
    "Max Features 500, n_gram 2,6:\n",
    "\n",
    "    Logistic Regression:\n",
    "| Metric       | Score        |\n",
    "|--------------|--------------|\n",
    "| Train score  | 0.6437687688 |\n",
    "| Test score   | 0.6096096096 |\n",
    "\n",
    "    Random Forest:\n",
    "| Metric       | Score        |\n",
    "|--------------|--------------|\n",
    "| Train score  | 0.6512762763 |\n",
    "| Test score   | 0.5990990991 |\n",
    "\n",
    "        \n",
    "\n",
    "Max Features 200, n_gram 2,6:\n",
    "\n",
    "    Logistic Regression:\n",
    "| Metric       | Score        |\n",
    "|--------------|--------------|\n",
    "| Train score  | 0.6441441441 |\n",
    "| Test score   | 0.6096096096 |\n",
    "    \n",
    "    Random Forest:\n",
    "| Metric       | Score        |\n",
    "|--------------|--------------|\n",
    "| Train score  | 0.9962462462 |\n",
    "| Test score   | 0.5855855856 |\n",
    "        \n",
    "\n",
    "Max Features 200, n_gram 3,6:\n",
    "\n",
    "    Logistic Regression:\n",
    "| Metric       | Score        |\n",
    "|--------------|--------------|\n",
    "| Train score  | 0.6415165165 |\n",
    "| Test score   | 0.6036036036 |\n",
    "\n",
    "    Random Forest:\n",
    "| Metric       | Score        |\n",
    "|--------------|--------------|\n",
    "| Train score  | 0.8599849850 |\n",
    "| Test score   | 0.5690690691 |\n",
    "\n",
    "\n",
    "Max Features 200, n_gram 4,6:\n",
    "\n",
    "    Logistic Regression:\n",
    "| Metric       | Score        |\n",
    "|--------------|--------------|\n",
    "| Train score  | 0.6415165165 |\n",
    "| Test score   | 0.6036036036 |\n",
    "\n",
    "    Random Forest:\n",
    "| Metric       | Score        |\n",
    "|--------------|--------------|\n",
    "| Train score  | 0.6512762763 |\n",
    "| Test score   | 0.5990990991 |\n",
    "\n",
    "\n",
    "\n",
    "\n",
    "-- Coefficients and Important_Features:\n",
    "\n",
    "Max Features 500, n_gram 2,6:\n",
    "\n",
    "Logistic Regression (top 10 positive coefficients):\n",
    "| Feature          | Coefficient |\n",
    "|------------------|-------------|\n",
    "| want know        | 0.038674    |\n",
    "| people say       | 0.028643    |\n",
    "| people think     | 0.026238    |\n",
    "| feels like       | 0.025608    |\n",
    "| dont think       | 0.024323    |\n",
    "| black hole       | 0.022536    |\n",
    "| know people      | 0.022126    |\n",
    "| years later      | 0.020346    |\n",
    "| answer question  | 0.019935    |\n",
    "| high school      | 0.019769    |\n",
    "\n",
    "Logistic Regression (top 10 negative coefficients):\n",
    "| Feature        | Coefficient |\n",
    "|----------------|-------------|\n",
    "| — theyre       | -0.013201   |\n",
    "| looked like    | -0.013604   |\n",
    "| going make     | -0.014004   |\n",
    "| dont want      | -0.014266   |\n",
    "| years ago      | -0.014587   |\n",
    "| youre seeing   | -0.014933   |\n",
    "| thats going    | -0.015702   |\n",
    "| stem cells     | -0.016102   |\n",
    "| 20 years       | -0.016648   |\n",
    "| 90 percent     | -0.017463   |\n",
    "\n",
    "\n",
    "Random Forest (top 10 feature importance):\n",
    "| Feature       | Importance |\n",
    "|---------------|------------|\n",
    "| years ago     | 0.008267   |\n",
    "| little bit    | 0.007942   |\n",
    "| im going      | 0.007934   |\n",
    "| united states | 0.007818   |\n",
    "| looks like    | 0.007428   |\n",
    "| dont know     | 0.007099   |\n",
    "| new york      | 0.006233   |\n",
    "| people living | 0.005921   |\n",
    "| dont want     | 0.005228   |\n",
    "| id like       | 0.00519    |\n",
    "\n",
    "\n",
    "\n",
    "\n",
    "Max Features 200, n_gram 2,6:\n",
    "\n",
    "Logistic Regression (top 10 positive coefficients):\n",
    "\n",
    "| Feature          | Coefficient |\n",
    "|------------------|-------------|\n",
    "| want know        | 0.039334    |\n",
    "| people say       | 0.029366    |\n",
    "| people think     | 0.026868    |\n",
    "| feels like       | 0.026130    |\n",
    "| dont think       | 0.025444    |\n",
    "| black hole       | 0.023943    |\n",
    "| know people      | 0.022474    |\n",
    "| years later      | 0.020595    |\n",
    "| high school      | 0.020350    |\n",
    "| answer question  | 0.020276    |\n",
    "\n",
    "Logistic Regression (top 10 negative coefficients):\n",
    "| Feature         | Coefficient |\n",
    "|-----------------|-------------|\n",
    "| want talk       | -0.012010   |\n",
    "| public health   | -0.012439   |\n",
    "| billion people  | -0.012615   |\n",
    "| whats going     | -0.012632   |\n",
    "| million people  | -0.013118   |\n",
    "| — theyre        | -0.013279   |\n",
    "| looked like     | -0.013664   |\n",
    "| dont want       | -0.013932   |\n",
    "| going make      | -0.013938   |\n",
    "| years ago       | -0.014915   |\n",
    "\n",
    "\n",
    "Random Forest (top 10 feature importance):\n",
    "| Feature        | Importance |\n",
    "|----------------|------------|\n",
    "| years ago      | 0.017003   |\n",
    "| im going       | 0.015808   |\n",
    "| united states  | 0.013924   |\n",
    "| dont know      | 0.012760   |\n",
    "| looks like     | 0.012600   |\n",
    "| little bit     | 0.012325   |\n",
    "| id like        | 0.010884   |\n",
    "| new york       | 0.010279   |\n",
    "| 10 years       | 0.009843   |\n",
    "| just like      | 0.009789   |\n",
    "\n",
    "\n",
    "\n",
    "\n",
    "Max Features 200, n_gram 3,6:\n",
    "\n",
    "Logistic Regression (top 10 positive coefficients):\n",
    "| Feature               | Coefficient |\n",
    "|-----------------------|-------------|\n",
    "| just little bit       | 0.012587    |\n",
    "| say things like       | 0.009311    |\n",
    "| martin luther king    | 0.008210    |\n",
    "| blah blah blah        | 0.008072    |\n",
    "| don ’ t               | 0.005960    |\n",
    "| thats good thing      | 0.005930    |\n",
    "| hubble space telescope| 0.005765    |\n",
    "| dont know people      | 0.005476    |\n",
    "| know dont know        | 0.005271    |\n",
    "| music music ends      | 0.005257    |\n",
    "\n",
    "Logistic Regression (top 10 negative coefficients):\n",
    "| Feature                     | Coefficient |\n",
    "|-----------------------------|-------------|\n",
    "| 40 years ago                | -0.003641   |\n",
    "| international space station | -0.003710   |\n",
    "| doesnt look like            | -0.003868   |\n",
    "| little bit different        | -0.004017   |\n",
    "| 20 years ago                | -0.004078   |\n",
    "| know im going               | -0.004224   |\n",
    "| world trade center          | -0.004249   |\n",
    "| today im going              | -0.004470   |\n",
    "| world wide web              | -0.004638   |\n",
    "| im going make               | -0.004904   |\n",
    "\n",
    "\n",
    "Random Forest (top 10 feature importance):\n",
    "| Feature             | Importance |\n",
    "|---------------------|------------|\n",
    "| new york city       | 0.020171   |\n",
    "| new york times      | 0.014279   |\n",
    "| im going tell       | 0.013936   |\n",
    "| im going talk       | 0.013907   |\n",
    "| 10 years ago        | 0.011581   |\n",
    "| 20 years ago        | 0.010626   |\n",
    "| little bit like     | 0.010120   |\n",
    "| 15 years ago        | 0.009633   |\n",
    "| world war ii        | 0.009455   |\n",
    "| million years ago   | 0.008828   |\n",
    "\n",
    "\n",
    "Max Features 200, n_gram 4,6:\n",
    "\n",
    "Logistic Regression (top 10 positive coefficients):\n",
    "| Feature                    | Coefficient |\n",
    "|----------------------------|-------------|\n",
    "| let tell little bit        | 0.003087    |\n",
    "| martin luther king jr      | 0.002650    |\n",
    "| im going im going          | 0.001601    |\n",
    "| make world better place    | 0.001591    |\n",
    "| — dont know —              | 0.001372    |\n",
    "| im going tell story        | 0.001089    |\n",
    "| cut long story short       | 0.000941    |\n",
    "| going talk little bit      | 0.000657    |\n",
    "| im going talk little       | 0.000299    |\n",
    "| dont know dont know        | 0.000094    |\n",
    "\n",
    "Logistic Regression (top 10 negative coefficients) :\n",
    "| Feature                      | Coefficient |\n",
    "|------------------------------|-------------|\n",
    "| dont know dont know          | 0.000094    |\n",
    "| know whats going happen      | -0.000414   |\n",
    "| want talk little bit         | -0.001542   |\n",
    "| today im going talk          | -0.002334   |\n",
    "| id like talk today           | -0.003330   |\n",
    "| thank chris anderson thank   | -0.003408   |\n",
    "| im going talk today          | -0.003448   |\n",
    "| weve come long way           | -0.004327   |\n",
    "| small thing big idea         | -0.004327   |\n",
    "| thank thank thank thank      | -0.006758   |\n",
    "\n",
    "\n",
    "Random Forest (top 10 feature importance):\n",
    "| Feature                    | Importance |\n",
    "|----------------------------|------------|\n",
    "| weve come long way         | 0.108924   |\n",
    "| thank thank thank thank    | 0.105864   |\n",
    "| small thing big idea       | 0.092390   |\n",
    "| thank chris anderson thank | 0.084021   |\n",
    "| im going talk today        | 0.076134   |\n",
    "| id like talk today         | 0.063073   |\n",
    "| let tell little bit        | 0.056309   |\n",
    "| make world better place    | 0.049534   |\n",
    "| dont know dont know        | 0.047605   |\n",
    "| today im going talk        | 0.046653   |"
   ]
  },
  {
   "cell_type": "code",
   "execution_count": null,
   "id": "86d792a5",
   "metadata": {},
   "outputs": [],
   "source": [
    "# Creating a Transcript Only Dataframe\n",
    "only_transcript_df = merged_cleaved_df[['percent_likes', 'transcript']]\n",
    "only_transcript_df"
   ]
  },
  {
   "cell_type": "code",
   "execution_count": null,
   "id": "c57be4bb",
   "metadata": {},
   "outputs": [],
   "source": [
    "# creating a new column called 'good_speech' that is 1 if the speech is in the top 50% of percent_likes, and 0 if it is in the bottom 50% of percent_likes\n",
    "\n",
    "# Calculate the 50th percentile (median) of the 'percent_likes' column\n",
    "median_percent_likes = only_transcript_df['percent_likes'].mean()\n",
    "\n",
    "# Create the 'good_speech' column based on the condition\n",
    "only_transcript_df['good_speech'] = (only_transcript_df['percent_likes'] >= median_percent_likes).astype(int)\n",
    "\n",
    "# Now, merged_cleaved_df has a new column 'good_speech' with 1s and 0s based on the condition\n",
    "\n",
    "only_transcript_df.drop([\"percent_likes\"], axis=1, inplace=True) # Dropping the percent_likes column"
   ]
  },
  {
   "cell_type": "code",
   "execution_count": null,
   "id": "06fb63d1",
   "metadata": {},
   "outputs": [],
   "source": [
    "only_transcript_df"
   ]
  },
  {
   "cell_type": "markdown",
   "id": "44c5395d",
   "metadata": {},
   "source": [
    "### Max Features 500, n_gram 2,6:"
   ]
  },
  {
   "cell_type": "code",
   "execution_count": null,
   "id": "66f51094",
   "metadata": {},
   "outputs": [],
   "source": [
    "X=only_transcript_df.drop(\"good_speech\", axis=1)\n",
    "y=only_transcript_df[\"good_speech\"]\n",
    "\n",
    "# train/test split should be conducted before Vectorization\n",
    "X_train, X_test, y_train, y_test=train_test_split(X, y, test_size=0.2, random_state=42)\n"
   ]
  },
  {
   "cell_type": "code",
   "execution_count": null,
   "id": "65dc4f03",
   "metadata": {},
   "outputs": [],
   "source": [
    "## CountVectorizing the 'transcript' column\n",
    "# Custom stop words\n",
    "custom_stop_words = [\"laughter\", \"applause\", \"laughter applause\", \"--\", \"-\", \"♫ ♫\"]\n",
    "\n",
    "# Combine custom stop words with default English stop words\n",
    "stop_words = list(text.ENGLISH_STOP_WORDS.union(custom_stop_words))\n",
    "\n",
    "# As tokenizers must be functions, we will define a function for the tokenizer we will use\n",
    "def nltk_tokenizer(text):\n",
    "    # Remove punctuation using a list comprehension\n",
    "    text_no_punctuation = ''.join([char for char in text if char not in string.punctuation])\n",
    "    \n",
    "    # Tokenize the text without punctuation\n",
    "    return word_tokenize(text_no_punctuation)\n",
    "\n",
    "# instantiate CountVectorizer\n",
    "bagofwords_transcript = CountVectorizer(stop_words=stop_words, # remove stop words\n",
    "                                        tokenizer=nltk_tokenizer, # use the NLTK tokenizer\n",
    "                                        min_df=10, # minimum document frequency of 10\n",
    "                                        max_df=0.8, # maximum document frequency of 75% (i.e., ignore words that appear in more than 75% of the documents)\n",
    "                                        ngram_range=(2, 6), # allowing for bigrams, and trigrams\n",
    "                                        max_features=500) # maximum number of features to keep\n",
    "\n",
    "# Fit the CountVectorizer object on the positive (and, separately, negative) reviews\n",
    "bagofwords_transcript.fit(X_train[\"transcript\"])\n",
    "print(bagofwords_transcript.fit(X_train[\"transcript\"]))"
   ]
  },
  {
   "cell_type": "code",
   "execution_count": null,
   "id": "6f2ec51c",
   "metadata": {},
   "outputs": [],
   "source": [
    "sparse_matrix_train = bagofwords_transcript.transform(X_train[\"transcript\"])\n",
    "sparse_matrix_test = bagofwords_transcript.transform(X_test[\"transcript\"])"
   ]
  },
  {
   "cell_type": "markdown",
   "id": "0fc79097",
   "metadata": {},
   "source": [
    "## Logistic Regression Max Features 500, n_gram 2,6:"
   ]
  },
  {
   "cell_type": "code",
   "execution_count": null,
   "id": "6a225cd3",
   "metadata": {},
   "outputs": [],
   "source": [
    "# Instantiate the Logistic Regression model\n",
    "logreg = LogisticRegression(C = 0.001, max_iter=1000, n_jobs=-1) \n",
    "\n",
    "#Fit the model\n",
    "logreg.fit(sparse_matrix_train, y_train)\n",
    "\n",
    "# Training and test score\n",
    "print(f\"Train score: {logreg.score(sparse_matrix_train, y_train)}\")\n",
    "print(f\"Test score: {logreg.score(sparse_matrix_test, y_test)}\")"
   ]
  },
  {
   "cell_type": "markdown",
   "id": "afd7e046",
   "metadata": {},
   "source": [
    "What are the features with the highest coefficients (which features were most impactful in the model?)"
   ]
  },
  {
   "cell_type": "code",
   "execution_count": null,
   "id": "9307075c",
   "metadata": {},
   "outputs": [],
   "source": [
    "# Extracting coefficients\n",
    "coefficients = logreg.coef_[0]  # For logistic regression, `coef_` returns an array in shape (n_classes, n_features)\n",
    "\n",
    "# Getting feature names from the CountVectorizer\n",
    "feature_names = bagofwords_transcript.get_feature_names_out()\n",
    "\n",
    "# Create a pandas DataFrame for easier manipulation\n",
    "coefficients_df = pd.DataFrame({\n",
    "    'Feature': feature_names,\n",
    "    'Coefficient': coefficients\n",
    "})\n",
    "\n",
    "# Sort the DataFrame to show features with the highest absolute coefficient values at the top\n",
    "coefficients_df = coefficients_df.sort_values(by='Coefficient', ascending=False)\n",
    "\n",
    "# Display the top N most impactful features\n",
    "print(coefficients_df.head(20))\n",
    "print(coefficients_df.tail(20))\n"
   ]
  },
  {
   "cell_type": "markdown",
   "id": "0a843a92",
   "metadata": {},
   "source": [
    "## Random Forest Classifier Model on Max Features 500, n_gram 2,6:"
   ]
  },
  {
   "cell_type": "code",
   "execution_count": null,
   "id": "5dc17979",
   "metadata": {},
   "outputs": [],
   "source": [
    "# Instantiate the Random Forest model\n",
    "# n_estimators is the number of trees in the forest, max_depth is the maximum depth of the trees\n",
    "random_forest = RandomForestClassifier(n_estimators=100, max_depth=None, n_jobs=-1, random_state=42)\n",
    "\n",
    "# Fit the model on the training data\n",
    "# Note: Random Forest handles the feature importance internally, so scaling is not as critical as in logistic regression\n",
    "random_forest.fit(sparse_matrix_train, y_train)\n",
    "\n",
    "# Training and test score\n",
    "train_score_rf = random_forest.score(sparse_matrix_train, y_train)\n",
    "test_score_rf = random_forest.score(sparse_matrix_test, y_test)\n",
    "\n",
    "print(f\"Train score: {train_score_rf}\")\n",
    "print(f\"Test score: {test_score_rf}\")"
   ]
  },
  {
   "cell_type": "code",
   "execution_count": null,
   "id": "00118020",
   "metadata": {},
   "outputs": [],
   "source": [
    "# Extracting feature importance\n",
    "feature_importances = random_forest.feature_importances_\n",
    "\n",
    "# Getting feature names from the CountVectorizer\n",
    "feature_names = bagofwords_transcript.get_feature_names_out()\n",
    "\n",
    "# Create a pandas DataFrame for easier manipulation and visualization\n",
    "import pandas as pd\n",
    "\n",
    "features_df = pd.DataFrame({\n",
    "    'Feature': feature_names,\n",
    "    'Importance': feature_importances\n",
    "})\n",
    "\n",
    "# Sort the DataFrame to show the most important features at the top\n",
    "features_df = features_df.sort_values(by='Importance', ascending=False)\n",
    "\n",
    "# Display the top N most important features\n",
    "print(features_df.head(10))\n"
   ]
  },
  {
   "cell_type": "markdown",
   "id": "f76cf132",
   "metadata": {},
   "source": [
    "## Max Features = 200, n_gram = 2,6"
   ]
  },
  {
   "cell_type": "code",
   "execution_count": null,
   "id": "fd790c59",
   "metadata": {},
   "outputs": [],
   "source": [
    "X=only_transcript_df.drop(\"good_speech\", axis=1)\n",
    "y=only_transcript_df[\"good_speech\"]\n",
    "\n",
    "# train/test split should be conducted before Vectorization\n",
    "X_train, X_test, y_train, y_test=train_test_split(X, y, test_size=0.2, random_state=42)\n"
   ]
  },
  {
   "cell_type": "code",
   "execution_count": null,
   "id": "027dec39",
   "metadata": {},
   "outputs": [],
   "source": [
    "## CountVectorizing the 'transcript' column\n",
    "# Custom stop words\n",
    "custom_stop_words = [\"laughter\", \"applause\", \"laughter applause\", \"--\", \"-\", \"♫ ♫\"]\n",
    "\n",
    "# Combine custom stop words with default English stop words\n",
    "stop_words = list(text.ENGLISH_STOP_WORDS.union(custom_stop_words))\n",
    "\n",
    "# As tokenizers must be functions, we will define a function for the tokenizer we will use\n",
    "def nltk_tokenizer(text):\n",
    "    # Remove punctuation using a list comprehension\n",
    "    text_no_punctuation = ''.join([char for char in text if char not in string.punctuation])\n",
    "    \n",
    "    # Tokenize the text without punctuation\n",
    "    return word_tokenize(text_no_punctuation)\n",
    "\n",
    "# instantiate CountVectorizer\n",
    "bagofwords_transcript = CountVectorizer(stop_words=stop_words, # remove stop words\n",
    "                                        tokenizer=nltk_tokenizer, # use the NLTK tokenizer\n",
    "                                        min_df=10, # minimum document frequency of 10\n",
    "                                        max_df=0.8, # maximum document frequency of 75% (i.e., ignore words that appear in more than 75% of the documents)\n",
    "                                        ngram_range=(2, 6), # allowing for bigrams, and trigrams\n",
    "                                        max_features=200) # maximum number of features to keep\n",
    "\n",
    "# Fit the CountVectorizer object on the positive (and, separately, negative) reviews\n",
    "bagofwords_transcript.fit(X_train[\"transcript\"])\n",
    "print(bagofwords_transcript.fit(X_train[\"transcript\"]))"
   ]
  },
  {
   "cell_type": "code",
   "execution_count": null,
   "id": "866eef96",
   "metadata": {},
   "outputs": [],
   "source": [
    "sparse_matrix_train = bagofwords_transcript.transform(X_train[\"transcript\"])\n",
    "sparse_matrix_test = bagofwords_transcript.transform(X_test[\"transcript\"])"
   ]
  },
  {
   "cell_type": "markdown",
   "id": "a4a5ad6d",
   "metadata": {},
   "source": [
    "## Logistic Regression on Max Features 200, n_gram 2,6:"
   ]
  },
  {
   "cell_type": "code",
   "execution_count": null,
   "id": "dcdda1c4",
   "metadata": {},
   "outputs": [],
   "source": [
    "# Instantiate the Logistic Regression model\n",
    "logreg = LogisticRegression(C = 0.001, max_iter=1000, n_jobs=-1) \n",
    "\n",
    "#Fit the model\n",
    "logreg.fit(sparse_matrix_train, y_train)\n",
    "\n",
    "# Training and test score\n",
    "print(f\"Train score: {logreg.score(sparse_matrix_train, y_train)}\")\n",
    "print(f\"Test score: {logreg.score(sparse_matrix_test, y_test)}\")"
   ]
  },
  {
   "cell_type": "markdown",
   "id": "d81492f3",
   "metadata": {},
   "source": [
    "What are the features with the highest coefficients (which features were most impactful in the model?)"
   ]
  },
  {
   "cell_type": "code",
   "execution_count": null,
   "id": "f2fc89d4",
   "metadata": {},
   "outputs": [],
   "source": [
    "# Extracting coefficients\n",
    "coefficients = logreg.coef_[0]  # For logistic regression, `coef_` returns an array in shape (n_classes, n_features)\n",
    "\n",
    "# Getting feature names from the CountVectorizer\n",
    "feature_names = bagofwords_transcript.get_feature_names_out()\n",
    "\n",
    "# Create a pandas DataFrame for easier manipulation\n",
    "coefficients_df = pd.DataFrame({\n",
    "    'Feature': feature_names,\n",
    "    'Coefficient': coefficients\n",
    "})\n",
    "\n",
    "# Sort the DataFrame to show features with the highest absolute coefficient values at the top\n",
    "coefficients_df = coefficients_df.sort_values(by='Coefficient', ascending=False)\n",
    "\n",
    "# Display the top N most impactful features\n",
    "print(coefficients_df.head(20))\n",
    "print(coefficients_df.tail(20))\n"
   ]
  },
  {
   "cell_type": "markdown",
   "id": "8cf0109e",
   "metadata": {},
   "source": [
    "## Random Forest Classifier Model on Max Features 200, n_gram 2,6:"
   ]
  },
  {
   "cell_type": "code",
   "execution_count": null,
   "id": "a1052e96",
   "metadata": {},
   "outputs": [],
   "source": [
    "# Instantiate the Random Forest model\n",
    "# n_estimators is the number of trees in the forest, max_depth is the maximum depth of the trees\n",
    "random_forest = RandomForestClassifier(n_estimators=100, max_depth=None, n_jobs=-1, random_state=42)\n",
    "\n",
    "# Fit the model on the training data\n",
    "# Note: Random Forest handles the feature importance internally, so scaling is not as critical as in logistic regression\n",
    "random_forest.fit(sparse_matrix_train, y_train)\n",
    "\n",
    "# Training and test score\n",
    "train_score_rf = random_forest.score(sparse_matrix_train, y_train)\n",
    "test_score_rf = random_forest.score(sparse_matrix_test, y_test)\n",
    "\n",
    "print(f\"Train score: {train_score_rf}\")\n",
    "print(f\"Test score: {test_score_rf}\")"
   ]
  },
  {
   "cell_type": "code",
   "execution_count": null,
   "id": "ad3a6126",
   "metadata": {},
   "outputs": [],
   "source": [
    "# Extracting feature importance\n",
    "feature_importances = random_forest.feature_importances_\n",
    "\n",
    "# Getting feature names from the CountVectorizer\n",
    "feature_names = bagofwords_transcript.get_feature_names_out()\n",
    "\n",
    "# Create a pandas DataFrame for easier manipulation and visualization\n",
    "import pandas as pd\n",
    "\n",
    "features_df = pd.DataFrame({\n",
    "    'Feature': feature_names,\n",
    "    'Importance': feature_importances\n",
    "})\n",
    "\n",
    "# Sort the DataFrame to show the most important features at the top\n",
    "features_df = features_df.sort_values(by='Importance', ascending=False)\n",
    "\n",
    "# Display the top N most important features\n",
    "print(features_df.head(10))\n"
   ]
  },
  {
   "cell_type": "markdown",
   "id": "ac10e478",
   "metadata": {},
   "source": [
    "## Max Features = 200, n_gram = 3,6"
   ]
  },
  {
   "cell_type": "code",
   "execution_count": null,
   "id": "e4f41dff",
   "metadata": {},
   "outputs": [],
   "source": [
    "X=only_transcript_df.drop(\"good_speech\", axis=1)\n",
    "y=only_transcript_df[\"good_speech\"]\n",
    "\n",
    "# train/test split should be conducted before Vectorization\n",
    "X_train, X_test, y_train, y_test=train_test_split(X, y, test_size=0.2, random_state=42)\n"
   ]
  },
  {
   "cell_type": "code",
   "execution_count": null,
   "id": "3262136a",
   "metadata": {},
   "outputs": [],
   "source": [
    "## CountVectorizing the 'transcript' column\n",
    "# Custom stop words\n",
    "custom_stop_words = [\"laughter\", \"applause\", \"laughter applause\", \"--\", \"-\", \"♫ ♫\", \"♫\"]\n",
    "\n",
    "# Combine custom stop words with default English stop words\n",
    "stop_words = list(text.ENGLISH_STOP_WORDS.union(custom_stop_words))\n",
    "\n",
    "# As tokenizers must be functions, we will define a function for the tokenizer we will use\n",
    "def nltk_tokenizer(text):\n",
    "    # Remove punctuation using a list comprehension\n",
    "    text_no_punctuation = ''.join([char for char in text if char not in string.punctuation])\n",
    "    \n",
    "    # Tokenize the text without punctuation\n",
    "    return word_tokenize(text_no_punctuation)\n",
    "\n",
    "# instantiate CountVectorizer\n",
    "bagofwords_transcript = CountVectorizer(stop_words=stop_words, # remove stop words\n",
    "                                        tokenizer=nltk_tokenizer, # use the NLTK tokenizer\n",
    "                                        min_df=10, # minimum document frequency of 10\n",
    "                                        max_df=0.8, # maximum document frequency of 75% (i.e., ignore words that appear in more than 75% of the documents)\n",
    "                                        ngram_range=(3, 6), # allowing for bigrams, and trigrams\n",
    "                                        max_features=200) # maximum number of features to keep\n",
    "\n",
    "# Fit the CountVectorizer object on the positive (and, separately, negative) reviews\n",
    "bagofwords_transcript.fit(X_train[\"transcript\"])\n",
    "print(bagofwords_transcript.fit(X_train[\"transcript\"]))"
   ]
  },
  {
   "cell_type": "code",
   "execution_count": null,
   "id": "14d7cf95",
   "metadata": {},
   "outputs": [],
   "source": [
    "sparse_matrix_train = bagofwords_transcript.transform(X_train[\"transcript\"])\n",
    "sparse_matrix_test = bagofwords_transcript.transform(X_test[\"transcript\"])"
   ]
  },
  {
   "cell_type": "markdown",
   "id": "25e2f21e",
   "metadata": {},
   "source": [
    "## Logistic Regression on Max Features 200, n_gram 3,6:"
   ]
  },
  {
   "cell_type": "code",
   "execution_count": null,
   "id": "0917471b",
   "metadata": {},
   "outputs": [],
   "source": [
    "# Instantiate the Logistic Regression model\n",
    "logreg = LogisticRegression(C = 0.001, max_iter=1000, n_jobs=-1) \n",
    "\n",
    "#Fit the model\n",
    "logreg.fit(sparse_matrix_train, y_train)\n",
    "\n",
    "# Training and test score\n",
    "print(f\"Train score: {logreg.score(sparse_matrix_train, y_train)}\")\n",
    "print(f\"Test score: {logreg.score(sparse_matrix_test, y_test)}\")"
   ]
  },
  {
   "cell_type": "markdown",
   "id": "a055e40a",
   "metadata": {},
   "source": [
    "What are the features with the highest coefficients (which features were most impactful in the model?)"
   ]
  },
  {
   "cell_type": "code",
   "execution_count": null,
   "id": "c5c8f4fd",
   "metadata": {},
   "outputs": [],
   "source": [
    "# Extracting coefficients\n",
    "coefficients = logreg.coef_[0]  # For logistic regression, `coef_` returns an array in shape (n_classes, n_features)\n",
    "\n",
    "# Getting feature names from the CountVectorizer\n",
    "feature_names = bagofwords_transcript.get_feature_names_out()\n",
    "\n",
    "# Create a pandas DataFrame for easier manipulation\n",
    "coefficients_df = pd.DataFrame({\n",
    "    'Feature': feature_names,\n",
    "    'Coefficient': coefficients\n",
    "})\n",
    "\n",
    "# Sort the DataFrame to show features with the highest absolute coefficient values at the top\n",
    "coefficients_df = coefficients_df.sort_values(by='Coefficient', ascending=False)\n",
    "\n",
    "# Display the top N most impactful features\n",
    "print(coefficients_df.head(20))\n",
    "print(coefficients_df.tail(20))\n"
   ]
  },
  {
   "cell_type": "markdown",
   "id": "193a913c",
   "metadata": {},
   "source": [
    "## Random Forest Classifier Model on Max Features 200, n_gram 3,6:"
   ]
  },
  {
   "cell_type": "code",
   "execution_count": null,
   "id": "d25e458b",
   "metadata": {},
   "outputs": [],
   "source": [
    "# Instantiate the Random Forest model\n",
    "# n_estimators is the number of trees in the forest, max_depth is the maximum depth of the trees\n",
    "random_forest = RandomForestClassifier(n_estimators=100, max_depth=None, n_jobs=-1, random_state=42)\n",
    "\n",
    "# Fit the model on the training data\n",
    "# Note: Random Forest handles the feature importance internally, so scaling is not as critical as in logistic regression\n",
    "random_forest.fit(sparse_matrix_train, y_train)\n",
    "\n",
    "# Training and test score\n",
    "train_score_rf = random_forest.score(sparse_matrix_train, y_train)\n",
    "test_score_rf = random_forest.score(sparse_matrix_test, y_test)\n",
    "\n",
    "print(f\"Train score: {train_score_rf}\")\n",
    "print(f\"Test score: {test_score_rf}\")"
   ]
  },
  {
   "cell_type": "code",
   "execution_count": null,
   "id": "a7b1e5f2",
   "metadata": {},
   "outputs": [],
   "source": [
    "# Extracting feature importance\n",
    "feature_importances = random_forest.feature_importances_\n",
    "\n",
    "# Getting feature names from the CountVectorizer\n",
    "feature_names = bagofwords_transcript.get_feature_names_out()\n",
    "\n",
    "# Create a pandas DataFrame for easier manipulation and visualization\n",
    "import pandas as pd\n",
    "\n",
    "features_df = pd.DataFrame({\n",
    "    'Feature': feature_names,\n",
    "    'Importance': feature_importances\n",
    "})\n",
    "\n",
    "# Sort the DataFrame to show the most important features at the top\n",
    "features_df = features_df.sort_values(by='Importance', ascending=False)\n",
    "\n",
    "# Display the top N most important features\n",
    "print(features_df.head(10))\n"
   ]
  },
  {
   "cell_type": "markdown",
   "id": "d4c4254c",
   "metadata": {},
   "source": [
    "## Max Features = 200, n_gram = 4,6"
   ]
  },
  {
   "cell_type": "code",
   "execution_count": null,
   "id": "00e9012d",
   "metadata": {},
   "outputs": [],
   "source": [
    "X=only_transcript_df.drop(\"good_speech\", axis=1)\n",
    "y=only_transcript_df[\"good_speech\"]\n",
    "\n",
    "# train/test split should be conducted before Vectorization\n",
    "X_train, X_test, y_train, y_test=train_test_split(X, y, test_size=0.2, random_state=42)\n"
   ]
  },
  {
   "cell_type": "code",
   "execution_count": null,
   "id": "58181841",
   "metadata": {},
   "outputs": [],
   "source": [
    "## CountVectorizing the 'transcript' column\n",
    "# Custom stop words\n",
    "custom_stop_words = [\"laughter\", \"applause\", \"laughter applause\", \"--\", \"-\", \"♫ ♫\", \"♫\"]\n",
    "\n",
    "# Combine custom stop words with default English stop words\n",
    "stop_words = list(text.ENGLISH_STOP_WORDS.union(custom_stop_words))\n",
    "\n",
    "# As tokenizers must be functions, we will define a function for the tokenizer we will use\n",
    "def nltk_tokenizer(text):\n",
    "    # Remove punctuation using a list comprehension\n",
    "    text_no_punctuation = ''.join([char for char in text if char not in string.punctuation])\n",
    "    \n",
    "    # Tokenize the text without punctuation\n",
    "    return word_tokenize(text_no_punctuation)\n",
    "\n",
    "# instantiate CountVectorizer\n",
    "bagofwords_transcript = CountVectorizer(stop_words=stop_words, # remove stop words\n",
    "                                        tokenizer=nltk_tokenizer, # use the NLTK tokenizer\n",
    "                                        min_df=10, # minimum document frequency of 10\n",
    "                                        max_df=0.8, # maximum document frequency of 75% (i.e., ignore words that appear in more than 75% of the documents)\n",
    "                                        ngram_range=(4, 6), # allowing for bigrams, and trigrams\n",
    "                                        max_features=200) # maximum number of features to keep\n",
    "\n",
    "# Fit the CountVectorizer object on the positive (and, separately, negative) reviews\n",
    "bagofwords_transcript.fit(X_train[\"transcript\"])\n",
    "print(bagofwords_transcript.fit(X_train[\"transcript\"]))"
   ]
  },
  {
   "cell_type": "code",
   "execution_count": null,
   "id": "c3ff7561",
   "metadata": {},
   "outputs": [],
   "source": [
    "sparse_matrix_train = bagofwords_transcript.transform(X_train[\"transcript\"])\n",
    "sparse_matrix_test = bagofwords_transcript.transform(X_test[\"transcript\"])"
   ]
  },
  {
   "cell_type": "markdown",
   "id": "af667232",
   "metadata": {},
   "source": [
    "## Logistic Regression on Max Features = 200, n_gram = 4,6"
   ]
  },
  {
   "cell_type": "code",
   "execution_count": null,
   "id": "1265d8b1",
   "metadata": {},
   "outputs": [],
   "source": [
    "# Instantiate the Logistic Regression model\n",
    "logreg = LogisticRegression(C = 0.001, max_iter=1000, n_jobs=-1) \n",
    "\n",
    "#Fit the model\n",
    "logreg.fit(sparse_matrix_train, y_train)\n",
    "\n",
    "# Training and test score\n",
    "print(f\"Train score: {logreg.score(sparse_matrix_train, y_train)}\")\n",
    "print(f\"Test score: {logreg.score(sparse_matrix_test, y_test)}\")"
   ]
  },
  {
   "cell_type": "markdown",
   "id": "ccaecca5",
   "metadata": {},
   "source": [
    "What are the features with the highest coefficients (which features were most impactful in the model?)"
   ]
  },
  {
   "cell_type": "code",
   "execution_count": null,
   "id": "51314c09",
   "metadata": {},
   "outputs": [],
   "source": [
    "# Extracting coefficients\n",
    "coefficients = logreg.coef_[0]  # For logistic regression, `coef_` returns an array in shape (n_classes, n_features)\n",
    "\n",
    "# Getting feature names from the CountVectorizer\n",
    "feature_names = bagofwords_transcript.get_feature_names_out()\n",
    "\n",
    "# Create a pandas DataFrame for easier manipulation\n",
    "coefficients_df = pd.DataFrame({\n",
    "    'Feature': feature_names,\n",
    "    'Coefficient': coefficients\n",
    "})\n",
    "\n",
    "# Sort the DataFrame to show features with the highest absolute coefficient values at the top\n",
    "coefficients_df = coefficients_df.sort_values(by='Coefficient', ascending=False)\n",
    "\n",
    "# Display the top N most impactful features\n",
    "print(coefficients_df.head(20))\n",
    "print(coefficients_df.tail(20))\n"
   ]
  },
  {
   "cell_type": "markdown",
   "id": "a4eb3d5e",
   "metadata": {},
   "source": [
    "## Random Forest Classifier Model on Max Features = 200, n_gram = 4,6"
   ]
  },
  {
   "cell_type": "code",
   "execution_count": null,
   "id": "b02abc6c",
   "metadata": {},
   "outputs": [],
   "source": [
    "# Instantiate the Random Forest model\n",
    "# n_estimators is the number of trees in the forest, max_depth is the maximum depth of the trees\n",
    "random_forest = RandomForestClassifier(n_estimators=100, max_depth=None, n_jobs=-1, random_state=42)\n",
    "\n",
    "# Fit the model on the training data\n",
    "# Note: Random Forest handles the feature importance internally, so scaling is not as critical as in logistic regression\n",
    "random_forest.fit(sparse_matrix_train, y_train)\n",
    "\n",
    "# Training and test score\n",
    "train_score_rf = random_forest.score(sparse_matrix_train, y_train)\n",
    "test_score_rf = random_forest.score(sparse_matrix_test, y_test)\n",
    "\n",
    "print(f\"Train score: {train_score_rf}\")\n",
    "print(f\"Test score: {test_score_rf}\")"
   ]
  },
  {
   "cell_type": "code",
   "execution_count": null,
   "id": "110249bb",
   "metadata": {},
   "outputs": [],
   "source": [
    "# Extracting feature importance\n",
    "feature_importances = random_forest.feature_importances_\n",
    "\n",
    "# Getting feature names from the CountVectorizer\n",
    "feature_names = bagofwords_transcript.get_feature_names_out()\n",
    "\n",
    "# Create a pandas DataFrame for easier manipulation and visualization\n",
    "import pandas as pd\n",
    "\n",
    "features_df = pd.DataFrame({\n",
    "    'Feature': feature_names,\n",
    "    'Importance': feature_importances\n",
    "})\n",
    "\n",
    "# Sort the DataFrame to show the most important features at the top\n",
    "features_df = features_df.sort_values(by='Importance', ascending=False)\n",
    "\n",
    "# Display the top N most important features\n",
    "print(features_df.head(10))\n"
   ]
  },
  {
   "cell_type": "markdown",
   "id": "7533e912",
   "metadata": {},
   "source": [
    "### Model Iteration: 3. include countvectorization and topics dummies (do not include occupation dummies)\n",
    "\n",
    "Result:\n",
    "Logistic Regression:\n",
    "- Train score: 0.6437687687687688\n",
    "- Test score: 0.6096096096096096\n",
    "\n",
    "Random Forest:\n",
    "- Train score: 0.996996996996997    \n",
    "- Test score: 0.5900900900900901\n",
    "    \n",
    "\n",
    "Logistic Regression (top 10 positive coefficients):\n",
    "| Feature       | Coefficient |\n",
    "|---------------|-------------|\n",
    "| want know     | 0.039126    |\n",
    "| people say    | 0.029091    |\n",
    "| people think  | 0.026444    |\n",
    "| feels like    | 0.026033    |\n",
    "| dont think    | 0.025069    |\n",
    "| black hole    | 0.024175    |\n",
    "| know people   | 0.022336    |\n",
    "| years later   | 0.020470    |\n",
    "| high school   | 0.020177    |\n",
    "| answer question| 0.020100    |\n",
    "\n",
    "Logistic Regression (top 10 negative coefficients):\n",
    "\n",
    "| Feature          | Coefficient |\n",
    "|------------------|-------------|\n",
    "| 90 percent       | -0.017563   |\n",
    "| 30 years         | -0.018234   |\n",
    "| middle east      | -0.018441   |\n",
    "| ♫ ♫              | -0.019905   |\n",
    "| im going         | -0.023090   |\n",
    "| just want        | -0.023170   |\n",
    "| ladies gentlemen | -0.025534   |\n",
    "| looks like       | -0.025968   |\n",
    "| people living    | -0.029898   |\n",
    "| weve got         | -0.031898   |\n",
    "\n",
    "\n",
    "Random Forest:\n",
    "| Feature       | Importance |\n",
    "|---------------|------------|\n",
    "| years ago     | 0.012858   |\n",
    "| united states | 0.010669   |\n",
    "| im going      | 0.010316   |\n",
    "| little bit    | 0.010272   |\n",
    "| dont know     | 0.010134   |\n",
    "| looks like    | 0.009707   |\n",
    "| id like       | 0.008441   |\n",
    "| years old     | 0.007860   |\n",
    "| things like   | 0.007416   |\n",
    "| new york      | 0.007234   |"
   ]
  },
  {
   "cell_type": "markdown",
   "id": "a95a0041",
   "metadata": {},
   "source": [
    "## Merging into a single dataframe\n",
    "\n",
    "We will merge the dataframes before our countvectorization process.\n",
    "\n",
    "Let's first drop all non-numerical columns (other than the columns we will be doing our CountVectorizing on)."
   ]
  },
  {
   "cell_type": "code",
   "execution_count": null,
   "id": "15c570e6",
   "metadata": {},
   "outputs": [],
   "source": [
    "pd.options.display.max_rows = 40"
   ]
  },
  {
   "cell_type": "code",
   "execution_count": null,
   "id": "12d40067",
   "metadata": {},
   "outputs": [],
   "source": [
    "# Dropping the non numerical columns\n",
    "ready_to_merge_numerical_df = merged_cleaved_df.select_dtypes(include=['int64', 'float64'])\n",
    "ready_to_merge_numerical_df.drop([\"talk_id\"], axis=1, inplace=True) # Dropping the talk_id column\n",
    "ready_to_merge_numerical_df.drop([\"likes\"], axis=1, inplace=True) # Dropping the likes column\n",
    "ready_to_merge_numerical_df.drop([\"view\"], axis=1, inplace=True) # Dropping the view column\n",
    "ready_to_merge_numerical_df[\"transcript\"] = merged_cleaved_df[\"transcript\"] # Adding the transcript column back in\n",
    "ready_to_merge_numerical_df.info()\n",
    "print(ready_to_merge_numerical_df.shape)"
   ]
  },
  {
   "cell_type": "markdown",
   "id": "6ef51c41",
   "metadata": {},
   "source": [
    "We now have a dataframe to which we can merge the topics and occupations dummy variables."
   ]
  },
  {
   "cell_type": "code",
   "execution_count": null,
   "id": "7202a44e",
   "metadata": {},
   "outputs": [],
   "source": [
    "# Lets check the shape of the topics_df and ready_to_merge_numerical_df\n",
    "print(topics_df.shape)\n",
    "print(ready_to_merge_numerical_df.shape)"
   ]
  },
  {
   "cell_type": "code",
   "execution_count": null,
   "id": "45ad317e",
   "metadata": {},
   "outputs": [],
   "source": [
    "# As all three dataframes have the same shape, we'll reset their indexes and merge them together\n",
    "# Reset the index of each DataFrame to ensure alignment\n",
    "topics_df_reset = topics_df.reset_index(drop=True)\n",
    "ready_to_merge_numerical_df_reset = ready_to_merge_numerical_df.reset_index(drop=True)"
   ]
  },
  {
   "cell_type": "code",
   "execution_count": null,
   "id": "6f9cb515",
   "metadata": {},
   "outputs": [],
   "source": [
    "dummy_merged_df = pd.concat([topics_df_reset, ready_to_merge_numerical_df_reset], axis=1)\n",
    "dummy_merged_df.shape"
   ]
  },
  {
   "cell_type": "code",
   "execution_count": null,
   "id": "0678b409",
   "metadata": {},
   "outputs": [],
   "source": [
    "# creating a new column called 'good_speech' that is 1 if the speech is in the top 50% of percent_likes, and 0 if it is in the bottom 50% of percent_likes\n",
    "\n",
    "# Calculate the 50th percentile (median) of the 'percent_likes' column\n",
    "median_percent_likes = dummy_merged_df['percent_likes'].mean()\n",
    "\n",
    "# Create the 'good_speech' column based on the condition\n",
    "dummy_merged_df['good_speech'] = (dummy_merged_df['percent_likes'] >= median_percent_likes).astype(int)\n",
    "\n",
    "# Now, merged_cleaved_df has a new column 'good_speech' with 1s and 0s based on the condition\n",
    "\n",
    "dummy_merged_df.drop([\"percent_likes\"], axis=1, inplace=True) # Dropping the percent_likes column"
   ]
  },
  {
   "cell_type": "code",
   "execution_count": null,
   "id": "7666db7b",
   "metadata": {},
   "outputs": [],
   "source": [
    "# Scaling the data\n",
    "\n",
    "# Initialize the Min-Max Scaler\n",
    "scaler = MinMaxScaler()\n",
    "\n",
    "# List of columns to scale\n",
    "columns_to_scale = ['comments', 'duration', 'num_question_marks',\n",
    "       'questions_per_minute', 'num_laughs', 'laughs_per_minute']\n",
    "\n",
    "# Scale the selected columns and replace in the dataframe\n",
    "dummy_merged_df[columns_to_scale] = scaler.fit_transform(dummy_merged_df[columns_to_scale])"
   ]
  },
  {
   "cell_type": "code",
   "execution_count": null,
   "id": "5fef16e9",
   "metadata": {},
   "outputs": [],
   "source": [
    "X=dummy_merged_df.drop(\"good_speech\", axis=1)\n",
    "y=dummy_merged_df[\"good_speech\"]\n",
    "\n",
    "# train/test split should be conducted before Vectorization\n",
    "X_train, X_test, y_train, y_test=train_test_split(X, y, test_size=0.2, random_state=42)\n"
   ]
  },
  {
   "cell_type": "code",
   "execution_count": null,
   "id": "c55d19d2",
   "metadata": {},
   "outputs": [],
   "source": [
    "## CountVectorizing the 'transcript' column\n",
    "# Custom stop words\n",
    "custom_stop_words = [\"laughter\", \"applause\", \"laughter applause\", \"--\", \"-\", \"♫ ♫\"]\n",
    "\n",
    "# Combine custom stop words with default English stop words\n",
    "stop_words = list(text.ENGLISH_STOP_WORDS.union(custom_stop_words))\n",
    "\n",
    "# As tokenizers must be functions, we will define a function for the tokenizer we will use\n",
    "def nltk_tokenizer(text):\n",
    "    # Remove punctuation using a list comprehension\n",
    "    text_no_punctuation = ''.join([char for char in text if char not in string.punctuation])\n",
    "    \n",
    "    # Tokenize the text without punctuation\n",
    "    return word_tokenize(text_no_punctuation)\n",
    "\n",
    "# instantiate CountVectorizer\n",
    "bagofwords_transcript = CountVectorizer(stop_words=stop_words, # remove stop words\n",
    "                                        tokenizer=nltk_tokenizer, # use the NLTK tokenizer\n",
    "                                        min_df=10, # minimum document frequency of 10\n",
    "                                        max_df=0.8, # maximum document frequency of 75% (i.e., ignore words that appear in more than 75% of the documents)\n",
    "                                        ngram_range=(2, 6), # allowing for bigrams, and trigrams\n",
    "                                        max_features=300) # maximum number of features to keep\n",
    "\n",
    "# Fit the CountVectorizer object on the positive (and, separately, negative) reviews\n",
    "bagofwords_transcript.fit(X_train[\"transcript\"])\n",
    "print(bagofwords_transcript.fit(X_train[\"transcript\"]))"
   ]
  },
  {
   "cell_type": "code",
   "execution_count": null,
   "id": "e43824f1",
   "metadata": {},
   "outputs": [],
   "source": [
    "sparse_matrix_train = bagofwords_transcript.transform(X_train[\"transcript\"])\n",
    "sparse_matrix_test = bagofwords_transcript.transform(X_test[\"transcript\"])"
   ]
  },
  {
   "cell_type": "markdown",
   "id": "2b29da4d",
   "metadata": {},
   "source": [
    "## Logistic Regression on Transcripts, Numerical Columns, and Topics"
   ]
  },
  {
   "cell_type": "markdown",
   "id": "0cf558e3",
   "metadata": {},
   "source": [
    "We will use this as our baseline model."
   ]
  },
  {
   "cell_type": "code",
   "execution_count": null,
   "id": "acf9d94d",
   "metadata": {},
   "outputs": [],
   "source": [
    "# Instantiate the Logistic Regression model\n",
    "logreg = LogisticRegression(C = 0.001, max_iter=1000, n_jobs=-1) \n",
    "\n",
    "#Fit the model\n",
    "logreg.fit(sparse_matrix_train, y_train)\n",
    "\n",
    "# Training and test score\n",
    "print(f\"Train score: {logreg.score(sparse_matrix_train, y_train)}\")\n",
    "print(f\"Test score: {logreg.score(sparse_matrix_test, y_test)}\")"
   ]
  },
  {
   "cell_type": "markdown",
   "id": "a84bd895",
   "metadata": {},
   "source": [
    "What are the features with the highest coefficients (which features were most impactful in the model?)"
   ]
  },
  {
   "cell_type": "code",
   "execution_count": null,
   "id": "aa55cd8e",
   "metadata": {},
   "outputs": [],
   "source": [
    "# Extracting coefficients\n",
    "coefficients = logreg.coef_[0]  # For logistic regression, `coef_` returns an array in shape (n_classes, n_features)\n",
    "\n",
    "# Getting feature names from the CountVectorizer\n",
    "feature_names = bagofwords_transcript.get_feature_names_out()\n",
    "\n",
    "# Create a pandas DataFrame for easier manipulation\n",
    "coefficients_df = pd.DataFrame({\n",
    "    'Feature': feature_names,\n",
    "    'Coefficient': coefficients\n",
    "})\n",
    "\n",
    "# Sort the DataFrame to show features with the highest absolute coefficient values at the top\n",
    "coefficients_df = coefficients_df.sort_values(by='Coefficient', ascending=False)\n",
    "\n",
    "# Display the top N most impactful features\n",
    "print(coefficients_df.head(10))\n",
    "print(coefficients_df.tail(10))\n"
   ]
  },
  {
   "cell_type": "markdown",
   "id": "5af6ad51",
   "metadata": {},
   "source": [
    "## Random Forest Classifier Model"
   ]
  },
  {
   "cell_type": "code",
   "execution_count": null,
   "id": "98291bfb",
   "metadata": {},
   "outputs": [],
   "source": [
    "# Instantiate the Random Forest model\n",
    "# n_estimators is the number of trees in the forest, max_depth is the maximum depth of the trees\n",
    "random_forest = RandomForestClassifier(n_estimators=100, max_depth=None, n_jobs=-1, random_state=42)\n",
    "\n",
    "# Fit the model on the training data\n",
    "# Note: Random Forest handles the feature importance internally, so scaling is not as critical as in logistic regression\n",
    "random_forest.fit(sparse_matrix_train, y_train)\n",
    "\n",
    "# Training and test score\n",
    "train_score_rf = random_forest.score(sparse_matrix_train, y_train)\n",
    "test_score_rf = random_forest.score(sparse_matrix_test, y_test)\n",
    "\n",
    "print(f\"Train score: {train_score_rf}\")\n",
    "print(f\"Test score: {test_score_rf}\")"
   ]
  },
  {
   "cell_type": "code",
   "execution_count": null,
   "id": "8e73e05e",
   "metadata": {},
   "outputs": [],
   "source": [
    "# Extracting feature importance\n",
    "feature_importances = random_forest.feature_importances_\n",
    "\n",
    "# Getting feature names from the CountVectorizer\n",
    "feature_names = bagofwords_transcript.get_feature_names_out()\n",
    "\n",
    "# Create a pandas DataFrame for easier manipulation and visualization\n",
    "import pandas as pd\n",
    "\n",
    "features_df = pd.DataFrame({\n",
    "    'Feature': feature_names,\n",
    "    'Importance': feature_importances\n",
    "})\n",
    "\n",
    "# Sort the DataFrame to show the most important features at the top\n",
    "features_df = features_df.sort_values(by='Importance', ascending=False)\n",
    "\n",
    "# Display the top N most important features\n",
    "print(features_df.head(10))\n"
   ]
  },
  {
   "cell_type": "markdown",
   "id": "ac866008",
   "metadata": {},
   "source": [
    "### Model Iteration: 4. only analyzing original numerical features and topics dummies (do not include occupation dummies, and do not countvectorize)\n",
    "\n",
    "Result:\n",
    "Logistic Regression:\n",
    "- Train score: 0.6415165165165165\n",
    "- Test score: 0.6036036036036037\n",
    "\n",
    "Random Forest:\n",
    "- Train score: 0.996996996996997\n",
    "- Test score: 0.5900900900900901\n",
    "\n",
    "\n",
    "Logistic Regression (top 10 positive coefficients):\n",
    "| Feature          | Coefficient |\n",
    "|------------------|-------------|\n",
    "| society          | 0.036462    |\n",
    "| ted_mainstage    | 0.036185    |\n",
    "| personal growth  | 0.024413    |\n",
    "| social change    | 0.021618    |\n",
    "| work             | 0.021587    |\n",
    "| business         | 0.018524    |\n",
    "| leadership       | 0.017687    |\n",
    "| psychology       | 0.017051    |\n",
    "| humanity         | 0.016938    |\n",
    "| education        | 0.016009    |\n",
    "\n",
    "Logistic Regression (top 10 negative coefficients):\n",
    "| Feature        | Coefficient |\n",
    "|----------------|-------------|\n",
    "| india          | -0.011716   |\n",
    "| entertainment  | -0.011894   |\n",
    "| live music     | -0.012179   |\n",
    "| war            | -0.014048   |\n",
    "| TEDx           | -0.015971   |\n",
    "| technology     | -0.016110   |\n",
    "| art            | -0.018632   |\n",
    "| science        | -0.019537   |\n",
    "| design         | -0.027669   |\n",
    "| global issues  | -0.045344   |\n",
    "\n",
    "\n",
    "\n",
    "Random Forest (top 10 feature importance):\n",
    "| Feature       | Importance |\n",
    "|---------------|------------|\n",
    "| years ago     | 0.012858   |\n",
    "| united states | 0.010669   |\n",
    "| im going      | 0.010316   |\n",
    "| little bit    | 0.010272   |\n",
    "| dont know     | 0.010134   |\n",
    "| looks like    | 0.009707   |\n",
    "| id like       | 0.008441   |\n",
    "| years old     | 0.007860   |\n",
    "| things like   | 0.007416   |\n",
    "| new york      | 0.007234   |\n",
    "\n",
    "Random Forest (bottom 10 feature importance):\n",
    "| Feature      | Importance |\n",
    "|--------------|------------|\n",
    "| ill just     | 0.001656   |\n",
    "| didnt really | 0.001655   |\n",
    "| going work   | 0.001508   |\n",
    "| ’ t          | 0.001504   |\n",
    "| lot things   | 0.001476   |\n",
    "| think youre  | 0.001470   |\n",
    "| know theyre  | 0.001445   |\n",
    "| think going  | 0.001405   |\n",
    "| people make  | 0.001290   |\n",
    "| black hole   | 0.000873   |"
   ]
  },
  {
   "cell_type": "markdown",
   "id": "39c35086",
   "metadata": {},
   "source": [
    "## Merging into a single dataframe\n",
    "\n",
    "We will merge the dataframes before our countvectorization process.\n",
    "\n",
    "Let's first drop all non-numerical columns (other than the columns we will be doing our CountVectorizing on)."
   ]
  },
  {
   "cell_type": "code",
   "execution_count": null,
   "id": "b3b2df28",
   "metadata": {},
   "outputs": [],
   "source": [
    "pd.options.display.max_rows = 40"
   ]
  },
  {
   "cell_type": "code",
   "execution_count": null,
   "id": "40793695",
   "metadata": {},
   "outputs": [],
   "source": [
    "# Dropping the non numerical columns\n",
    "ready_to_merge_numerical_df = merged_cleaved_df.select_dtypes(include=['int64', 'float64'])\n",
    "ready_to_merge_numerical_df.drop([\"talk_id\"], axis=1, inplace=True) # Dropping the talk_id column\n",
    "ready_to_merge_numerical_df.drop([\"likes\"], axis=1, inplace=True) # Dropping the likes column\n",
    "ready_to_merge_numerical_df.drop([\"view\"], axis=1, inplace=True) # Dropping the view column\n",
    "ready_to_merge_numerical_df.info()\n",
    "print(ready_to_merge_numerical_df.shape)"
   ]
  },
  {
   "cell_type": "markdown",
   "id": "63b0a686",
   "metadata": {},
   "source": [
    "We now have a dataframe to which we can merge the topics and occupations dummy variables."
   ]
  },
  {
   "cell_type": "code",
   "execution_count": null,
   "id": "f1e46679",
   "metadata": {},
   "outputs": [],
   "source": [
    "# Lets check the shape of the topics_df and ready_to_merge_numerical_df\n",
    "print(topics_df.shape)\n",
    "print(ready_to_merge_numerical_df.shape)"
   ]
  },
  {
   "cell_type": "code",
   "execution_count": null,
   "id": "baf86a77",
   "metadata": {},
   "outputs": [],
   "source": [
    "# As all three dataframes have the same shape, we'll reset their indexes and merge them together\n",
    "# Reset the index of each DataFrame to ensure alignment\n",
    "topics_df_reset = topics_df.reset_index(drop=True)\n",
    "ready_to_merge_numerical_df_reset = ready_to_merge_numerical_df.reset_index(drop=True)"
   ]
  },
  {
   "cell_type": "code",
   "execution_count": null,
   "id": "9105981e",
   "metadata": {},
   "outputs": [],
   "source": [
    "dummy_merged_df = pd.concat([topics_df_reset, ready_to_merge_numerical_df_reset], axis=1)\n",
    "dummy_merged_df.shape"
   ]
  },
  {
   "cell_type": "code",
   "execution_count": null,
   "id": "a3791fd7",
   "metadata": {},
   "outputs": [],
   "source": [
    "# creating a new column called 'good_speech' that is 1 if the speech is in the top 50% of percent_likes, and 0 if it is in the bottom 50% of percent_likes\n",
    "\n",
    "# Calculate the 50th percentile (median) of the 'percent_likes' column\n",
    "median_percent_likes = dummy_merged_df['percent_likes'].mean()\n",
    "\n",
    "# Create the 'good_speech' column based on the condition\n",
    "dummy_merged_df['good_speech'] = (dummy_merged_df['percent_likes'] >= median_percent_likes).astype(int)\n",
    "\n",
    "# Now, merged_cleaved_df has a new column 'good_speech' with 1s and 0s based on the condition\n",
    "\n",
    "dummy_merged_df.drop([\"percent_likes\"], axis=1, inplace=True) # Dropping the percent_likes column"
   ]
  },
  {
   "cell_type": "code",
   "execution_count": null,
   "id": "46e3e13c",
   "metadata": {},
   "outputs": [],
   "source": [
    "# Scaling the data\n",
    "\n",
    "# Initialize the Min-Max Scaler\n",
    "scaler = MinMaxScaler()\n",
    "\n",
    "# List of columns to scale\n",
    "columns_to_scale = ['comments', 'duration', 'num_question_marks',\n",
    "       'questions_per_minute', 'num_laughs', 'laughs_per_minute']\n",
    "\n",
    "# Scale the selected columns and replace in the dataframe\n",
    "dummy_merged_df[columns_to_scale] = scaler.fit_transform(dummy_merged_df[columns_to_scale])"
   ]
  },
  {
   "cell_type": "code",
   "execution_count": null,
   "id": "ebdf57a0",
   "metadata": {},
   "outputs": [],
   "source": [
    "X=dummy_merged_df.drop(\"good_speech\", axis=1)\n",
    "y=dummy_merged_df[\"good_speech\"]\n",
    "\n",
    "# train/test split should be conducted before Vectorization\n",
    "X_train, X_test, y_train, y_test=train_test_split(X, y, test_size=0.2, random_state=42)\n"
   ]
  },
  {
   "cell_type": "markdown",
   "id": "1a031dd4",
   "metadata": {},
   "source": [
    "## Logistic Regression on Numerical Columns, and Topics"
   ]
  },
  {
   "cell_type": "markdown",
   "id": "ef011e37",
   "metadata": {},
   "source": [
    "We will use this as our baseline model."
   ]
  },
  {
   "cell_type": "code",
   "execution_count": null,
   "id": "fa5367b0",
   "metadata": {},
   "outputs": [],
   "source": [
    "# Instantiate the Logistic Regression model\n",
    "logreg = LogisticRegression(C = 0.001, max_iter=1000, n_jobs=-1) \n",
    "\n",
    "#Fit the model\n",
    "logreg.fit(X_train, y_train)\n",
    "\n",
    "# Training and test score\n",
    "print(f\"Train score: {logreg.score(X_train, y_train)}\")\n",
    "print(f\"Test score: {logreg.score(X_test, y_test)}\")"
   ]
  },
  {
   "cell_type": "markdown",
   "id": "7c5f49c3",
   "metadata": {},
   "source": [
    "What are the features with the highest coefficients (which features were most impactful in the model?)"
   ]
  },
  {
   "cell_type": "code",
   "execution_count": null,
   "id": "1a0dacda",
   "metadata": {},
   "outputs": [],
   "source": [
    "feature_names = X_train.columns\n",
    "\n",
    "# Extracting coefficients\n",
    "coefficients = logreg.coef_[0]\n",
    "\n",
    "# Check if the length of feature names matches the length of coefficients\n",
    "if len(feature_names) == len(coefficients):\n",
    "    # Create a pandas DataFrame for easier manipulation\n",
    "    coefficients_df = pd.DataFrame({\n",
    "        'Feature': feature_names,\n",
    "        'Coefficient': coefficients\n",
    "    })\n",
    "\n",
    "    # Sort the DataFrame to show features with the highest coefficient values at the top\n",
    "    coefficients_df = coefficients_df.sort_values(by='Coefficient', ascending=False)\n",
    "\n",
    "    # Display the top N most impactful features\n",
    "    print(coefficients_df.head(10))  # Adjust the number of features you want to display\n",
    "    print(coefficients_df.tail(10))\n",
    "else:\n",
    "    print(\"Mismatch in the length of feature names and coefficients\")"
   ]
  },
  {
   "cell_type": "markdown",
   "id": "d1d4a39b",
   "metadata": {},
   "source": [
    "## Random Forest Classifier on Numerical Columns, and Topics"
   ]
  },
  {
   "cell_type": "code",
   "execution_count": null,
   "id": "700b4e20",
   "metadata": {},
   "outputs": [],
   "source": [
    "# Instantiate the Random Forest model\n",
    "# n_estimators is the number of trees in the forest, max_depth is the maximum depth of the trees\n",
    "random_forest = RandomForestClassifier(n_estimators=100, max_depth=None, n_jobs=-1, random_state=42)\n",
    "\n",
    "# Fit the model on the training data\n",
    "# Note: Random Forest handles the feature importance internally, so scaling is not as critical as in logistic regression\n",
    "random_forest.fit(X_train, y_train)\n",
    "\n",
    "# Training and test score\n",
    "train_score_rf = random_forest.score(X_train, y_train)\n",
    "test_score_rf = random_forest.score(X_test, y_test)\n",
    "\n",
    "print(f\"Train score: {train_score_rf}\")\n",
    "print(f\"Test score: {test_score_rf}\")"
   ]
  },
  {
   "cell_type": "code",
   "execution_count": null,
   "id": "593bc793",
   "metadata": {},
   "outputs": [],
   "source": [
    "# Extracting feature importance\n",
    "feature_importances = random_forest.feature_importances_\n",
    "\n",
    "# Getting feature names from the CountVectorizer\n",
    "# This assumes that 'bagofwords_transcript' was used to transform the data fed into the Random Forest\n",
    "feature_names = bagofwords_transcript.get_feature_names_out()\n",
    "\n",
    "# Check if the length of feature names matches the length of feature importances\n",
    "if len(feature_names) == len(feature_importances):\n",
    "    # Create a pandas DataFrame for easier manipulation and visualization\n",
    "    features_df = pd.DataFrame({\n",
    "        'Feature': feature_names,\n",
    "        'Importance': feature_importances\n",
    "    })\n",
    "\n",
    "    # Sort the DataFrame to show the most important features at the top\n",
    "    features_df = features_df.sort_values(by='Importance', ascending=False)\n",
    "\n",
    "    # Display the top N most important features\n",
    "    print(features_df.head(10))\n",
    "    print(features_df.tail(10))  \n",
    "else:\n",
    "    print(\"Mismatch in the length of feature names and importances\")"
   ]
  },
  {
   "cell_type": "markdown",
   "id": "49e7418a",
   "metadata": {},
   "source": [
    "## Only Topics\n",
    "\n",
    "Results:\n",
    "\n",
    "Logistic Regression:\n",
    "| Metric      | Score           |\n",
    "|-------------|-----------------|\n",
    "| Train score | 0.6415165165165165 |\n",
    "| Test score  | 0.6036036036036037 |\n",
    "\n",
    "\n",
    "Random Forest:\n",
    "| Metric      | Score           |\n",
    "|-------------|-----------------|\n",
    "| Train score | 0.9973723723723724 |\n",
    "| Test score  | 0.6171171171171171 |\n",
    "\n",
    "\n",
    "\n",
    "Logistic Regression (Top 10 Coefficients)\n",
    "| Feature          | Coefficient |\n",
    "|------------------|-------------|\n",
    "| society          | 0.036170    |\n",
    "| personal growth  | 0.024280    |\n",
    "| work             | 0.021501    |\n",
    "| social change    | 0.021344    |\n",
    "| business         | 0.018442    |\n",
    "| leadership       | 0.017648    |\n",
    "| psychology       | 0.017092    |\n",
    "| humanity         | 0.016840    |\n",
    "| education        | 0.015957    |\n",
    "| communication    | 0.015277    |\n",
    "\n",
    "Logistic Regression (Bottom 10 Coefficients)\n",
    "| Feature       | Coefficient |\n",
    "|---------------|-------------|\n",
    "| Africa        | -0.011622   |\n",
    "| india         | -0.011786   |\n",
    "| live music    | -0.012104   |\n",
    "| war           | -0.014104   |\n",
    "| technology    | -0.015705   |\n",
    "| TEDx          | -0.017136   |\n",
    "| art           | -0.018498   |\n",
    "| science       | -0.019425   |\n",
    "| design        | -0.027372   |\n",
    "| global issues | -0.045442   |\n",
    "\n",
    "\n",
    "Random Forest (Top 10 Features):\n",
    "| Feature       | Importance |\n",
    "|---------------|------------|\n",
    "| technology    | 0.015786   |\n",
    "| TEDx          | 0.015405   |\n",
    "| culture       | 0.015356   |\n",
    "| global issues | 0.012585   |\n",
    "| science       | 0.011720   |\n",
    "| design        | 0.011125   |\n",
    "| business      | 0.010850   |\n",
    "| entertainment | 0.009887   |\n",
    "| society       | 0.009571   |\n",
    "| art           | 0.009509   |\n",
    "\n",
    "\n",
    "\n",
    "Random Forest (Bottom 10 Features):\n",
    "| Feature         | Importance |\n",
    "|-----------------|------------|\n",
    "| skateboarding   | 0.000060   |\n",
    "| cooperation     | 0.000047   |\n",
    "| autism          | 0.000026   |\n",
    "| cloud           | 0.000018   |\n",
    "| start-up        | 0.000016   |\n",
    "| evil            | 0.000006   |\n",
    "| Social Science  | 0.000005   |\n",
    "| rap             | 0.000002   |\n",
    "| exoskeleton     | 0.000000   |\n",
    "| neurology       | 0.000000   |\n",
    "\n"
   ]
  },
  {
   "cell_type": "code",
   "execution_count": null,
   "id": "3ea8eb5a",
   "metadata": {},
   "outputs": [],
   "source": [
    "pd.options.display.max_rows = 40"
   ]
  },
  {
   "cell_type": "code",
   "execution_count": 119,
   "id": "8c23d6c2",
   "metadata": {},
   "outputs": [
    {
     "name": "stdout",
     "output_type": "stream",
     "text": [
      "(3330, 1)\n"
     ]
    }
   ],
   "source": [
    "# Dropping the non numerical columns\n",
    "only_topics_df = ready_to_merge_numerical_df[[\"percent_likes\"]]\n",
    "print(only_topics_df.shape)"
   ]
  },
  {
   "cell_type": "markdown",
   "id": "4119d896",
   "metadata": {},
   "source": [
    "We now have a dataframe to which we can merge the topics and occupations dummy variables."
   ]
  },
  {
   "cell_type": "code",
   "execution_count": 120,
   "id": "40403f26",
   "metadata": {},
   "outputs": [
    {
     "name": "stdout",
     "output_type": "stream",
     "text": [
      "(3330, 449)\n",
      "(3330, 1)\n"
     ]
    }
   ],
   "source": [
    "# Lets check the shape of the topics_df and ready_to_merge_numerical_df\n",
    "print(topics_df.shape)\n",
    "print(only_topics_df.shape)"
   ]
  },
  {
   "cell_type": "code",
   "execution_count": 121,
   "id": "e6e257cc",
   "metadata": {},
   "outputs": [],
   "source": [
    "# As all three dataframes have the same shape, we'll reset their indexes and merge them together\n",
    "# Reset the index of each DataFrame to ensure alignment\n",
    "topics_df_reset = topics_df.reset_index(drop=True)\n",
    "only_topics_df_reset = only_topics_df.reset_index(drop=True)"
   ]
  },
  {
   "cell_type": "code",
   "execution_count": 122,
   "id": "c08c9ab6",
   "metadata": {},
   "outputs": [
    {
     "data": {
      "text/plain": [
       "(3330, 450)"
      ]
     },
     "execution_count": 122,
     "metadata": {},
     "output_type": "execute_result"
    }
   ],
   "source": [
    "dummy_merged_df = pd.concat([topics_df_reset, only_topics_df_reset], axis=1)\n",
    "dummy_merged_df.shape"
   ]
  },
  {
   "cell_type": "code",
   "execution_count": 123,
   "id": "9d0394cf",
   "metadata": {},
   "outputs": [],
   "source": [
    "# creating a new column called 'good_speech' that is 1 if the speech is in the top 50% of percent_likes, and 0 if it is in the bottom 50% of percent_likes\n",
    "\n",
    "# Calculate the 50th percentile (median) of the 'percent_likes' column\n",
    "median_percent_likes = dummy_merged_df['percent_likes'].mean()\n",
    "\n",
    "# Create the 'good_speech' column based on the condition\n",
    "dummy_merged_df['good_speech'] = (dummy_merged_df['percent_likes'] >= median_percent_likes).astype(int)\n",
    "\n",
    "# Now, merged_cleaved_df has a new column 'good_speech' with 1s and 0s based on the condition\n",
    "\n",
    "dummy_merged_df.drop([\"percent_likes\"], axis=1, inplace=True) # Dropping the percent_likes column"
   ]
  },
  {
   "cell_type": "code",
   "execution_count": null,
   "id": "7004dff9",
   "metadata": {},
   "outputs": [],
   "source": [
    "# # Scaling the data\n",
    "\n",
    "# # Initialize the Min-Max Scaler\n",
    "# scaler = MinMaxScaler()\n",
    "\n",
    "# # List of columns to scale\n",
    "# columns_to_scale = ['comments', 'duration', 'num_question_marks',\n",
    "#        'questions_per_minute', 'num_laughs', 'laughs_per_minute']\n",
    "\n",
    "# # Scale the selected columns and replace in the dataframe\n",
    "# dummy_merged_df[columns_to_scale] = scaler.fit_transform(dummy_merged_df[columns_to_scale])"
   ]
  },
  {
   "cell_type": "code",
   "execution_count": 124,
   "id": "071f9024",
   "metadata": {},
   "outputs": [],
   "source": [
    "X=dummy_merged_df.drop(\"good_speech\", axis=1)\n",
    "y=dummy_merged_df[\"good_speech\"]\n",
    "\n",
    "# train/test split should be conducted before Vectorization\n",
    "X_train, X_test, y_train, y_test=train_test_split(X, y, test_size=0.2, random_state=42)\n"
   ]
  },
  {
   "cell_type": "markdown",
   "id": "e75adea6",
   "metadata": {},
   "source": [
    "## Logistic Regression on Topics"
   ]
  },
  {
   "cell_type": "markdown",
   "id": "6835ea27",
   "metadata": {},
   "source": [
    "We will use this as our baseline model."
   ]
  },
  {
   "cell_type": "code",
   "execution_count": 125,
   "id": "3acd89d9",
   "metadata": {},
   "outputs": [
    {
     "name": "stdout",
     "output_type": "stream",
     "text": [
      "Train score: 0.6415165165165165\n",
      "Test score: 0.6036036036036037\n"
     ]
    }
   ],
   "source": [
    "# Instantiate the Logistic Regression model\n",
    "logreg = LogisticRegression(C = 0.001, max_iter=1000, n_jobs=-1) \n",
    "\n",
    "#Fit the model\n",
    "logreg.fit(X_train, y_train)\n",
    "\n",
    "# Training and test score\n",
    "print(f\"Train score: {logreg.score(X_train, y_train)}\")\n",
    "print(f\"Test score: {logreg.score(X_test, y_test)}\")"
   ]
  },
  {
   "cell_type": "markdown",
   "id": "07910d68",
   "metadata": {},
   "source": [
    "What are the features with the highest coefficients (which features were most impactful in the model?)"
   ]
  },
  {
   "cell_type": "code",
   "execution_count": 126,
   "id": "01ae24b6",
   "metadata": {},
   "outputs": [
    {
     "name": "stdout",
     "output_type": "stream",
     "text": [
      "             Feature  Coefficient\n",
      "388          society     0.036170\n",
      "328  personal growth     0.024280\n",
      "443             work     0.021501\n",
      "386    social change     0.021344\n",
      "108         business     0.018442\n",
      "259       leadership     0.017648\n",
      "358       psychology     0.017092\n",
      "233         humanity     0.016840\n",
      "169        education     0.015957\n",
      "125    communication     0.015277\n",
      "           Feature  Coefficient\n",
      "3           Africa    -0.011622\n",
      "240          india    -0.011786\n",
      "263     live music    -0.012104\n",
      "435            war    -0.014104\n",
      "411     technology    -0.015705\n",
      "57            TEDx    -0.017136\n",
      "78             art    -0.018498\n",
      "372        science    -0.019425\n",
      "156         design    -0.027372\n",
      "214  global issues    -0.045442\n"
     ]
    }
   ],
   "source": [
    "feature_names = X_train.columns\n",
    "\n",
    "# Extracting coefficients\n",
    "coefficients = logreg.coef_[0]\n",
    "\n",
    "# Check if the length of feature names matches the length of coefficients\n",
    "if len(feature_names) == len(coefficients):\n",
    "    # Create a pandas DataFrame for easier manipulation\n",
    "    coefficients_df = pd.DataFrame({\n",
    "        'Feature': feature_names,\n",
    "        'Coefficient': coefficients\n",
    "    })\n",
    "\n",
    "    # Sort the DataFrame to show features with the highest coefficient values at the top\n",
    "    coefficients_df = coefficients_df.sort_values(by='Coefficient', ascending=False)\n",
    "\n",
    "    # Display the top N most impactful features\n",
    "    print(coefficients_df.head(10))  # Adjust the number of features you want to display\n",
    "    print(coefficients_df.tail(10))\n",
    "else:\n",
    "    print(\"Mismatch in the length of feature names and coefficients\")"
   ]
  },
  {
   "cell_type": "code",
   "execution_count": 137,
   "id": "4dcf6915",
   "metadata": {},
   "outputs": [
    {
     "data": {
      "image/png": "[encoded data removed]",
      "text/plain": [
       "<Figure size 1000x600 with 1 Axes>"
      ]
     },
     "metadata": {},
     "output_type": "display_data"
    }
   ],
   "source": [
    "name_mapping = {\n",
    "    'society': 'Society',\n",
    "    'personal growth': 'Personal Growth',\n",
    "    'work': 'Work',\n",
    "    'social change': 'Social Change',\n",
    "    'business': 'Business',\n",
    "    'TEDx': 'Tedx',\n",
    "    'art': 'Art',\n",
    "    'science': 'Science',\n",
    "    'design': 'Design',\n",
    "    'global issues': 'Global Issues'\n",
    "}\n",
    "\n",
    "# Apply the name mapping to the 'Feature' column\n",
    "coefficients_df['Feature'] = coefficients_df['Feature'].map(name_mapping).fillna(coefficients_df['Feature'])\n",
    "\n",
    "# Extracting top 5 and bottom 5 coefficients\n",
    "top_5 = coefficients_df.head(5)\n",
    "bottom_5 = coefficients_df.tail(5)\n",
    "\n",
    "# Combining top 5 and bottom 5 for plotting\n",
    "combined_df = pd.concat([top_5, bottom_5])\n",
    "\n",
    "# Plotting\n",
    "plt.figure(figsize=(10, 6))\n",
    "sns.barplot(x='Coefficient', y='Feature', data=combined_df, palette=\"coolwarm\")\n",
    "plt.title('TED Talk Topics and Their Impact on Speech Rating')\n",
    "plt.xlabel('Coefficient Value')\n",
    "plt.ylabel('TED Talk Topics')\n",
    "\n",
    "# Show plot\n",
    "plt.show()"
   ]
  },
  {
   "cell_type": "markdown",
   "id": "d731ee13",
   "metadata": {},
   "source": [
    "## Random Forest Classifier on Topics"
   ]
  },
  {
   "cell_type": "code",
   "execution_count": 127,
   "id": "aebcd51c",
   "metadata": {},
   "outputs": [
    {
     "name": "stdout",
     "output_type": "stream",
     "text": [
      "Train score: 0.9973723723723724\n",
      "Test score: 0.6171171171171171\n"
     ]
    }
   ],
   "source": [
    "# Instantiate the Random Forest model\n",
    "# n_estimators is the number of trees in the forest, max_depth is the maximum depth of the trees\n",
    "random_forest = RandomForestClassifier(n_estimators=100, max_depth=None, n_jobs=-1, random_state=42)\n",
    "\n",
    "# Fit the model on the training data\n",
    "# Note: Random Forest handles the feature importance internally, so scaling is not as critical as in logistic regression\n",
    "random_forest.fit(X_train, y_train)\n",
    "\n",
    "# Training and test score\n",
    "train_score_rf = random_forest.score(X_train, y_train)\n",
    "test_score_rf = random_forest.score(X_test, y_test)\n",
    "\n",
    "print(f\"Train score: {train_score_rf}\")\n",
    "print(f\"Test score: {test_score_rf}\")"
   ]
  },
  {
   "cell_type": "code",
   "execution_count": 132,
   "id": "bd09ace1",
   "metadata": {},
   "outputs": [
    {
     "name": "stdout",
     "output_type": "stream",
     "text": [
      "           Feature  Importance\n",
      "411     technology    0.015786\n",
      "57            TEDx    0.015405\n",
      "145        culture    0.015356\n",
      "214  global issues    0.012585\n",
      "372        science    0.011720\n",
      "156         design    0.011125\n",
      "108       business    0.010850\n",
      "176  entertainment    0.009887\n",
      "388        society    0.009571\n",
      "78             art    0.009509\n",
      "            Feature  Importance\n",
      "383   skateboarding    0.000060\n",
      "135     cooperation    0.000047\n",
      "85           autism    0.000026\n",
      "120           cloud    0.000018\n",
      "398        start-up    0.000016\n",
      "180            evil    0.000006\n",
      "41   Social Science    0.000005\n",
      "363             rap    0.000002\n",
      "184     exoskeleton    0.000000\n",
      "306       neurology    0.000000\n"
     ]
    }
   ],
   "source": [
    "# Extracting feature importance\n",
    "feature_importances = random_forest.feature_importances_\n",
    "\n",
    "# Getting feature names from the CountVectorizer\n",
    "# This assumes that 'bagofwords_transcript' was used to transform the data fed into the Random Forest\n",
    "feature_names = X_train.columns\n",
    "\n",
    "# Check if the length of feature names matches the length of feature importances\n",
    "if len(feature_names) == len(feature_importances):\n",
    "    # Create a pandas DataFrame for easier manipulation and visualization\n",
    "    features_df = pd.DataFrame({\n",
    "        'Feature': feature_names,\n",
    "        'Importance': feature_importances\n",
    "    })\n",
    "\n",
    "    # Sort the DataFrame to show the most important features at the top\n",
    "    features_df = features_df.sort_values(by='Importance', ascending=False)\n",
    "\n",
    "    # Display the top N most important features\n",
    "    print(features_df.head(10))\n",
    "    print(features_df.tail(10))  \n",
    "else:\n",
    "    print(\"Mismatch in the length of feature names and importances\")"
   ]
  },
  {
   "cell_type": "markdown",
   "id": "d66c453a",
   "metadata": {},
   "source": [
    "### Various Visualizations\n",
    "\n",
    "#### Questions/Laughs/Words per minute"
   ]
  },
  {
   "cell_type": "code",
   "execution_count": null,
   "id": "bcf8a809",
   "metadata": {},
   "outputs": [],
   "source": [
    "# Set the style of seaborn for better visualization\n",
    "sns.set(style=\"whitegrid\")\n",
    "\n",
    "# Create a scatter plot for 'questions_per_minute'\n",
    "plt.scatter(merged_cleaved_df['percent_likes'], merged_cleaved_df['questions_per_minute'], color='blue', alpha=0.5, label='Questions per Minute')\n",
    "\n",
    "# Create a scatter plot for 'laughs_per_minute' on the same axes\n",
    "plt.scatter(merged_cleaved_df['percent_likes'], merged_cleaved_df['laughs_per_minute'], color='red', alpha=0.5, label='Laughs per Minute')\n",
    "\n",
    "# Create a scatter plot for 'words_per_minute' on the same axes\n",
    "plt.scatter(merged_cleaved_df['percent_likes'], merged_cleaved_df['words_per_minute'], color='green', alpha=0.5, label='Words per Minute')\n",
    "\n",
    "# Adding title and labels\n",
    "plt.title('Questions, Laughs, and Words per Minute vs Percent Likes')\n",
    "plt.xlabel('Percent Likes')\n",
    "plt.ylabel('Frequency per Minute')\n",
    "\n",
    "# Adding legend to distinguish the groups\n",
    "plt.legend()\n",
    "\n",
    "# Show the plot\n",
    "plt.show()"
   ]
  },
  {
   "cell_type": "markdown",
   "id": "3734239f",
   "metadata": {},
   "source": [
    "We will have to scale this data to get a better visualization."
   ]
  },
  {
   "cell_type": "code",
   "execution_count": null,
   "id": "d49c21ce",
   "metadata": {},
   "outputs": [],
   "source": [
    "# Initialize the Min-Max Scaler\n",
    "scaler = MinMaxScaler()\n",
    "\n",
    "# List of columns to scale\n",
    "columns_to_scale = ['questions_per_minute', 'laughs_per_minute', 'words_per_minute', 'percent_likes']\n",
    "\n",
    "# Scale the selected columns and replace in the dataframe\n",
    "merged_cleaved_df[columns_to_scale] = scaler.fit_transform(merged_cleaved_df[columns_to_scale])\n",
    "\n",
    "# Set the style of seaborn for better visualization\n",
    "sns.set(style=\"whitegrid\")\n",
    "\n",
    "# Create scatter plots for the scaled variables\n",
    "plt.scatter(merged_cleaved_df['percent_likes'], merged_cleaved_df['words_per_minute'], color='green', alpha=0.3, label='Words per Minute')\n",
    "plt.scatter(merged_cleaved_df['percent_likes'], merged_cleaved_df['questions_per_minute'], color='blue', alpha=0.3, label='Questions per Minute')\n",
    "plt.scatter(merged_cleaved_df['percent_likes'], merged_cleaved_df['laughs_per_minute'], color='red', alpha=0.3, label='Laughs per Minute')\n",
    "\n",
    "\n",
    "# Adding title and labels\n",
    "plt.title('Questions, Laughs, and Words per Minute vs Percent Likes (Scaled)')\n",
    "plt.xlabel('Percent Likes (Scaled)')\n",
    "plt.ylabel('Frequency per Minute (Scaled)')\n",
    "\n",
    "# Adding legend to distinguish the groups\n",
    "plt.legend()\n",
    "\n",
    "# Show the plot\n",
    "plt.show()\n",
    "\n",
    "\n"
   ]
  },
  {
   "cell_type": "markdown",
   "id": "be3bdf9d",
   "metadata": {},
   "source": [
    "## Percent_Likes Correlation: Correlating with Topics"
   ]
  },
  {
   "cell_type": "code",
   "execution_count": null,
   "id": "4fdb4b83",
   "metadata": {},
   "outputs": [],
   "source": [
    "# Adding 'percent_likes' to the topics DataFrame for correlation analysis\n",
    "topics_with_likes = pd.concat([topics_df, merged_cleaved_df['percent_likes'].reset_index(drop=True)], axis=1)\n",
    "\n",
    "# Calculating the correlation\n",
    "correlation = topics_with_likes.corr()['percent_likes']\n",
    "\n",
    "# Dropping 'percent_likes' correlation with itself\n",
    "correlation = correlation.drop(labels=['percent_likes'])\n",
    "\n",
    "# Sorting the correlations to find the top 100 topics\n",
    "top_20_topics = correlation.sort_values(ascending=False).head(20)\n",
    "bottom_20_topics = correlation.sort_values(ascending=True).head(20)\n",
    "\n",
    "# Displaying the top 100 topics\n",
    "print(top_20_topics)\n",
    "print(bottom_20_topics)"
   ]
  },
  {
   "cell_type": "markdown",
   "id": "5cba3de2",
   "metadata": {},
   "source": [
    "## Percent_Likes Correlation: Correlating with Occupations"
   ]
  },
  {
   "cell_type": "code",
   "execution_count": null,
   "id": "55c37719",
   "metadata": {},
   "outputs": [],
   "source": [
    "# Adding 'percent_likes' to the occupations DataFrame for correlation analysis\n",
    "occupations_with_likes = pd.concat([occupations_df, merged_cleaved_df['percent_likes'].reset_index(drop=True)], axis=1)\n",
    "\n",
    "# Calculating the correlation\n",
    "correlation = occupations_with_likes.corr()['percent_likes']\n",
    "\n",
    "# Dropping 'percent_likes' correlation with itself\n",
    "correlation = correlation.drop(labels=['percent_likes'])\n",
    "\n",
    "# Sorting the correlations to find the top 100 topics\n",
    "top_20_topics = correlation.sort_values(ascending=False).head(20)\n",
    "bottom_20_topics = correlation.sort_values(ascending=True).head(20)\n",
    "\n",
    "# Displaying the top 100 topics\n",
    "print(top_20_topics)\n",
    "print(bottom_20_topics)"
   ]
  },
  {
   "cell_type": "markdown",
   "id": "6dbd8643",
   "metadata": {},
   "source": []
  },
  {
   "cell_type": "code",
   "execution_count": null,
   "id": "19538a00",
   "metadata": {},
   "outputs": [],
   "source": [
    "import matplotlib.pyplot as plt\n",
    "\n",
    "# Top 10 topics with highest positive correlation\n",
    "top_10_positive_topics = top_20_topics.head(10)\n",
    "\n",
    "# Top 10 topics with highest negative correlation\n",
    "# Remember, in bottom_100_topics, the most negative correlations are at the end, so we use tail()\n",
    "top_10_negative_topics = bottom_20_topics.tail(10)\n",
    "\n",
    "# Plotting the top 10 topics with highest positive correlation\n",
    "plt.figure(figsize=(10, 3))\n",
    "top_10_positive_topics.plot(kind='bar')\n",
    "plt.title('Top 10 Topics with Highest Positive Correlation with Percent Likes')\n",
    "plt.xlabel('Topics')\n",
    "plt.ylabel('Correlation Coefficient')\n",
    "plt.xticks(rotation=45)\n",
    "plt.show()\n",
    "\n",
    "# Plotting the top 10 topics with highest negative correlation\n",
    "plt.figure(figsize=(10, 3))\n",
    "top_10_negative_topics.plot(kind='bar')\n",
    "plt.title('Top 10 Topics with Highest Negative Correlation with Percent Like NOTE I DID THIS WRONG!!!')\n",
    "plt.xlabel('Topics')\n",
    "plt.ylabel('Correlation Coefficient')\n",
    "plt.xticks(rotation=45)\n",
    "plt.show()\n"
   ]
  },
  {
   "cell_type": "markdown",
   "id": "b2f22975",
   "metadata": {},
   "source": [
    "## Percent_Likes Correlation: Correlating with Various Features"
   ]
  },
  {
   "cell_type": "code",
   "execution_count": null,
   "id": "9d0f3609",
   "metadata": {},
   "outputs": [],
   "source": [
    "correlation = merged_cleaved_df[['questions_per_minute', 'laughs_per_minute', 'words_per_minute', 'percent_likes', 'ted_mainstage', 'published_year', 'published_month', 'recorded_year', 'recorded_month']].corr()\n",
    "print(correlation['percent_likes'])\n"
   ]
  },
  {
   "cell_type": "code",
   "execution_count": null,
   "id": "0ea08437",
   "metadata": {},
   "outputs": [],
   "source": [
    "import pandas as pd\n",
    "import matplotlib.pyplot as plt\n",
    "\n",
    "# Load your actual DataFrame here\n",
    "# merged_cleaved_df = pd.read_csv('your_file.csv')\n",
    "\n",
    "# Calculate the correlation matrix\n",
    "correlation = merged_cleaved_df[['published_year', 'published_month', 'recorded_year', 'recorded_month', 'percent_likes']].corr()\n",
    "\n",
    "# Extracting the correlation of specified columns with 'percent_likes'\n",
    "correlation_with_percent_likes = correlation['percent_likes'].drop('percent_likes', errors='ignore')\n",
    "\n",
    "# Plotting a bar chart\n",
    "plt.figure(figsize=(8, 6))\n",
    "correlation_with_percent_likes.plot(kind='bar')\n",
    "plt.title('Correlation with Percent Likes')\n",
    "plt.ylabel('Correlation Coefficient')\n",
    "plt.xlabel('Dates')\n",
    "plt.show()\n"
   ]
  },
  {
   "cell_type": "code",
   "execution_count": null,
   "id": "8d903f03",
   "metadata": {},
   "outputs": [],
   "source": [
    "# Creating dummy variables for 'published_year' and 'recorded_year'\n",
    "published_year_dummies = pd.get_dummies(merged_cleaved_df['published_year'], prefix='pub_year')\n",
    "recorded_year_dummies = pd.get_dummies(merged_cleaved_df['recorded_year'], prefix='rec_year')\n",
    "\n",
    "# Combining the dummy variables with 'percent_likes'\n",
    "combined_df = pd.concat([merged_cleaved_df['percent_likes'], published_year_dummies, recorded_year_dummies], axis=1)\n",
    "\n",
    "# Calculating the correlation\n",
    "correlation = combined_df.corr()\n",
    "\n",
    "# Extracting correlation with 'percent_likes' and removing the self-correlation\n",
    "correlation_with_percent_likes = correlation['percent_likes'].drop('percent_likes', errors='ignore')\n",
    "\n",
    "# Sorting the correlations to find the top ones\n",
    "sorted_correlation = correlation_with_percent_likes.sort_values(ascending=False)\n",
    "\n",
    "# Plotting the top correlations for 'published_year' and 'recorded_year'\n",
    "fig, axes = plt.subplots(nrows=2, ncols=1, figsize=(10, 12))\n",
    "\n",
    "# Top correlations for 'published_year'\n",
    "top_published_year = sorted_correlation.filter(like='pub_year').head(10)\n",
    "top_published_year.plot(kind='bar', ax=axes[0], color='blue')\n",
    "axes[0].set_title('Top 10 Correlations with Percent Likes - Published Year')\n",
    "axes[0].set_ylabel('Correlation Coefficient')\n",
    "\n",
    "# Top correlations for 'recorded_year'\n",
    "top_recorded_year = sorted_correlation.filter(like='rec_year').head(10)\n",
    "top_recorded_year.plot(kind='bar', ax=axes[1], color='green')\n",
    "axes[1].set_title('Top 10 Correlations with Percent Likes - Recorded Year')\n",
    "axes[1].set_ylabel('Correlation Coefficient')\n",
    "\n",
    "plt.tight_layout()\n",
    "plt.show()\n"
   ]
  },
  {
   "cell_type": "markdown",
   "id": "14180795",
   "metadata": {},
   "source": [
    "# Linear Regression on Various Features"
   ]
  },
  {
   "cell_type": "code",
   "execution_count": 100,
   "id": "3fc8f822",
   "metadata": {},
   "outputs": [
    {
     "name": "stdout",
     "output_type": "stream",
     "text": [
      "<class 'pandas.core.frame.DataFrame'>\n",
      "Index: 3330 entries, 0 to 3993\n",
      "Data columns (total 11 columns):\n",
      " #   Column                Non-Null Count  Dtype  \n",
      "---  ------                --------------  -----  \n",
      " 0   comments              3330 non-null   float64\n",
      " 1   duration              3330 non-null   int64  \n",
      " 2   multiple_speakers     3330 non-null   int64  \n",
      " 3   percent_likes         3330 non-null   float64\n",
      " 4   ted_mainstage         3330 non-null   int64  \n",
      " 5   word_count            3330 non-null   int64  \n",
      " 6   words_per_minute      3330 non-null   float64\n",
      " 7   num_question_marks    3330 non-null   int64  \n",
      " 8   questions_per_minute  3330 non-null   float64\n",
      " 9   num_laughs            3330 non-null   int64  \n",
      " 10  laughs_per_minute     3330 non-null   float64\n",
      "dtypes: float64(5), int64(6)\n",
      "memory usage: 312.2 KB\n",
      "(3330, 11)\n"
     ]
    }
   ],
   "source": [
    "# Dropping the non numerical columns\n",
    "ready_to_merge_numerical_df = merged_cleaved_df.select_dtypes(include=['int64', 'float64'])\n",
    "ready_to_merge_numerical_df.drop([\"talk_id\"], axis=1, inplace=True) # Dropping the talk_id column\n",
    "ready_to_merge_numerical_df.drop([\"likes\"], axis=1, inplace=True) # Dropping the likes column\n",
    "#ready_to_merge_numerical_df.drop([\"good_speech\"], axis=1, inplace=True) # Dropping the good_speech column\n",
    "ready_to_merge_numerical_df.drop([\"view\"], axis=1, inplace=True) # Dropping the view column\n",
    "ready_to_merge_numerical_df.info()\n",
    "print(ready_to_merge_numerical_df.shape)"
   ]
  },
  {
   "cell_type": "code",
   "execution_count": 101,
   "id": "0af8476e",
   "metadata": {},
   "outputs": [
    {
     "data": {
      "text/plain": [
       "Index(['comments', 'duration', 'multiple_speakers', 'percent_likes',\n",
       "       'ted_mainstage', 'word_count', 'words_per_minute', 'num_question_marks',\n",
       "       'questions_per_minute', 'num_laughs', 'laughs_per_minute'],\n",
       "      dtype='object')"
      ]
     },
     "execution_count": 101,
     "metadata": {},
     "output_type": "execute_result"
    }
   ],
   "source": [
    "ready_to_merge_numerical_df.columns"
   ]
  },
  {
   "cell_type": "code",
   "execution_count": 102,
   "id": "7a0c6514",
   "metadata": {},
   "outputs": [
    {
     "name": "stdout",
     "output_type": "stream",
     "text": [
      "R^2 Score: 0.010225277514163689\n",
      "                       Coefficient\n",
      "laughs_per_minute     6.814619e-03\n",
      "ted_mainstage         1.581614e-05\n",
      "num_question_marks    3.066136e-06\n",
      "comments              1.793214e-07\n",
      "word_count            1.076774e-08\n",
      "duration             -3.118684e-08\n",
      "num_laughs           -5.117746e-06\n",
      "words_per_minute     -2.340765e-05\n",
      "multiple_speakers    -1.061302e-04\n",
      "questions_per_minute -9.702146e-04\n"
     ]
    }
   ],
   "source": [
    "# Dropping the 'transcript' column\n",
    "\n",
    "# Selecting the independent and dependent variables\n",
    "X = ready_to_merge_numerical_df.drop('percent_likes', axis=1)\n",
    "y = ready_to_merge_numerical_df['percent_likes']\n",
    "\n",
    "# Splitting the data into training and testing sets\n",
    "X_train, X_test, y_train, y_test = train_test_split(X, y, test_size=0.2, random_state=42)\n",
    "\n",
    "# Creating the regression model\n",
    "model = LinearRegression()\n",
    "\n",
    "# Fitting the model\n",
    "model.fit(X_train, y_train)\n",
    "\n",
    "# Making predictions\n",
    "y_pred = model.predict(X_test)\n",
    "\n",
    "# Evaluating the model\n",
    "print(\"R^2 Score:\", r2_score(y_test, y_pred))\n",
    "\n",
    "# Displaying the coefficients\n",
    "coefficients = pd.DataFrame(model.coef_, X_train.columns, columns=['Coefficient']).sort_values(by='Coefficient', ascending=False)\n",
    "print(coefficients)\n"
   ]
  },
  {
   "cell_type": "code",
   "execution_count": 144,
   "id": "afeca642",
   "metadata": {},
   "outputs": [
    {
     "data": {
      "image/png": "[encoded data removed]",
      "text/plain": [
       "<Figure size 1000x800 with 1 Axes>"
      ]
     },
     "metadata": {},
     "output_type": "display_data"
    }
   ],
   "source": [
    "\n",
    "name_mapping = {\n",
    "    'laughs_per_minute': 'Laughs Per Minute',\n",
    "    'ted_mainstage': 'TED Mainstage',\n",
    "    'num_question_marks': '# of Question Marks',\n",
    "    'comments': '# of Website Comments',\n",
    "    'word_count': 'Total Words Spoken',\n",
    "    'duration': 'Duration of Talk',\n",
    "    'num_laughs': '# of Laughs',\n",
    "    'words_per_minute': 'Talking Speed',\n",
    "    'multiple_speakers': 'Multiple Speakers',\n",
    "    'questions_per_minute': 'Questions Per Minute'\n",
    "}\n",
    "\n",
    "# Assuming 'coefficients_reset' is your DataFrame from before\n",
    "# Rename the columns based on your mapping\n",
    "coefficients_reset['Feature'] = coefficients_reset['Feature'].map(name_mapping).fillna(coefficients_reset['Feature'])\n",
    "\n",
    "# Now create the bar plot with updated feature names\n",
    "plt.figure(figsize=(10, 8))  # Set figure size for better visibility\n",
    "sns.barplot(x='Coefficient', y='Feature', data=coefficients_reset, palette='coolwarm')\n",
    "plt.title('Linear Regression Coefficients')\n",
    "plt.xlabel('Coefficient Value')\n",
    "plt.ylabel('Features')\n",
    "\n",
    "# Show plot\n",
    "plt.show()\n"
   ]
  },
  {
   "cell_type": "markdown",
   "id": "34ee2f25",
   "metadata": {},
   "source": [
    "# LogReg Coefficients"
   ]
  },
  {
   "cell_type": "code",
   "execution_count": 103,
   "id": "703a189f",
   "metadata": {},
   "outputs": [
    {
     "ename": "NameError",
     "evalue": "name 'logreg' is not defined",
     "output_type": "error",
     "traceback": [
      "\u001b[0;31m---------------------------------------------------------------------------\u001b[0m",
      "\u001b[0;31mNameError\u001b[0m                                 Traceback (most recent call last)",
      "Cell \u001b[0;32mIn[103], line 4\u001b[0m\n\u001b[1;32m      1\u001b[0m \u001b[38;5;66;03m# Determining the top 20 coefficient words for positive reviews\u001b[39;00m\n\u001b[1;32m      2\u001b[0m \u001b[38;5;66;03m# This code was adapted from BrainStation's Text Data lecture notebook\u001b[39;00m\n\u001b[1;32m      3\u001b[0m word_counts \u001b[38;5;241m=\u001b[39m pd\u001b[38;5;241m.\u001b[39mDataFrame(\n\u001b[0;32m----> 4\u001b[0m     {\u001b[38;5;124m\"\u001b[39m\u001b[38;5;124mcoefficients\u001b[39m\u001b[38;5;124m\"\u001b[39m: \u001b[43mlogreg\u001b[49m\u001b[38;5;241m.\u001b[39mcoef_[\u001b[38;5;241m0\u001b[39m]},\n\u001b[1;32m      5\u001b[0m     index\u001b[38;5;241m=\u001b[39mbagofwords_transcript\u001b[38;5;241m.\u001b[39mget_feature_names_out()\n\u001b[1;32m      6\u001b[0m )\u001b[38;5;241m.\u001b[39msort_values(\u001b[38;5;124m\"\u001b[39m\u001b[38;5;124mcoefficients\u001b[39m\u001b[38;5;124m\"\u001b[39m, ascending\u001b[38;5;241m=\u001b[39m\u001b[38;5;28;01mFalse\u001b[39;00m)\n\u001b[1;32m      8\u001b[0m word_counts\u001b[38;5;241m.\u001b[39mhead(\u001b[38;5;241m10\u001b[39m)\u001b[38;5;241m.\u001b[39mplot(kind\u001b[38;5;241m=\u001b[39m\u001b[38;5;124m\"\u001b[39m\u001b[38;5;124mbar\u001b[39m\u001b[38;5;124m\"\u001b[39m, figsize\u001b[38;5;241m=\u001b[39m(\u001b[38;5;241m15\u001b[39m, \u001b[38;5;241m5\u001b[39m), legend\u001b[38;5;241m=\u001b[39m\u001b[38;5;28;01mFalse\u001b[39;00m)\n\u001b[1;32m      9\u001b[0m plt\u001b[38;5;241m.\u001b[39mtitle(\u001b[38;5;124m\"\u001b[39m\u001b[38;5;124mThe top 10 positive model coefficients indicating higher ratings\u001b[39m\u001b[38;5;124m\"\u001b[39m)\n",
      "\u001b[0;31mNameError\u001b[0m: name 'logreg' is not defined"
     ]
    }
   ],
   "source": [
    "# Determining the top 20 coefficient words for positive reviews\n",
    "# This code was adapted from BrainStation's Text Data lecture notebook\n",
    "word_counts = pd.DataFrame(\n",
    "    {\"coefficients\": logreg.coef_[0]},\n",
    "    index=bagofwords_transcript.get_feature_names_out()\n",
    ").sort_values(\"coefficients\", ascending=False)\n",
    "\n",
    "word_counts.head(10).plot(kind=\"bar\", figsize=(15, 5), legend=False)\n",
    "plt.title(\"The top 10 positive model coefficients indicating higher ratings\")\n",
    "plt.ylabel(\"Coefficients\")\n",
    "plt.xticks(rotation=45)\n",
    "plt.show()"
   ]
  },
  {
   "cell_type": "code",
   "execution_count": null,
   "id": "66109dc1",
   "metadata": {},
   "outputs": [],
   "source": [
    "# Determining the top 20 coefficient words for positive reviews\n",
    "# This code was adapted from BrainStation's Text Data lecture notebook\n",
    "word_counts = pd.DataFrame(\n",
    "    {\"coefficients\": logreg.coef_[0]},\n",
    "    index=bagofwords_transcript.get_feature_names_out()\n",
    ").sort_values(\"coefficients\", ascending=True)\n",
    "\n",
    "word_counts.head(10).plot(kind=\"bar\", figsize=(15, 5), legend=False)\n",
    "plt.title(\"The top 10 negative model coefficients indicating higher ratings\")\n",
    "plt.ylabel(\"Coefficients\")\n",
    "plt.xticks(rotation=45)\n",
    "plt.show()"
   ]
  },
  {
   "cell_type": "code",
   "execution_count": null,
   "metadata": {},
   "outputs": [],
   "source": []
  },
  {
   "cell_type": "code",
   "execution_count": null,
   "metadata": {},
   "outputs": [],
   "source": []
  },
  {
   "cell_type": "code",
   "execution_count": null,
   "id": "91f15c77",
   "metadata": {},
   "outputs": [],
   "source": []
  },
  {
   "cell_type": "code",
   "execution_count": null,
   "metadata": {},
   "outputs": [],
   "source": []
  },
  {
   "cell_type": "code",
   "execution_count": null,
   "metadata": {},
   "outputs": [],
   "source": []
  },
  {
   "cell_type": "code",
   "execution_count": null,
   "metadata": {},
   "outputs": [],
   "source": []
  },
  {
   "cell_type": "code",
   "execution_count": null,
   "metadata": {},
   "outputs": [],
   "source": []
  },
  {
   "cell_type": "code",
   "execution_count": null,
   "metadata": {},
   "outputs": [],
   "source": []
  },
  {
   "cell_type": "code",
   "execution_count": null,
   "id": "8dd43952",
   "metadata": {},
   "outputs": [],
   "source": []
  },
  {
   "cell_type": "code",
   "execution_count": null,
   "id": "946b6030",
   "metadata": {},
   "outputs": [],
   "source": []
  },
  {
   "cell_type": "code",
   "execution_count": null,
   "id": "60254091",
   "metadata": {},
   "outputs": [],
   "source": []
  },
  {
   "cell_type": "code",
   "execution_count": null,
   "id": "fb8a32fe",
   "metadata": {},
   "outputs": [],
   "source": [
    "sparse_matrix_train_df = pd.DataFrame(data=sparse_matrix_train.toarray(), columns=bagofwords_transcript.get_feature_names_out(), index=X_train.index)\n",
    "sparse_matrix_test_df = pd.DataFrame(data=sparse_matrix_test.toarray(), columns=bagofwords_transcript.get_feature_names_out(), index=X_test.index)"
   ]
  },
  {
   "cell_type": "code",
   "execution_count": null,
   "id": "def2d402",
   "metadata": {},
   "outputs": [],
   "source": [
    "merged_cleaved_df"
   ]
  },
  {
   "cell_type": "markdown",
   "id": "71b3a268",
   "metadata": {},
   "source": [
    "#### Addressing 'object' columns - changing them into numerical values, or dropping them altogether.\n",
    "\n",
    "- all_speakers      3331 non-null   object **DROPPED**\n",
    "- occupations       3331 non-null   object **ready for dummy variables**\n",
    "- about_speakers    3331 non-null   object **ready for vectorization**\n",
    "- native_lang       3331 non-null   object **DROPPED**\n",
    "- available_lang    3331 non-null   object **Create dummies?**\n",
    "- comments          3331 non-null   float64 **Ready for analysis**\n",
    "- topics            3331 non-null   object **Create dummies?**\n",
    "- related_talks     3331 non-null   object **CountVectorize?**\n",
    "- url               3331 non-null   object **Dropped**\n",
    "- description       3331 non-null   object **CountVectorize?**\n",
    "- transcript        3331 non-null   object **CountVectorize?**\n",
    "- title             3331 non-null   object **Dummy OR CountVectorize**?\n",
    "- speaker           3331 non-null   object **Dummy OR CountVectorize**?\n",
    "- recorded_date     3331 non-null   object **Changed to DateTime**\n",
    "- published_date    3331 non-null   object **Changed to DateTime**\n",
    "####  - event             3331 non-null   object **Ready for Dummies**\n",
    "\n",
    "#### Additional Columns Created:\n",
    "- published_year **ready for dummy variables**\n",
    "- published_month **ready for dummy variables**\n",
    "- recorded_year **ready for dummy variables**\n",
    "- recorded_month **ready for dummy variables**\n",
    "- percent_likes\n",
    "- ted_mainstage \n",
    "- multiple_speakers \n",
    "- word_count\n",
    "- words_minute\n",
    "- transformed_occupations **ready for dummy variables**"
   ]
  },
  {
   "cell_type": "code",
   "execution_count": null,
   "id": "3fbf04ef",
   "metadata": {},
   "outputs": [],
   "source": [
    "merged_cleaved_df"
   ]
  },
  {
   "cell_type": "markdown",
   "id": "4afc5bec",
   "metadata": {},
   "source": [
    "## Next Steps:\n",
    "\n",
    "Create dummy variables where possible.\n",
    "- event  **Ready for Dummies**\n",
    "- published_year **ready for dummy variables**\n",
    "- published_month **ready for dummy variables**\n",
    "- recorded_year **ready for dummy variables**\n",
    "- recorded_month **ready for dummy variables**\n",
    "- transformed_occupations **ready for dummy variables**\n",
    "\n",
    "\n",
    "Scale my dependent variable of \"percent-likes\"\n",
    "scale other non-dummy-variable columns\n",
    "- comments\n",
    "- views\n",
    "- duration\n",
    "- word_count\n",
    "- words_minute\n",
    "\n",
    "Drop the \"likes\" column, as it will correlate too strongly with 'percent_likes'.\n",
    "\n",
    "\n",
    "\n",
    "For Future Consideration:\n",
    "- available_lang    3331 non-null   object **Create dummies?** *temporarily drop*\n",
    "- topics            3331 non-null   object **Create dummies?**\n",
    "- related_talks     3331 non-null   object **CountVectorize?**\n",
    "- description       3331 non-null   object **CountVectorize?**\n",
    "- transcript        3331 non-null   object **CountVectorize?**\n",
    "- title             3331 non-null   object **Dummy OR CountVectorize**?\n",
    "- speaker           3331 non-null   object **Dummy OR CountVectorize**?\n"
   ]
  },
  {
   "cell_type": "markdown",
   "id": "93473634",
   "metadata": {},
   "source": [
    "## Creating Dummy Variables:\n"
   ]
  },
  {
   "cell_type": "code",
   "execution_count": null,
   "id": "e687276d",
   "metadata": {},
   "outputs": [],
   "source": [
    "merged_cleaved_df"
   ]
  },
  {
   "cell_type": "code",
   "execution_count": null,
   "id": "cb9f63f7",
   "metadata": {},
   "outputs": [],
   "source": [
    "# List of columns for which to create dummy variables\n",
    "columns_to_dummify = [\n",
    "    'event',\n",
    "    'published_year',\n",
    "    'published_month',\n",
    "    'recorded_year',\n",
    "    'recorded_month',\n",
    "    'transformed_occupations'\n",
    "]\n",
    "\n",
    "# Creating dummy variables\n",
    "for column in columns_to_dummify:\n",
    "    dummies = pd.get_dummies(merged_cleaved_df[column], prefix=column)\n",
    "    merged_cleaved_df = pd.concat([merged_cleaved_df, dummies], axis=1)\n",
    "    merged_cleaved_df.drop(column, axis=1, inplace=True)"
   ]
  },
  {
   "cell_type": "code",
   "execution_count": null,
   "id": "0189088b",
   "metadata": {},
   "outputs": [],
   "source": [
    "merged_cleaved_df"
   ]
  },
  {
   "cell_type": "code",
   "execution_count": null,
   "id": "7f421c2c",
   "metadata": {},
   "outputs": [],
   "source": [
    "# Dropping the \"likes\" column\n",
    "merged_cleaved_df.drop([\"likes\"], axis=1, inplace=True)"
   ]
  },
  {
   "cell_type": "markdown",
   "id": "394b29c9",
   "metadata": {},
   "source": [
    "# Creating a Temporary EDA DataFrame for only the numerical values that we have thus far:\n",
    "\n",
    "This means dropping the following columns:\n",
    "    'talk_id',\n",
    "    'occupations',\n",
    "    'about_speakers',\n",
    "    'available_lang',\n",
    "    'topics',\n",
    "    'related_talks',\n",
    "    'description',\n",
    "    'transcript',\n",
    "    'title',\n",
    "    'speaker'"
   ]
  },
  {
   "cell_type": "code",
   "execution_count": null,
   "id": "12fa7502",
   "metadata": {},
   "outputs": [],
   "source": [
    "# List of columns to drop\n",
    "columns_to_drop = [\n",
    "    'talk_id',\n",
    "    'occupations',\n",
    "    'about_speakers',\n",
    "    'available_lang',\n",
    "    'topics',\n",
    "    'related_talks',\n",
    "    'description',\n",
    "    'transcript',\n",
    "    'title',\n",
    "    'speaker',\n",
    "    'published_date',\n",
    "    'recorded_date'\n",
    "]\n",
    "\n",
    "# Creating a new DataFrame by dropping specified columns\n",
    "numeric_temp_df = merged_cleaved_df.drop(columns=columns_to_drop)\n",
    "numeric_temp_df.info()"
   ]
  },
  {
   "cell_type": "markdown",
   "id": "27086d00",
   "metadata": {},
   "source": [
    "We now have a temporary dataframe called \"numeric_temp_df\" with which we can run a linear regression against our dependent variable \"percent_likes\""
   ]
  },
  {
   "cell_type": "code",
   "execution_count": null,
   "id": "329edee5",
   "metadata": {},
   "outputs": [],
   "source": [
    "# Assuming your DataFrame is named numeric_temp_df and 'percent_likes' is your target variable\n",
    "X = numeric_temp_df.drop('percent_likes', axis=1)  # Features (all columns except 'percent_likes')\n",
    "y = numeric_temp_df['percent_likes']  # Target variable\n",
    "\n",
    "# Splitting the dataset into training and testing sets\n",
    "X_train, X_test, y_train, y_test = train_test_split(X, y, test_size=0.2, random_state=42)\n",
    "\n",
    "# Initialize the Standard Scaler\n",
    "scaler = StandardScaler()\n",
    "\n",
    "# Fit and transform the scaler on the training data\n",
    "X_train_scaled = scaler.fit_transform(X_train)\n",
    "\n",
    "# Transform the testing data (do not fit the scaler again!)\n",
    "X_test_scaled = scaler.transform(X_test)\n",
    "\n",
    "# Initialize the Linear Regression model\n",
    "model = LinearRegression(n_jobs=-1)\n",
    "\n",
    "# Fit the model on the scaled training data\n",
    "model.fit(X_train_scaled, y_train)\n",
    "\n",
    "# Now you can use model.predict(X_test_scaled) to make predictions on your test set"
   ]
  },
  {
   "cell_type": "code",
   "execution_count": null,
   "id": "29d1d2ad",
   "metadata": {},
   "outputs": [],
   "source": [
    "# 1. Calculate Accuracy Scores\n",
    "# Predict on training and testing data\n",
    "y_train_pred = model.predict(X_train_scaled)\n",
    "y_test_pred = model.predict(X_test_scaled)\n",
    "\n",
    "# Calculate R² score for training and testing sets\n",
    "r2_score_train = r2_score(y_train, y_train_pred)\n",
    "r2_score_test = r2_score(y_test, y_test_pred)\n",
    "\n",
    "print(\"R² score for training set:\", r2_score_train)\n",
    "print(\"R² score for testing set:\", r2_score_test)\n",
    "\n",
    "# 2. Identify Top 50 Positive and Negative Coefficients\n",
    "# Get the coefficients from the model and create a Series with column names\n",
    "coefficients = pd.Series(model.coef_, index=X.columns)\n",
    "\n",
    "# Sort the coefficients\n",
    "sorted_coefficients = coefficients.sort_values()\n",
    "\n",
    "# Top 50 negative coefficients\n",
    "top_50_negative = sorted_coefficients.head(50)\n",
    "\n",
    "# Top 50 positive coefficients\n",
    "top_50_positive = sorted_coefficients.tail(50).sort_values(ascending=False)\n",
    "\n",
    "print(\"Top 50 positive coefficients:\\n\", top_50_positive)\n",
    "print(\"\\nTop 50 negative coefficients:\\n\", top_50_negative)"
   ]
  },
  {
   "cell_type": "markdown",
   "id": "d0bf7dc0",
   "metadata": {},
   "source": [
    "## Next Steps:\n",
    "\n",
    "Let's look at the distribution of the column \"percent_likes\" to see if we can determine which talks are \"great\" talks and which ones are not.\n",
    "\n",
    "We will then create a binary variable at this level, and then run a logistic regression against this target variable."
   ]
  },
  {
   "cell_type": "code",
   "execution_count": null,
   "id": "e8ea3cc5",
   "metadata": {},
   "outputs": [],
   "source": [
    "# Extracting the 'percent_likes' column\n",
    "percent_likes = numeric_temp_df[['percent_likes']]\n",
    "\n",
    "# Initialize the Standard Scaler\n",
    "scaler = StandardScaler()\n",
    "\n",
    "# Scale the 'percent_likes' column\n",
    "percent_likes_scaled = scaler.fit_transform(percent_likes)\n",
    "\n",
    "# Now, percent_likes_scaled contains the scaled values of the 'percent_likes' column\n",
    "\n",
    "# Plotting the histogram of the scaled 'percent_likes' data\n",
    "plt.hist(percent_likes_scaled, bins=30, edgecolor='black')\n",
    "plt.title('Histogram of Scaled Percent Likes')\n",
    "plt.xlabel('Scaled (Std Scaler) Percent Likes')\n",
    "plt.ylabel('Frequency')\n",
    "plt.show()"
   ]
  },
  {
   "cell_type": "code",
   "execution_count": null,
   "metadata": {},
   "outputs": [],
   "source": [
    "# Extracting the 'percent_likes' column\n",
    "percent_likes = numeric_temp_df[['percent_likes']]\n",
    "\n",
    "# Initialize the Standard Scaler\n",
    "scaler = MinMaxScaler()\n",
    "\n",
    "# Scale the 'percent_likes' column\n",
    "percent_likes_scaled = scaler.fit_transform(percent_likes)\n",
    "\n",
    "# Now, percent_likes_scaled contains the scaled values of the 'percent_likes' column\n",
    "\n",
    "# Plotting the histogram of the scaled 'percent_likes' data\n",
    "plt.hist(percent_likes_scaled, bins=30, edgecolor='black')\n",
    "plt.title('Histogram of Scaled Percent Likes')\n",
    "plt.xlabel('Scaled (Min/Max) Percent Likes')\n",
    "plt.ylabel('Frequency')\n",
    "plt.show()"
   ]
  },
  {
   "cell_type": "code",
   "execution_count": null,
   "id": "6e9fedc7",
   "metadata": {},
   "outputs": [],
   "source": [
    "# Extracting the 'percent_likes' column\n",
    "percent_likes = numeric_temp_df[['percent_likes']]\n",
    "\n",
    "# Initialize the Standard Scaler\n",
    "scaler = RobustScaler()\n",
    "\n",
    "# Scale the 'percent_likes' column\n",
    "percent_likes_scaled = scaler.fit_transform(percent_likes)\n",
    "\n",
    "# Now, percent_likes_scaled contains the scaled values of the 'percent_likes' column\n",
    "\n",
    "# Plotting the histogram of the scaled 'percent_likes' data\n",
    "plt.hist(percent_likes_scaled, bins=30, edgecolor='black')\n",
    "plt.title('Histogram of Scaled Percent Likes')\n",
    "plt.xlabel('Scaled (Robust) Percent Likes')\n",
    "plt.ylabel('Frequency')\n",
    "plt.show()"
   ]
  }
 ],
 "metadata": {
  "kernelspec": {
   "display_name": "BSTN_cap_env",
   "language": "python",
   "name": "bstn_cap_env"
  },
  "language_info": {
   "codemirror_mode": {
    "name": "ipython",
    "version": 3
   },
   "file_extension": ".py",
   "mimetype": "text/x-python",
   "name": "python",
   "nbconvert_exporter": "python",
   "pygments_lexer": "ipython3",
   "version": "3.8.18"
  }
 },
 "nbformat": 4,
 "nbformat_minor": 5
}
